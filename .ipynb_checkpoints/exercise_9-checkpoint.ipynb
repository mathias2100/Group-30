{
 "cells": [
  {
   "cell_type": "markdown",
   "metadata": {},
   "source": [
    "> **Note:** In most sessions you will be solving exercises posed in a Jupyter notebook that looks like this one. Because you are cloning a Github repository that only we can push to, you should **NEVER EDIT** any of the files you pull from Github. Instead, what you should do, is either make a new notebook and write your solutions in there, or **make a copy of this notebook and save it somewhere else** on your computer, not inside the `sds` folder that you cloned, so you can write your answers in there. If you edit the notebook you pulled from Github, those edits (possible your solutions to the exercises) may be overwritten and lost the next time you pull from Github. This is important, so don't hesitate to ask if it is unclear."
   ]
  },
  {
   "cell_type": "markdown",
   "metadata": {
    "ExecuteTime": {
     "end_time": "2017-08-23T15:30:03.634114Z",
     "start_time": "2017-08-23T15:30:03.629294Z"
    }
   },
   "source": [
    "# Exercise Set 9: Parsing and Information Extraction\n",
    "\n",
    "*Morning, August 17, 2018*\n",
    "\n",
    "In this Exercise Set we shall develop our webscraping skills even further by practicing navigating html trees using BeautifoulSoup and furthermore train extracting information from raw text with no html tags to help, using regular expressions. "
   ]
  },
  {
   "cell_type": "markdown",
   "metadata": {},
   "source": [
    "## Exercise Section 9.1: Parsing a Table from HTML using BeautifulSoup.\n",
    "\n",
    "Yesterday I showed you a neat little prepackaged function in pandas that did all the work. However today we should learn the mechanics of it. *(It is not just for educational purposes, sometimes the package will not do exactly as you want.)*\n",
    "\n",
    "We hit the Basketball stats page from yesterday again: https://www.basketball-reference.com/leagues/NBA_2018.html.\n"
   ]
  },
  {
   "cell_type": "markdown",
   "metadata": {},
   "source": [
    "> **Ex. 9.1.1:** Here we practice simply locating the table node of interest using the `find` method build into BeautifoulSoup. But first we have to fetch the HTML using the `requests` module. Parse the tree using `BeautifulSoup`. And then use the **>Inspector<** tool (* right click on the table < press inspect element *) in your browser to see how to locate the Eastern Conference table node - i.e. the *tag* name of the node, and maybe some defining *attributes*."
   ]
  },
  {
   "cell_type": "code",
   "execution_count": 1,
   "metadata": {},
   "outputs": [],
   "source": [
    "# [Answer to Ex. 9.1.1]\n",
    "import requests\n",
    "from bs4 import BeautifulSoup\n",
    "url = 'https://www.basketball-reference.com/leagues/NBA_2018.html'\n",
    "response = requests.get(url)\n",
    "html = response.text\n",
    "soup = BeautifulSoup(html,'lxml')"
   ]
  },
  {
   "cell_type": "markdown",
   "metadata": {},
   "source": [
    "You have located the table should now build a function that starts at a \"table node\" and parses the information, and outputs a pandas DataFrame. \n",
    "\n",
    "Inspect the element either within the notebook or through the **>Inspector<** tool and start to see how a table is written in html. Which tag names can be used to locate rows? How will you iterate through columns. Were is the header located?\n",
    "\n",
    "> **Ex. 9.1.2:** First you parse the header which can be found in the canonical tag name: thead. \n",
    "Next you use the `find_all` method to search for the tag, and iterate through each of the elements extracting the text, using the `.text` method builtin to the the node object. Store the header values in a list container. "
   ]
  },
  {
   "cell_type": "code",
   "execution_count": 27,
   "metadata": {},
   "outputs": [
    {
     "name": "stdout",
     "output_type": "stream",
     "text": [
      "[<tr>\n",
      "<th aria-label=\"Eastern Conference\" class=\" poptip sort_default_asc left\" data-stat=\"team_name\" scope=\"col\">Eastern Conference</th>\n",
      "<th aria-label=\"Wins\" class=\" poptip right\" data-stat=\"wins\" data-tip=\"Wins\" scope=\"col\">W</th>\n",
      "<th aria-label=\"Losses\" class=\" poptip right\" data-stat=\"losses\" data-tip=\"Losses\" scope=\"col\">L</th>\n",
      "<th aria-label=\"Win-Loss Percentage\" class=\" poptip right\" data-stat=\"win_loss_pct\" data-tip=\"Win-Loss Percentage\" scope=\"col\">W/L%</th>\n",
      "<th aria-label=\"Games Behind\" class=\" poptip sort_default_asc right\" data-stat=\"gb\" data-tip=\"Games Behind\" scope=\"col\">GB</th>\n",
      "<th aria-label=\"Points Per Game\" class=\" poptip right\" data-stat=\"pts_per_g\" data-tip=\"Points Per Game\" scope=\"col\">PS/G</th>\n",
      "<th aria-label=\"Opponent Points Per Game\" class=\" poptip right\" data-stat=\"opp_pts_per_g\" data-tip=\"Opponent Points Per Game\" scope=\"col\">PA/G</th>\n",
      "<th aria-label=\"Simple Rating System\" class=\" poptip right\" data-stat=\"srs\" data-tip=\"Simple Rating System; a team rating that takes into account average point differential and strength of schedule. The rating is denominated in points above/below average, where zero is average.\" scope=\"col\">SRS</th>\n",
      "</tr>, <tr class=\"full_table\"><th class=\"left \" data-stat=\"team_name\" scope=\"row\"><a href=\"/teams/TOR/2018.html\">Toronto Raptors</a>* <span class=\"seed\">(1) </span></th><td class=\"right \" data-stat=\"wins\">59</td><td class=\"right \" data-stat=\"losses\">23</td><td class=\"right \" data-stat=\"win_loss_pct\">.720</td><td class=\"right \" data-stat=\"gb\">—</td><td class=\"right \" data-stat=\"pts_per_g\">111.7</td><td class=\"right \" data-stat=\"opp_pts_per_g\">103.9</td><td class=\"right \" data-stat=\"srs\">7.29</td></tr>, <tr class=\"full_table\"><th class=\"left \" data-stat=\"team_name\" scope=\"row\"><a href=\"/teams/BOS/2018.html\">Boston Celtics</a>* <span class=\"seed\">(2) </span></th><td class=\"right \" data-stat=\"wins\">55</td><td class=\"right \" data-stat=\"losses\">27</td><td class=\"right \" data-stat=\"win_loss_pct\">.671</td><td class=\"right \" data-stat=\"gb\">4.0</td><td class=\"right \" data-stat=\"pts_per_g\">104.0</td><td class=\"right \" data-stat=\"opp_pts_per_g\">100.4</td><td class=\"right \" data-stat=\"srs\">3.23</td></tr>, <tr class=\"full_table\"><th class=\"left \" data-stat=\"team_name\" scope=\"row\"><a href=\"/teams/PHI/2018.html\">Philadelphia 76ers</a>* <span class=\"seed\">(3) </span></th><td class=\"right \" data-stat=\"wins\">52</td><td class=\"right \" data-stat=\"losses\">30</td><td class=\"right \" data-stat=\"win_loss_pct\">.634</td><td class=\"right \" data-stat=\"gb\">7.0</td><td class=\"right \" data-stat=\"pts_per_g\">109.8</td><td class=\"right \" data-stat=\"opp_pts_per_g\">105.3</td><td class=\"right \" data-stat=\"srs\">4.30</td></tr>, <tr class=\"full_table\"><th class=\"left \" data-stat=\"team_name\" scope=\"row\"><a href=\"/teams/CLE/2018.html\">Cleveland Cavaliers</a>* <span class=\"seed\">(4) </span></th><td class=\"right \" data-stat=\"wins\">50</td><td class=\"right \" data-stat=\"losses\">32</td><td class=\"right \" data-stat=\"win_loss_pct\">.610</td><td class=\"right \" data-stat=\"gb\">9.0</td><td class=\"right \" data-stat=\"pts_per_g\">110.9</td><td class=\"right \" data-stat=\"opp_pts_per_g\">109.9</td><td class=\"right \" data-stat=\"srs\">0.59</td></tr>, <tr class=\"full_table\"><th class=\"left \" data-stat=\"team_name\" scope=\"row\"><a href=\"/teams/IND/2018.html\">Indiana Pacers</a>* <span class=\"seed\">(5) </span></th><td class=\"right \" data-stat=\"wins\">48</td><td class=\"right \" data-stat=\"losses\">34</td><td class=\"right \" data-stat=\"win_loss_pct\">.585</td><td class=\"right \" data-stat=\"gb\">11.0</td><td class=\"right \" data-stat=\"pts_per_g\">105.6</td><td class=\"right \" data-stat=\"opp_pts_per_g\">104.2</td><td class=\"right \" data-stat=\"srs\">1.18</td></tr>, <tr class=\"full_table\"><th class=\"left \" data-stat=\"team_name\" scope=\"row\"><a href=\"/teams/MIA/2018.html\">Miami Heat</a>* <span class=\"seed\">(6) </span></th><td class=\"right \" data-stat=\"wins\">44</td><td class=\"right \" data-stat=\"losses\">38</td><td class=\"right \" data-stat=\"win_loss_pct\">.537</td><td class=\"right \" data-stat=\"gb\">15.0</td><td class=\"right \" data-stat=\"pts_per_g\">103.4</td><td class=\"right \" data-stat=\"opp_pts_per_g\">102.9</td><td class=\"right \" data-stat=\"srs\">0.15</td></tr>, <tr class=\"full_table\"><th class=\"left \" data-stat=\"team_name\" scope=\"row\"><a href=\"/teams/MIL/2018.html\">Milwaukee Bucks</a>* <span class=\"seed\">(7) </span></th><td class=\"right \" data-stat=\"wins\">44</td><td class=\"right \" data-stat=\"losses\">38</td><td class=\"right \" data-stat=\"win_loss_pct\">.537</td><td class=\"right \" data-stat=\"gb\">15.0</td><td class=\"right \" data-stat=\"pts_per_g\">106.5</td><td class=\"right \" data-stat=\"opp_pts_per_g\">106.8</td><td class=\"right \" data-stat=\"srs\">-0.45</td></tr>, <tr class=\"full_table\"><th class=\"left \" data-stat=\"team_name\" scope=\"row\"><a href=\"/teams/WAS/2018.html\">Washington Wizards</a>* <span class=\"seed\">(8) </span></th><td class=\"right \" data-stat=\"wins\">43</td><td class=\"right \" data-stat=\"losses\">39</td><td class=\"right \" data-stat=\"win_loss_pct\">.524</td><td class=\"right \" data-stat=\"gb\">16.0</td><td class=\"right \" data-stat=\"pts_per_g\">106.6</td><td class=\"right \" data-stat=\"opp_pts_per_g\">106.0</td><td class=\"right \" data-stat=\"srs\">0.53</td></tr>, <tr class=\"full_table\"><th class=\"left \" data-stat=\"team_name\" scope=\"row\"><a href=\"/teams/DET/2018.html\">Detroit Pistons</a> <span class=\"seed\">(9) </span></th><td class=\"right \" data-stat=\"wins\">39</td><td class=\"right \" data-stat=\"losses\">43</td><td class=\"right \" data-stat=\"win_loss_pct\">.476</td><td class=\"right \" data-stat=\"gb\">20.0</td><td class=\"right \" data-stat=\"pts_per_g\">103.8</td><td class=\"right \" data-stat=\"opp_pts_per_g\">103.9</td><td class=\"right \" data-stat=\"srs\">-0.26</td></tr>, <tr class=\"full_table\"><th class=\"left \" data-stat=\"team_name\" scope=\"row\"><a href=\"/teams/CHO/2018.html\">Charlotte Hornets</a> <span class=\"seed\">(10) </span></th><td class=\"right \" data-stat=\"wins\">36</td><td class=\"right \" data-stat=\"losses\">46</td><td class=\"right \" data-stat=\"win_loss_pct\">.439</td><td class=\"right \" data-stat=\"gb\">23.0</td><td class=\"right \" data-stat=\"pts_per_g\">108.2</td><td class=\"right \" data-stat=\"opp_pts_per_g\">108.0</td><td class=\"right \" data-stat=\"srs\">0.07</td></tr>, <tr class=\"full_table\"><th class=\"left \" data-stat=\"team_name\" scope=\"row\"><a href=\"/teams/NYK/2018.html\">New York Knicks</a> <span class=\"seed\">(11) </span></th><td class=\"right \" data-stat=\"wins\">29</td><td class=\"right \" data-stat=\"losses\">53</td><td class=\"right \" data-stat=\"win_loss_pct\">.354</td><td class=\"right \" data-stat=\"gb\">30.0</td><td class=\"right \" data-stat=\"pts_per_g\">104.5</td><td class=\"right \" data-stat=\"opp_pts_per_g\">108.0</td><td class=\"right \" data-stat=\"srs\">-3.53</td></tr>, <tr class=\"full_table\"><th class=\"left \" data-stat=\"team_name\" scope=\"row\"><a href=\"/teams/BRK/2018.html\">Brooklyn Nets</a> <span class=\"seed\">(12) </span></th><td class=\"right \" data-stat=\"wins\">28</td><td class=\"right \" data-stat=\"losses\">54</td><td class=\"right \" data-stat=\"win_loss_pct\">.341</td><td class=\"right \" data-stat=\"gb\">31.0</td><td class=\"right \" data-stat=\"pts_per_g\">106.6</td><td class=\"right \" data-stat=\"opp_pts_per_g\">110.3</td><td class=\"right \" data-stat=\"srs\">-3.67</td></tr>, <tr class=\"full_table\"><th class=\"left \" data-stat=\"team_name\" scope=\"row\"><a href=\"/teams/CHI/2018.html\">Chicago Bulls</a> <span class=\"seed\">(13) </span></th><td class=\"right \" data-stat=\"wins\">27</td><td class=\"right \" data-stat=\"losses\">55</td><td class=\"right \" data-stat=\"win_loss_pct\">.329</td><td class=\"right \" data-stat=\"gb\">32.0</td><td class=\"right \" data-stat=\"pts_per_g\">102.9</td><td class=\"right \" data-stat=\"opp_pts_per_g\">110.0</td><td class=\"right \" data-stat=\"srs\">-6.84</td></tr>, <tr class=\"full_table\"><th class=\"left \" data-stat=\"team_name\" scope=\"row\"><a href=\"/teams/ORL/2018.html\">Orlando Magic</a> <span class=\"seed\">(14) </span></th><td class=\"right \" data-stat=\"wins\">25</td><td class=\"right \" data-stat=\"losses\">57</td><td class=\"right \" data-stat=\"win_loss_pct\">.305</td><td class=\"right \" data-stat=\"gb\">34.0</td><td class=\"right \" data-stat=\"pts_per_g\">103.4</td><td class=\"right \" data-stat=\"opp_pts_per_g\">108.2</td><td class=\"right \" data-stat=\"srs\">-4.92</td></tr>, <tr class=\"full_table\"><th class=\"left \" data-stat=\"team_name\" scope=\"row\"><a href=\"/teams/ATL/2018.html\">Atlanta Hawks</a> <span class=\"seed\">(15) </span></th><td class=\"right \" data-stat=\"wins\">24</td><td class=\"right \" data-stat=\"losses\">58</td><td class=\"right \" data-stat=\"win_loss_pct\">.293</td><td class=\"right \" data-stat=\"gb\">35.0</td><td class=\"right \" data-stat=\"pts_per_g\">103.4</td><td class=\"right \" data-stat=\"opp_pts_per_g\">108.8</td><td class=\"right \" data-stat=\"srs\">-5.30</td></tr>]\n"
     ]
    },
    {
     "data": {
      "text/plain": [
       "[[],\n",
       " ['59', '23', '.720', '—', '111.7', '103.9', '7.29'],\n",
       " ['55', '27', '.671', '4.0', '104.0', '100.4', '3.23'],\n",
       " ['52', '30', '.634', '7.0', '109.8', '105.3', '4.30'],\n",
       " ['50', '32', '.610', '9.0', '110.9', '109.9', '0.59'],\n",
       " ['48', '34', '.585', '11.0', '105.6', '104.2', '1.18'],\n",
       " ['44', '38', '.537', '15.0', '103.4', '102.9', '0.15'],\n",
       " ['44', '38', '.537', '15.0', '106.5', '106.8', '-0.45'],\n",
       " ['43', '39', '.524', '16.0', '106.6', '106.0', '0.53'],\n",
       " ['39', '43', '.476', '20.0', '103.8', '103.9', '-0.26'],\n",
       " ['36', '46', '.439', '23.0', '108.2', '108.0', '0.07'],\n",
       " ['29', '53', '.354', '30.0', '104.5', '108.0', '-3.53'],\n",
       " ['28', '54', '.341', '31.0', '106.6', '110.3', '-3.67'],\n",
       " ['27', '55', '.329', '32.0', '102.9', '110.0', '-6.84'],\n",
       " ['25', '57', '.305', '34.0', '103.4', '108.2', '-4.92'],\n",
       " ['24', '58', '.293', '35.0', '103.4', '108.8', '-5.30']]"
      ]
     },
     "execution_count": 27,
     "metadata": {},
     "output_type": "execute_result"
    }
   ],
   "source": [
    "# [Answer to Ex. 9.1.2]\n",
    "import pandas as pd\n",
    "table = soup.find('table', attrs={'id':'confs_standings_E'})\n",
    "table_rows = table.find_all('tr')\n",
    "print(table_rows)\n",
    "def func_to_pd(rows):\n",
    "    l = []\n",
    "    for tr in rows:\n",
    "        td = tr.find_all('td')\n",
    "        row = [tr.text for tr in td]\n",
    "        l.append(row)\n",
    "    pd.DataFrame(l, columns=[\"Name\", \"W\",\"L\",\"W/L%\",\"GB\", \"PS/G\",\"PA/G\" ])\n",
    "    return l\n",
    "func_to_pd(table_rows)"
   ]
  },
  {
   "cell_type": "markdown",
   "metadata": {},
   "source": [
    "> **Ex. 9.1.3:** Next you locate the rows, using the canonical tag name: tbody. And from here you search for all rows tags. Fiugre out the tag name yourself, inspecting the tbody node in python or using the **Inspector**. "
   ]
  },
  {
   "cell_type": "code",
   "execution_count": 25,
   "metadata": {},
   "outputs": [
    {
     "name": "stdout",
     "output_type": "stream",
     "text": [
      "[['Toronto Raptors', 'Boston Celtics', 'Philadelphia 76ers', 'Cleveland Cavaliers', 'Indiana Pacers', 'Miami Heat', 'Milwaukee Bucks', 'Washington Wizards', 'Detroit Pistons', 'Charlotte Hornets', 'New York Knicks', 'Brooklyn Nets', 'Chicago Bulls', 'Orlando Magic', 'Atlanta Hawks']]\n"
     ]
    }
   ],
   "source": [
    "# [Answer to Ex. 9.1.3]\n",
    "table_rows_tags = table.find_all('tbody')\n",
    "# print(table_rows_tags)\n",
    "l1 = []\n",
    "for x in table_rows_tags:\n",
    "    a = x.find_all('a')\n",
    "    row = [x.text for x in a]\n",
    "    l1.append(row)\n",
    "print(l1)"
   ]
  },
  {
   "cell_type": "markdown",
   "metadata": {},
   "source": [
    "> **Ex. 9.1.4:** Next run through all the rows and extract each value, similar to how you extracted the header. However here is a slight variation: Since each value node can have a different tag depending on whether it is a digit or a string, you should use the `.children` method instead of the `.find_all` - (or write compile a regex that matches both the td tag and the th tag.) \n",
    ">Once the value nodes of each row has been located using the `.children` method you should extract the value. Store the extracted rows as a list of lists: ```[[val1,val2,...valk],...]```"
   ]
  },
  {
   "cell_type": "code",
   "execution_count": 5,
   "metadata": {},
   "outputs": [],
   "source": [
    "# [Answer to Ex. 9.1.4]"
   ]
  },
  {
   "cell_type": "markdown",
   "metadata": {},
   "source": [
    "> **Ex. 9.1.5:** Convert the data you have collected into a pandas dataframe. _Bonus:_ convert the code you've written above into a function which scrapes the page for you and returns a dataframe. "
   ]
  },
  {
   "cell_type": "code",
   "execution_count": 55,
   "metadata": {},
   "outputs": [],
   "source": [
    "#[Answer 9.1.5]"
   ]
  },
  {
   "cell_type": "markdown",
   "metadata": {},
   "source": [
    "> **Ex. 9.1.6:** Now locate all tables from the page, using the `.find_all` method searching for the table tag name. Iterate through the table nodes and apply the function created for parsing html tables. Store each table in a dictionary using the table name as key. The name is found by accessing the id attribute of each table node, using dictionary-style syntax - i.e. `table_node['id']`."
   ]
  },
  {
   "cell_type": "code",
   "execution_count": 56,
   "metadata": {},
   "outputs": [],
   "source": [
    "# [Answer to Ex. 9.1.6]"
   ]
  },
  {
   "cell_type": "markdown",
   "metadata": {},
   "source": [
    "> ** 9.1.extra.:** Compare your results to the pandas implementation. "
   ]
  },
  {
   "cell_type": "markdown",
   "metadata": {},
   "source": [
    "## Exercise Section 9.2: Practicing Regular Expressions.\n",
    "This exercise is about developing your experience with designing your own regular expressions.\n",
    "\n",
    "Remember you can always consult the regular expression reference page [here](https://www.regular-expressions.info/refquick.html), if you need to remember or understand a specific symbol. \n",
    "\n",
    "You should practice using *\"define-inspect-refine-method\"* described in the lectures to systematically ***explore*** and ***refine*** your expressions, and save all the patterns tried. You can download the small module that I created to handle this in the following way: \n",
    "``` python\n",
    "import requests\n",
    "url = 'https://raw.githubusercontent.com/snorreralund/explore_regex/master/explore_regex.py'\n",
    "response = requests.get(url)\n",
    "with open('explore_regex.py','w') as f:\n",
    "    f.write(response.text)\n",
    "import explore_regex as e_re\n",
    "```\n",
    "\n",
    "Remember to start ***broad*** to gain many examples, and iteratively narrow and refine.\n",
    "\n",
    "We will use a sample of the trustpilot dataset that you practiced collecting yesterday.\n",
    "You can load it directly into python from the following link: https://raw.githubusercontent.com/snorreralund/scraping_seminar/master/english_review_sample.csv"
   ]
  },
  {
   "cell_type": "markdown",
   "metadata": {},
   "source": [
    "> **Ex. 9.2.0:** Load the data used in the exercise using the `pd.read_csv` function. (Hint: path to file can be both a url or systempath). \n",
    "\n",
    ">Define a variable `sample_string = '\\n'.join(df.sample(2000).reviewBody)` as sample of all the reviews that you will practice on.  (Run it once in a while to get a new sample for potential differences).\n",
    "Imagine we were a company wanting to find the reviews where customers are concerned with the price of a service. They decide to write a regular expression to match all reviews where a currencies and an amount is mentioned. \n",
    "\n"
   ]
  },
  {
   "cell_type": "code",
   "execution_count": null,
   "metadata": {},
   "outputs": [],
   "source": [
    "# [Answer to Ex. 9.2.0]\n",
    "import requests\n",
    "url = 'https://raw.githubusercontent.com/snorreralund/explore_regex/master/explore_regex.py'\n",
    "response = requests.get(url)\n",
    "with open('explore_regex.py','w') as f:\n",
    "    f.write(response.text)\n",
    "\n",
    "    \n",
    "import explore_regex as e_re\n",
    "\n",
    "\n",
    "\n",
    "import pandas as pd\n",
    "import re\n",
    "path2data = 'https://raw.githubusercontent.com/snorreralund/scraping_seminar/master/danish_review_sample.csv'\n",
    "df = pd.read_csv(path2data)\n",
    "df.to_csv('danish_review_sample.csv',index=False)\n",
    "\n"
   ]
  },
  {
   "cell_type": "markdown",
   "metadata": {},
   "source": [
    "> **Ex. 9.2.1:** \n",
    "> Write an expression that matches both the dollar-sign (\\$) and dollar written literally, and the amount before or after a dollar-sign. Remember that the \"$\"-sign is a special character in regular expressions. Explore and refine using the explore_pattern function in the package I created called explore_regex. \n",
    "```python\n",
    "import explore_regex as e_re\n",
    "explore_regex = e_re.Explore_Regex(sample_string) # Initaizlie the Explore regex Class.\n",
    "explore_regex.explore_pattern(pattern) # Use the .explore_pattern method.\n",
    "```\n",
    "\n",
    "\n",
    "Start with exploring the context around digits (\"\\d\") in the data. "
   ]
  },
  {
   "cell_type": "code",
   "execution_count": 26,
   "metadata": {},
   "outputs": [],
   "source": [
    "# [Answer to exercise 9.2.1] "
   ]
  },
  {
   "cell_type": "markdown",
   "metadata": {},
   "source": [
    "> **Ex.9.2.3** Use the .report() method. e_re.report(), and print the all patterns in the development process using the .pattern method - i.e. e_re.patterns \n"
   ]
  },
  {
   "cell_type": "code",
   "execution_count": null,
   "metadata": {},
   "outputs": [],
   "source": [
    "# [Answer 9.2.3]"
   ]
  },
  {
   "cell_type": "markdown",
   "metadata": {},
   "source": [
    ">** Ex. 9.2.4** \n",
    "Finally write a function that takes in a string and outputs if there is a match. Use the .match function to see if there is a match (hint if does not return a NoneType object - `re.match(pattern,string)!=None`).\n",
    "\n",
    "> Define a column 'mention_currency' in the dataframe, by applying the above function to the text column of the dataframe. \n",
    "*** You should have approximately 310 reviews that matches. - but less is also alright***\n",
    "\n",
    "> **Ex. 9.2.5** Explore the relation between reviews mentioning prices and the average rating. \n",
    "\n",
    "> **Ex. 9.2.extra** Define a function that outputs the amount mentioned in the review (if more than one the largest), define a new column by applying it to the data, and explore whether reviews mentioning higher prices are worse than others by plotting the amount versus the rating."
   ]
  },
  {
   "cell_type": "code",
   "execution_count": 55,
   "metadata": {},
   "outputs": [],
   "source": [
    "#[Answer to 9.2.4-5]"
   ]
  },
  {
   "cell_type": "markdown",
   "metadata": {},
   "source": [
    "> **Ex. 9.2.5:** Now we write a regular expression to extract emoticons from text.\n",
    "Start by locating all mouths ')' of emoticons, and develop the variations from there. Remember that paranthesis are special characters in regex, so you should use the escape character."
   ]
  }
 ],
 "metadata": {
  "kernelspec": {
   "display_name": "Python 3",
   "language": "python",
   "name": "python3"
  },
  "language_info": {
   "codemirror_mode": {
    "name": "ipython",
    "version": 3
   },
   "file_extension": ".py",
   "mimetype": "text/x-python",
   "name": "python",
   "nbconvert_exporter": "python",
   "pygments_lexer": "ipython3",
   "version": "3.6.6"
  },
  "nav_menu": {},
  "toc": {
   "navigate_menu": true,
   "number_sections": false,
   "sideBar": true,
   "threshold": 6,
   "toc_cell": false,
   "toc_section_display": "block",
   "toc_window_display": true
  }
 },
 "nbformat": 4,
 "nbformat_minor": 2
}
