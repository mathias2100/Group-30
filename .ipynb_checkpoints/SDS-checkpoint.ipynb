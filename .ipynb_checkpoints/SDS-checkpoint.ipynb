{
 "cells": [
  {
   "cell_type": "code",
   "execution_count": 165,
   "metadata": {},
   "outputs": [
    {
     "name": "stderr",
     "output_type": "stream",
     "text": [
      "/Library/Frameworks/Python.framework/Versions/3.6/lib/python3.6/site-packages/IPython/core/interactiveshell.py:2785: DtypeWarning: Columns (31) have mixed types. Specify dtype option on import or set low_memory=False.\n",
      "  interactivity=interactivity, compiler=compiler, result=result)\n",
      "/Library/Frameworks/Python.framework/Versions/3.6/lib/python3.6/site-packages/IPython/core/interactiveshell.py:2785: DtypeWarning: Columns (0) have mixed types. Specify dtype option on import or set low_memory=False.\n",
      "  interactivity=interactivity, compiler=compiler, result=result)\n"
     ]
    }
   ],
   "source": [
    "import pandas as pd\n",
    "import re\n",
    "\n",
    "# url = 'http://data.dft.gov.uk/road-accidents-safety-data/dftRoadSafetyData_Casualties_2016.zip'\n",
    "# nu = re.findall(\"[_].+[A-Za-z].+\\d\",url)\n",
    "# st1 = ''.join(nu)\n",
    "# print(st1) \n",
    "\n",
    "url = [\"http://data.dft.gov.uk/road-accidents-safety-data/dftRoadSafetyData_Vehicles_2016.zip\",\"http://data.dft.gov.uk/road-accidents-safety-data/dftRoadSafety_Accidents_2016.zip\",\n",
    "       \"http://data.dft.gov.uk/road-accidents-safety-data/RoadSafetyData_Vehicles_2015.zip\",\"http://data.dft.gov.uk/road-accidents-safety-data/RoadSafetyData_Accidents_2015.zip\"]\n",
    "\n",
    "####Figure out how to download the 05-14 and save it in your memory or get the fucking zip thing to work\n",
    "vehicles_2016 = pd.read_csv(url[0], compression='zip')\n",
    "accidents_2016 = pd.read_csv(url[1], compression='zip')\n",
    "vehicles_2015 = pd.read_csv(url[2], compression='zip')\n",
    "accidents_2015 = pd.read_csv(url[3], compression='zip')\n",
    "vehicles_05_14 = pd.read_csv(\"/Users/gautamchauhan21/Desktop/SDS Datasets/Stats19_Data_2005-2014/Vehicles0514.csv\")\n",
    "accidents_05_14 = pd.read_csv(\"/Users/gautamchauhan21/Desktop/SDS Datasets/Stats19_Data_2005-2014/Accidents0514.csv\")"
   ]
  },
  {
   "cell_type": "code",
   "execution_count": 193,
   "metadata": {},
   "outputs": [],
   "source": [
    "# Filtering the columns we need and dropping the rest\n",
    "\n",
    "vehicles_2016 = vehicles_2016[['Accident_Index','Vehicle_Reference','Sex_of_Driver','Age_of_Driver','Age_of_Vehicle','Vehicle_Type']]\n",
    "accidents_2016 = accidents_2016[['Accident_Index','Day_of_Week','Time','1st_Road_Class','Speed_limit','Light_Conditions','Weather_Conditions','Road_Surface_Conditions','Number_of_Casualties', 'Accident_Severity']]\n",
    "\n",
    "vehicles_2015 = vehicles_2015[['Accident_Index','Vehicle_Reference','Sex_of_Driver','Age_of_Driver','Age_of_Vehicle','Vehicle_Type']]\n",
    "accidents_2015 = accidents_2015[['Accident_Index','Day_of_Week','Time','1st_Road_Class','Speed_limit','Light_Conditions','Weather_Conditions','Road_Surface_Conditions','Number_of_Casualties', 'Accident_Severity']]\n",
    "\n",
    "vehicles_05_14 = vehicles_05_14[['Accident_Index','Vehicle_Reference','Sex_of_Driver','Age_of_Driver','Age_of_Vehicle','Vehicle_Type']]\n",
    "accidents_05_14 = accidents_05_14[['Accident_Index','Day_of_Week','Time','1st_Road_Class','Speed_limit','Light_Conditions','Weather_Conditions','Road_Surface_Conditions','Number_of_Casualties', 'Accident_Severity']]"
   ]
  },
  {
   "cell_type": "code",
   "execution_count": 194,
   "metadata": {},
   "outputs": [],
   "source": [
    "# Removing Sex_of_Driver = -1 & 3 which mean data missing and Not known\n",
    "\n",
    "vehicles_2016 = vehicles_2016[(vehicles_2016['Sex_of_Driver']==1) | (vehicles_2016['Sex_of_Driver']==2)]\n",
    "\n",
    "vehicles_2015 = vehicles_2015[(vehicles_2015['Sex_of_Driver']==1) | (vehicles_2015['Sex_of_Driver']==2)]\n",
    "\n",
    "vehicles_05_14 = vehicles_05_14[(vehicles_05_14['Sex_of_Driver']==1) | (vehicles_05_14['Sex_of_Driver']==2)]"
   ]
  },
  {
   "cell_type": "code",
   "execution_count": 195,
   "metadata": {},
   "outputs": [],
   "source": [
    "# Removing missing data values from Age_of_Driver\n",
    "\n",
    "vehicles_2016 = vehicles_2016[(vehicles_2016['Age_of_Driver']!=-1)]\n",
    "\n",
    "vehicles_2015 = vehicles_2015[(vehicles_2015['Age_of_Driver']!=-1)]\n",
    "\n",
    "vehicles_05_14 = vehicles_05_14[(vehicles_05_14['Age_of_Driver']!=-1)]"
   ]
  },
  {
   "cell_type": "code",
   "execution_count": 196,
   "metadata": {},
   "outputs": [],
   "source": [
    "#Removing missing values from the Age_of_Vehicle\n",
    "\n",
    "vehicles_2016 = vehicles_2016[(vehicles_2016['Age_of_Vehicle']!=-1)]\n",
    "\n",
    "vehicles_2015 = vehicles_2015[(vehicles_2015['Age_of_Vehicle']!=-1)]\n",
    "\n",
    "vehicles_05_14 = vehicles_05_14[(vehicles_05_14['Age_of_Vehicle']!=-1)]"
   ]
  },
  {
   "cell_type": "code",
   "execution_count": 198,
   "metadata": {},
   "outputs": [],
   "source": [
    "#Filtering the Vehicle_Type down to Cars and Bikes \n",
    "\n",
    "vehicles_2016 = vehicles_2016[(vehicles_2016['Vehicle_Type']==2) | (vehicles_2016['Vehicle_Type']==3) | (vehicles_2016['Vehicle_Type']==4) | (vehicles_2016['Vehicle_Type']==5) | (vehicles_2016['Vehicle_Type']==8) | (vehicles_2016['Vehicle_Type']==9) | (vehicles_2016['Vehicle_Type']==22) | (vehicles_2016['Vehicle_Type']==23) | (vehicles_2016['Vehicle_Type']==97)]\n",
    "\n",
    "vehicles_2015 = vehicles_2015[(vehicles_2015['Vehicle_Type']==2) | (vehicles_2015['Vehicle_Type']==3) | (vehicles_2015['Vehicle_Type']==4) | (vehicles_2015['Vehicle_Type']==5) | (vehicles_2015['Vehicle_Type']==8) | (vehicles_2015['Vehicle_Type']==9) | (vehicles_2015['Vehicle_Type']==22) | (vehicles_2015['Vehicle_Type']==23) | (vehicles_2015['Vehicle_Type']==97)]\n",
    "\n",
    "vehicles_05_14 = vehicles_05_14[(vehicles_05_14['Vehicle_Type']==2) | (vehicles_05_14['Vehicle_Type']==3) | (vehicles_05_14['Vehicle_Type']==4) | (vehicles_05_14['Vehicle_Type']==5) | (vehicles_05_14['Vehicle_Type']==8) | (vehicles_05_14['Vehicle_Type']==9) | (vehicles_05_14['Vehicle_Type']==22) | (vehicles_05_14['Vehicle_Type']==23) | (vehicles_05_14['Vehicle_Type']==97)]"
   ]
  },
  {
   "cell_type": "code",
   "execution_count": 207,
   "metadata": {},
   "outputs": [],
   "source": [
    "# Removing Roads which are not classified\n",
    "\n",
    "accidents_2016 = accidents_2016[(accidents_2016['1st_Road_Class']!=6)]\n",
    "\n",
    "accidents_2015 = accidents_2015[(accidents_2015['1st_Road_Class']!=6)]\n",
    "\n",
    "accidents_05_14 = accidents_05_14[(accidents_05_14['1st_Road_Class']!=6)]"
   ]
  },
  {
   "cell_type": "code",
   "execution_count": 209,
   "metadata": {},
   "outputs": [],
   "source": [
    "# Filtering Light Conditions (Daylight , Dark with lights lit, Dark with no light)\n",
    "\n",
    "accidents_2016 = accidents_2016[(accidents_2016['Light_Conditions']==1) | (accidents_2016['Light_Conditions']==4) | (accidents_2016['Light_Conditions']==6)]\n",
    "\n",
    "accidents_2015 = accidents_2015[(accidents_2015['Light_Conditions']==1) | (accidents_2015['Light_Conditions']==4) | (accidents_2015['Light_Conditions']==6)]\n",
    "\n",
    "accidents_05_14 = accidents_05_14[(accidents_05_14['Light_Conditions']==1) | (accidents_05_14['Light_Conditions']==4) | (accidents_05_14['Light_Conditions']==6)]"
   ]
  },
  {
   "cell_type": "code",
   "execution_count": 211,
   "metadata": {},
   "outputs": [],
   "source": [
    "# Sun and Rain\n",
    "\n",
    "accidents_2016 = accidents_2016[(accidents_2016['Weather_Conditions']==1) | (accidents_2016['Weather_Conditions']==2)]\n",
    "\n",
    "accidents_2015 = accidents_2015[(accidents_2015['Weather_Conditions']==1) | (accidents_2015['Weather_Conditions']==2)]\n",
    "\n",
    "accidents_05_14 = accidents_05_14[(accidents_05_14['Weather_Conditions']==1) | (accidents_05_14['Weather_Conditions']==2)]"
   ]
  },
  {
   "cell_type": "code",
   "execution_count": 213,
   "metadata": {},
   "outputs": [],
   "source": [
    "# Dry and Wet roads\n",
    "\n",
    "accidents_2016 = accidents_2016[(accidents_2016['Road_Surface_Conditions']==1) | (accidents_2016['Road_Surface_Conditions']==2)]\n",
    "\n",
    "accidents_2015 = accidents_2015[(accidents_2015['Road_Surface_Conditions']==1) | (accidents_2015['Road_Surface_Conditions']==2)]\n",
    "\n",
    "accidents_05_14 = accidents_05_14[(accidents_05_14['Road_Surface_Conditions']==1) | (accidents_05_14['Road_Surface_Conditions']==2)]"
   ]
  },
  {
   "cell_type": "code",
   "execution_count": 214,
   "metadata": {},
   "outputs": [
    {
     "name": "stdout",
     "output_type": "stream",
     "text": [
      "(1042177, 10)\n",
      "(83619, 10)\n",
      "(88542, 10)\n"
     ]
    }
   ],
   "source": [
    "print(accidents_05_14.shape)\n",
    "print(accidents_2016.shape)\n",
    "print(accidents_2015.shape)"
   ]
  },
  {
   "cell_type": "code",
   "execution_count": 227,
   "metadata": {},
   "outputs": [],
   "source": [
    "# Turning Accident_Severity into binary i.e 0 for Non-Fatal and 1 for Fatal\n",
    "\n",
    "accidents_2016.Accident_Severity = accidents_2016.Accident_Severity.replace(2,0)\n",
    "accidents_2016.Accident_Severity = accidents_2016.Accident_Severity.replace(3,0)\n",
    "\n",
    "accidents_2015.Accident_Severity = accidents_2015.Accident_Severity.replace(2,0)\n",
    "accidents_2015.Accident_Severity = accidents_2015.Accident_Severity.replace(3,0)\n",
    "\n",
    "accidents_05_14.Accident_Severity = accidents_05_14.Accident_Severity.replace(2,0)\n",
    "accidents_05_14.Accident_Severity = accidents_05_14.Accident_Severity.replace(3,0)"
   ]
  },
  {
   "cell_type": "code",
   "execution_count": 201,
   "metadata": {},
   "outputs": [
    {
     "data": {
      "text/plain": [
       "Index(['Accident_Index', 'Day_of_Week', 'Time', '1st_Road_Class',\n",
       "       'Speed_limit', 'Light_Conditions', 'Weather_Conditions',\n",
       "       'Road_Surface_Conditions', 'Number_of_Casualties', 'Accident_Severity'],\n",
       "      dtype='object')"
      ]
     },
     "execution_count": 201,
     "metadata": {},
     "output_type": "execute_result"
    }
   ],
   "source": [
    "accidents_2015.columns"
   ]
  },
  {
   "cell_type": "code",
   "execution_count": null,
   "metadata": {},
   "outputs": [],
   "source": [
    "# c.groupby('Road_Surface_Conditions').count() /////// Important stuff\n"
   ]
  },
  {
   "cell_type": "code",
   "execution_count": 234,
   "metadata": {},
   "outputs": [],
   "source": [
    "# joined = pd.concat(l,join_axes=[a.Accident_index]) #Works with axis=1, but has two columns of accident_index\n",
    "\n",
    "_16 = pd.merge(vehicles_2016,accidents_2016, on='Accident_Index')\n",
    "\n",
    "_15 = pd.merge(vehicles_2015,accidents_2015, on='Accident_Index')\n",
    "\n",
    "_05_14 = pd.merge(vehicles_05_14,accidents_05_14, on='Accident_Index')"
   ]
  },
  {
   "cell_type": "code",
   "execution_count": null,
   "metadata": {},
   "outputs": [],
   "source": [
    "# import matplotlib.pyplot as plt\n",
    "# new = joined[['Sex_of_Driver']]\n",
    "# new_1 = pd.value_counts(new['Sex_of_Driver'])\n",
    "# # new_1.plot(kind='bar') Simple pl\n",
    "\n",
    "\n",
    "# fig, ax = plt.subplots()\n",
    "# ax.plot(new_1)\n",
    "# ax.legend(['Sex of the Driver'],loc='upper left',frameon=False)\n",
    "# ax.set_title('Number of Male and Females involved in Road Accidents')\n",
    "# ax.set_ylabel('Number of People')\n",
    "# fig.tight_layout()"
   ]
  },
  {
   "cell_type": "code",
   "execution_count": null,
   "metadata": {},
   "outputs": [],
   "source": [
    "# new = new.ix[new['Sex_of_Driver']!=1] Future use"
   ]
  },
  {
   "cell_type": "code",
   "execution_count": null,
   "metadata": {},
   "outputs": [],
   "source": []
  }
 ],
 "metadata": {
  "kernelspec": {
   "display_name": "Python 3",
   "language": "python",
   "name": "python3"
  },
  "language_info": {
   "codemirror_mode": {
    "name": "ipython",
    "version": 3
   },
   "file_extension": ".py",
   "mimetype": "text/x-python",
   "name": "python",
   "nbconvert_exporter": "python",
   "pygments_lexer": "ipython3",
   "version": "3.6.6"
  }
 },
 "nbformat": 4,
 "nbformat_minor": 2
}
