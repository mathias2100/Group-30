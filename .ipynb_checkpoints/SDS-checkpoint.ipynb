{
 "cells": [
  {
   "cell_type": "markdown",
   "metadata": {},
   "source": [
    "<h1><center>Social Data Science - Project</center></h1>\n",
    "<h2><center>Road Accidents in Great Britain</center></h2>\n",
    "*By **Janus, Gautam and Mathias** *"
   ]
  },
  {
   "cell_type": "markdown",
   "metadata": {},
   "source": [
    "## Import Package"
   ]
  },
  {
   "cell_type": "code",
   "execution_count": 68,
   "metadata": {},
   "outputs": [],
   "source": [
    "import pandas as pd\n",
    "import re\n",
    "import matplotlib.pyplot as plt\n",
    "import numpy as np \n",
    "import seaborn as sns"
   ]
  },
  {
   "cell_type": "markdown",
   "metadata": {},
   "source": [
    "## Import data:\n",
    "Our data is available at [Great Britian Road Accident Data](https://data.gov.uk/dataset/cb7ae6f0-4be6-4935-9277-47e5ce24a11f/road-safety-data) in which we take the need URLs for each CSV file. \n",
    "\n",
    "However, we were unable to unpack a ZIP file containing multiple files for the periode 2005 to 2014. Hence, The needed files are store on our desktop and imported into python."
   ]
  },
  {
   "cell_type": "code",
   "execution_count": 52,
   "metadata": {},
   "outputs": [
    {
     "name": "stderr",
     "output_type": "stream",
     "text": [
      "/anaconda3/lib/python3.6/site-packages/IPython/core/interactiveshell.py:2785: DtypeWarning: Columns (31) have mixed types. Specify dtype option on import or set low_memory=False.\n",
      "  interactivity=interactivity, compiler=compiler, result=result)\n",
      "/anaconda3/lib/python3.6/site-packages/IPython/core/interactiveshell.py:2785: DtypeWarning: Columns (0) have mixed types. Specify dtype option on import or set low_memory=False.\n",
      "  interactivity=interactivity, compiler=compiler, result=result)\n"
     ]
    }
   ],
   "source": [
    "# url = 'http://data.dft.gov.uk/road-accidents-safety-data/dftRoadSafetyData_Casualties_2016.zip'\n",
    "# nu = re.findall(\"[_].+[A-Za-z].+\\d\",url)\n",
    "# st1 = ''.join(nu)\n",
    "# print(st1) \n",
    "\n",
    "url = [\"http://data.dft.gov.uk/road-accidents-safety-data/dftRoadSafetyData_Vehicles_2016.zip\",\"http://data.dft.gov.uk/road-accidents-safety-data/dftRoadSafety_Accidents_2016.zip\",\n",
    "       \"http://data.dft.gov.uk/road-accidents-safety-data/RoadSafetyData_Vehicles_2015.zip\",\"http://data.dft.gov.uk/road-accidents-safety-data/RoadSafetyData_Accidents_2015.zip\"]\n",
    "\n",
    "####Figure out how to download the 05-14 and save it in your memory or get the fucking zip thing to work\n",
    "vehicles_2016 = pd.read_csv(url[0], compression='zip')\n",
    "accidents_2016 = pd.read_csv(url[1], compression='zip')\n",
    "vehicles_2015 = pd.read_csv(url[2], compression='zip')\n",
    "accidents_2015 = pd.read_csv(url[3], compression='zip')\n",
    "vehicles_05_14 = pd.read_csv(\"/Users/jarand/Documents/Stud.Polit/Social Data Science/EXAM/Vehicles0514.csv\")\n",
    "accidents_05_14 = pd.read_csv(\"/Users/jarand/Documents/Stud.Polit/Social Data Science/EXAM/Accidents0514.csv\")"
   ]
  },
  {
   "cell_type": "markdown",
   "metadata": {},
   "source": [
    "## Filtering and Adjusting the Data:\n",
    "- Each files contains around 30 columns\n",
    "- Many columns which are not needed "
   ]
  },
  {
   "cell_type": "code",
   "execution_count": 53,
   "metadata": {},
   "outputs": [],
   "source": [
    "# Filtering the columns we need and dropping the rest\n",
    "\n",
    "vehicles_2016 = vehicles_2016[['Accident_Index','Vehicle_Reference','Sex_of_Driver','Age_of_Driver','Age_of_Vehicle','Vehicle_Type']]\n",
    "accidents_2016 = accidents_2016[['Accident_Index','Day_of_Week','Time','1st_Road_Class','Speed_limit','Light_Conditions','Weather_Conditions','Road_Surface_Conditions','Number_of_Casualties', 'Accident_Severity']]\n",
    "\n",
    "vehicles_2015 = vehicles_2015[['Accident_Index','Vehicle_Reference','Sex_of_Driver','Age_of_Driver','Age_of_Vehicle','Vehicle_Type']]\n",
    "accidents_2015 = accidents_2015[['Accident_Index','Day_of_Week','Time','1st_Road_Class','Speed_limit','Light_Conditions','Weather_Conditions','Road_Surface_Conditions','Number_of_Casualties', 'Accident_Severity']]\n",
    "\n",
    "vehicles_05_14 = vehicles_05_14[['Accident_Index','Vehicle_Reference','Sex_of_Driver','Age_of_Driver','Age_of_Vehicle','Vehicle_Type']]\n",
    "accidents_05_14 = accidents_05_14[['Accident_Index','Day_of_Week','Time','1st_Road_Class','Speed_limit','Light_Conditions','Weather_Conditions','Road_Surface_Conditions','Number_of_Casualties', 'Accident_Severity']]"
   ]
  },
  {
   "cell_type": "code",
   "execution_count": 54,
   "metadata": {},
   "outputs": [],
   "source": [
    "# Removing Sex_of_Driver = -1 & 3 which mean data missing and Not known\n",
    "\n",
    "vehicles_2016 = vehicles_2016[(vehicles_2016['Sex_of_Driver']==1) | (vehicles_2016['Sex_of_Driver']==2)]\n",
    "\n",
    "vehicles_2015 = vehicles_2015[(vehicles_2015['Sex_of_Driver']==1) | (vehicles_2015['Sex_of_Driver']==2)]\n",
    "\n",
    "vehicles_05_14 = vehicles_05_14[(vehicles_05_14['Sex_of_Driver']==1) | (vehicles_05_14['Sex_of_Driver']==2)]"
   ]
  },
  {
   "cell_type": "code",
   "execution_count": 55,
   "metadata": {},
   "outputs": [],
   "source": [
    "# Removing missing data values from Age_of_Driver\n",
    "\n",
    "vehicles_2016 = vehicles_2016[(vehicles_2016['Age_of_Driver']!=-1)]\n",
    "\n",
    "vehicles_2015 = vehicles_2015[(vehicles_2015['Age_of_Driver']!=-1)]\n",
    "\n",
    "vehicles_05_14 = vehicles_05_14[(vehicles_05_14['Age_of_Driver']!=-1)]"
   ]
  },
  {
   "cell_type": "code",
   "execution_count": 56,
   "metadata": {},
   "outputs": [],
   "source": [
    "#Removing missing values from the Age_of_Vehicle\n",
    "\n",
    "vehicles_2016 = vehicles_2016[(vehicles_2016['Age_of_Vehicle']!=-1)]\n",
    "\n",
    "vehicles_2015 = vehicles_2015[(vehicles_2015['Age_of_Vehicle']!=-1)]\n",
    "\n",
    "vehicles_05_14 = vehicles_05_14[(vehicles_05_14['Age_of_Vehicle']!=-1)]"
   ]
  },
  {
   "cell_type": "code",
   "execution_count": 57,
   "metadata": {},
   "outputs": [],
   "source": [
    "#Filtering the Vehicle_Type down to Cars and Bikes \n",
    "\n",
    "vehicles_2016 = vehicles_2016[(vehicles_2016['Vehicle_Type']==2) | (vehicles_2016['Vehicle_Type']==3) | (vehicles_2016['Vehicle_Type']==4) | (vehicles_2016['Vehicle_Type']==5) | (vehicles_2016['Vehicle_Type']==8) | (vehicles_2016['Vehicle_Type']==9) | (vehicles_2016['Vehicle_Type']==22) | (vehicles_2016['Vehicle_Type']==23) | (vehicles_2016['Vehicle_Type']==97)]\n",
    "\n",
    "vehicles_2015 = vehicles_2015[(vehicles_2015['Vehicle_Type']==2) | (vehicles_2015['Vehicle_Type']==3) | (vehicles_2015['Vehicle_Type']==4) | (vehicles_2015['Vehicle_Type']==5) | (vehicles_2015['Vehicle_Type']==8) | (vehicles_2015['Vehicle_Type']==9) | (vehicles_2015['Vehicle_Type']==22) | (vehicles_2015['Vehicle_Type']==23) | (vehicles_2015['Vehicle_Type']==97)]\n",
    "\n",
    "vehicles_05_14 = vehicles_05_14[(vehicles_05_14['Vehicle_Type']==2) | (vehicles_05_14['Vehicle_Type']==3) | (vehicles_05_14['Vehicle_Type']==4) | (vehicles_05_14['Vehicle_Type']==5) | (vehicles_05_14['Vehicle_Type']==8) | (vehicles_05_14['Vehicle_Type']==9) | (vehicles_05_14['Vehicle_Type']==22) | (vehicles_05_14['Vehicle_Type']==23) | (vehicles_05_14['Vehicle_Type']==97)]"
   ]
  },
  {
   "cell_type": "code",
   "execution_count": 58,
   "metadata": {},
   "outputs": [],
   "source": [
    "# Removing Roads which are not classified\n",
    "\n",
    "accidents_2016 = accidents_2016[(accidents_2016['1st_Road_Class']!=6)]\n",
    "\n",
    "accidents_2015 = accidents_2015[(accidents_2015['1st_Road_Class']!=6)]\n",
    "\n",
    "accidents_05_14 = accidents_05_14[(accidents_05_14['1st_Road_Class']!=6)]"
   ]
  },
  {
   "cell_type": "code",
   "execution_count": 59,
   "metadata": {},
   "outputs": [],
   "source": [
    "# Filtering Light Conditions (Daylight , Dark with lights lit, Dark with no light)\n",
    "\n",
    "accidents_2016 = accidents_2016[(accidents_2016['Light_Conditions']==1) | (accidents_2016['Light_Conditions']==4) | (accidents_2016['Light_Conditions']==6)]\n",
    "\n",
    "accidents_2015 = accidents_2015[(accidents_2015['Light_Conditions']==1) | (accidents_2015['Light_Conditions']==4) | (accidents_2015['Light_Conditions']==6)]\n",
    "\n",
    "accidents_05_14 = accidents_05_14[(accidents_05_14['Light_Conditions']==1) | (accidents_05_14['Light_Conditions']==4) | (accidents_05_14['Light_Conditions']==6)]"
   ]
  },
  {
   "cell_type": "code",
   "execution_count": 60,
   "metadata": {},
   "outputs": [],
   "source": [
    "# Sun and Rain\n",
    "\n",
    "accidents_2016 = accidents_2016[(accidents_2016['Weather_Conditions']==1) | (accidents_2016['Weather_Conditions']==2)]\n",
    "\n",
    "accidents_2015 = accidents_2015[(accidents_2015['Weather_Conditions']==1) | (accidents_2015['Weather_Conditions']==2)]\n",
    "\n",
    "accidents_05_14 = accidents_05_14[(accidents_05_14['Weather_Conditions']==1) | (accidents_05_14['Weather_Conditions']==2)]"
   ]
  },
  {
   "cell_type": "code",
   "execution_count": 61,
   "metadata": {},
   "outputs": [],
   "source": [
    "# Dry and Wet roads\n",
    "\n",
    "accidents_2016 = accidents_2016[(accidents_2016['Road_Surface_Conditions']==1) | (accidents_2016['Road_Surface_Conditions']==2)]\n",
    "\n",
    "accidents_2015 = accidents_2015[(accidents_2015['Road_Surface_Conditions']==1) | (accidents_2015['Road_Surface_Conditions']==2)]\n",
    "\n",
    "accidents_05_14 = accidents_05_14[(accidents_05_14['Road_Surface_Conditions']==1) | (accidents_05_14['Road_Surface_Conditions']==2)]"
   ]
  },
  {
   "cell_type": "code",
   "execution_count": 62,
   "metadata": {},
   "outputs": [
    {
     "name": "stdout",
     "output_type": "stream",
     "text": [
      "(1042177, 10)\n",
      "(83619, 10)\n",
      "(88542, 10)\n"
     ]
    }
   ],
   "source": [
    "print(accidents_05_14.shape)\n",
    "print(accidents_2016.shape)\n",
    "print(accidents_2015.shape)"
   ]
  },
  {
   "cell_type": "code",
   "execution_count": 63,
   "metadata": {},
   "outputs": [],
   "source": [
    "# Turning Accident_Severity into binary i.e 0 for Non-Fatal and 1 for Fatal & Serious Accidents\n",
    "\n",
    "accidents_2016.Accident_Severity = accidents_2016.Accident_Severity.replace(2,1)\n",
    "accidents_2016.Accident_Severity = accidents_2016.Accident_Severity.replace(3,0)\n",
    "\n",
    "accidents_2015.Accident_Severity = accidents_2015.Accident_Severity.replace(2,1)\n",
    "accidents_2015.Accident_Severity = accidents_2015.Accident_Severity.replace(3,0)\n",
    "\n",
    "accidents_05_14.Accident_Severity = accidents_05_14.Accident_Severity.replace(2,1)\n",
    "accidents_05_14.Accident_Severity = accidents_05_14.Accident_Severity.replace(3,0)"
   ]
  },
  {
   "cell_type": "code",
   "execution_count": 64,
   "metadata": {},
   "outputs": [
    {
     "data": {
      "text/plain": [
       "Index(['Accident_Index', 'Day_of_Week', 'Time', '1st_Road_Class',\n",
       "       'Speed_limit', 'Light_Conditions', 'Weather_Conditions',\n",
       "       'Road_Surface_Conditions', 'Number_of_Casualties', 'Accident_Severity'],\n",
       "      dtype='object')"
      ]
     },
     "execution_count": 64,
     "metadata": {},
     "output_type": "execute_result"
    }
   ],
   "source": [
    "accidents_2015.columns"
   ]
  },
  {
   "cell_type": "code",
   "execution_count": null,
   "metadata": {},
   "outputs": [],
   "source": [
    "# c.groupby('Road_Surface_Conditions').count() /////// Important stuff\n"
   ]
  },
  {
   "cell_type": "code",
   "execution_count": 65,
   "metadata": {},
   "outputs": [
    {
     "name": "stdout",
     "output_type": "stream",
     "text": [
      "(98202, 15)\n"
     ]
    }
   ],
   "source": [
    "# joined = pd.concat(l,join_axes=[a.Accident_index]) #Works with axis=1, but has two columns of accident_index\n",
    "\n",
    "_16 = pd.merge(vehicles_2016,accidents_2016, on='Accident_Index')\n",
    "print(_16.shape)\n",
    "_15 = pd.merge(vehicles_2015,accidents_2015, on='Accident_Index')\n",
    "\n",
    "_05_14 = pd.merge(vehicles_05_14,accidents_05_14, on='Accident_Index')"
   ]
  },
  {
   "cell_type": "code",
   "execution_count": 67,
   "metadata": {},
   "outputs": [],
   "source": [
    "# Merge the three files: \n",
    "joined2 = pd.concat([_16, _15], ignore_index=False)\n",
    "joined = pd.concat([joined2, _05_14], ignore_index=False)\n",
    "#joined.head(5000)\n",
    "\n"
   ]
  },
  {
   "cell_type": "code",
   "execution_count": null,
   "metadata": {},
   "outputs": [],
   "source": [
    "# import matplotlib.pyplot as plt\n",
    "# new = joined[['Sex_of_Driver']]\n",
    "# new_1 = pd.value_counts(new['Sex_of_Driver'])\n",
    "# # new_1.plot(kind='bar') Simple pl\n",
    "\n",
    "\n",
    "# fig, ax = plt.subplots()\n",
    "# ax.plot(new_1)\n",
    "# ax.legend(['Sex of the Driver'],loc='upper left',frameon=False)\n",
    "# ax.set_title('Number of Male and Females involved in Road Accidents')\n",
    "# ax.set_ylabel('Number of People')\n",
    "# fig.tight_layout()"
   ]
  },
  {
   "cell_type": "code",
   "execution_count": null,
   "metadata": {},
   "outputs": [],
   "source": [
    "# new = new.ix[new['Sex_of_Driver']!=1] Future use"
   ]
  },
  {
   "cell_type": "markdown",
   "metadata": {},
   "source": [
    "## Descriptive Statistics:\n",
    "In this section, we create the following descritive plot: \n",
    "- All accidents during the entire period\n",
    "- Accidents by time of day and day of the week\n",
    "- Accidents by speed limit\n",
    "- Accidents by gender\n",
    "- Accidents by age "
   ]
  },
  {
   "cell_type": "markdown",
   "metadata": {},
   "source": [
    "### Plot: All Accidents during the entire period:"
   ]
  },
  {
   "cell_type": "markdown",
   "metadata": {},
   "source": [
    "### Plot: Accidents by time of day and day of the week:"
   ]
  },
  {
   "cell_type": "code",
   "execution_count": 72,
   "metadata": {},
   "outputs": [],
   "source": [
    "#Convert the column 'Time' into only containing hours and not the minuts: \n",
    "time1 = joined['Time'].map(lambda x: str(x).split(':')[0]) #Takes the hour\n",
    "time2 = time1.apply(pd.to_numeric, errors='coerce') \n",
    "\n",
    "#Loop to stack the number of accidents sorted by hours:\n",
    "hour = []\n",
    "number_of_accidents_hour = []\n",
    "for i in range(24):\n",
    "    hour.append(i)\n",
    "    accidents_per_hour = len(joined[time2 == i])\n",
    "    number_of_accidents_hour.append(accidents_per_hour)\n",
    "#print(hour)\n",
    "#print(number_of_accidents)\n",
    "\n",
    "#Then repeat the process for the day of the week:\n",
    "sunday = len(joined[joined['Day_of_Week']==1])\n",
    "monday = len(joined[joined['Day_of_Week']==2])\n",
    "tuesday = len(joined[joined['Day_of_Week']==3])\n",
    "wednesday = len(joined[joined['Day_of_Week']==4])\n",
    "thursday = len(joined[joined['Day_of_Week']==5])\n",
    "friday = len(joined[joined['Day_of_Week']==6])\n",
    "saturday = len(joined[joined['Day_of_Week']==7])\n",
    "total_accidents = sunday + monday + tuesday + wednesday + thursday + friday + saturday\n",
    "\n",
    "#Creating the percentage:\n",
    "sunday_pct = sunday / total_accidents * 100\n",
    "monday_pct = monday / total_accidents * 100\n",
    "tuesday_pct = tuesday / total_accidents * 100\n",
    "wednesday_pct = wednesday / total_accidents * 100\n",
    "thursday_pct = thursday / total_accidents * 100\n",
    "friday_pct = friday / total_accidents * 100\n",
    "saturday_pct = saturday / total_accidents * 100\n",
    "\n",
    "#Defining variables:\n",
    "x1 = ['Sunday', 'Monday', 'Tuesday', 'Wednesday', 'Thursday', 'Friday', 'Saturday']\n",
    "x2 = ['','Sunday', 'Monday', 'Tuesday', 'Wednesday', 'Thursday', 'Friday', 'Saturday'] #Needed for subplots\n",
    "y1 = [sunday_pct, monday_pct, tuesday_pct, wednesday_pct, thursday_pct, friday_pct, saturday_pct]\n",
    "x1_ = list(range(len(x1)))"
   ]
  },
  {
   "cell_type": "code",
   "execution_count": 73,
   "metadata": {},
   "outputs": [
    {
     "data": {
      "image/png": "[encoded data removed]",
      "text/plain": [
       "<Figure size 1008x432 with 2 Axes>"
      ]
     },
     "metadata": {},
     "output_type": "display_data"
    }
   ],
   "source": [
    "#Create the plot for both figures:\n",
    "fig, (ax, ax2) = plt.subplots(nrows=1, ncols=2, figsize=(14, 6))\n",
    "\n",
    "#Plot for the hour of day:\n",
    "ax.plot(hour, number_of_accidents_hour, color='#0504aa')\n",
    "ax.legend(['Road Accidents'],loc='upper left',frameon=False)\n",
    "ax.set_title('Number of Road Accidents Throughout the Day')\n",
    "ax.set_ylabel('Number of People')\n",
    "ax.minorticks_on()\n",
    "ax.set_xlabel('Time(Hour)')\n",
    "ax.grid(True)\n",
    "\n",
    "#Plot fo the day of the week:\n",
    "ax2.bar(x1_, y1, color='#0504aa', zorder=3)\n",
    "ax2.set_ylabel('Percentage of accidents')\n",
    "ax2.set_xticklabels(x2, rotation=45)\n",
    "ax2.set_title(\"Percentage of accidents occured by day\")\n",
    "ax2.yaxis.set_label_position(\"right\")\n",
    "ax2.yaxis.tick_right()\n",
    "ax2.grid(True, zorder=0)\n",
    "fig.tight_layout()\n",
    "\n",
    "plt.savefig('DayHour.png')"
   ]
  },
  {
   "cell_type": "markdown",
   "metadata": {},
   "source": [
    "### Plot: Accidents by Speed Limit:"
   ]
  },
  {
   "cell_type": "code",
   "execution_count": 76,
   "metadata": {},
   "outputs": [],
   "source": [
    "#First plot over speeding: \n",
    "#Creating needed variables:\n",
    "speed_20 = len(joined[joined['Speed_limit']==20.0])\n",
    "speed_30 = len(joined[joined['Speed_limit']==30.0])\n",
    "speed_40 = len(joined[joined['Speed_limit']==40.0])\n",
    "speed_50 = len(joined[joined['Speed_limit']==50.0])\n",
    "speed_60 = len(joined[joined['Speed_limit']==60.0])\n",
    "speed_70 = len(joined[joined['Speed_limit']==70.0])\n",
    "total_accidents_speed = speed_20 + speed_30 + speed_40 + speed_50 + speed_60 + speed_70\n",
    "#Percentage:\n",
    "speed_20_pct = speed_20 / total_accidents_speed * 100\n",
    "speed_30_pct = speed_30 / total_accidents_speed * 100\n",
    "speed_40_pct = speed_40 / total_accidents_speed * 100\n",
    "speed_50_pct = speed_50 / total_accidents_speed * 100\n",
    "speed_60_pct = speed_60 / total_accidents_speed * 100\n",
    "speed_70_pct = speed_70 / total_accidents_speed * 100\n",
    "#Defining variabels:\n",
    "x = ['20 mph.', '30 mph.', '40 mph.', '50 mph.','60 mph.', '70 mph.']\n",
    "y = [speed_20_pct, speed_30_pct, speed_40_pct, speed_50_pct, speed_60_pct, speed_70_pct]\n",
    "x_ = list(range(len(x)))\n",
    "\n",
    "#Creating second plot, showing the serious and fatal accidents. \n",
    "fataldata = joined[joined['Accident_Severity']==1]\n",
    "speed_20_ = len(fataldata[fataldata['Speed_limit']==20.0])\n",
    "speed_30_ = len(fataldata[fataldata['Speed_limit']==30.0])\n",
    "speed_40_ = len(fataldata[fataldata['Speed_limit']==40.0])\n",
    "speed_50_ = len(fataldata[fataldata['Speed_limit']==50.0])\n",
    "speed_60_ = len(fataldata[fataldata['Speed_limit']==60.0])\n",
    "speed_70_ = len(fataldata[fataldata['Speed_limit']==70.0])\n",
    "total_accidents_ = speed_20_ + speed_30_ + speed_40_ + speed_50_ + speed_60_ + speed_70_\n",
    "#Percentage:\n",
    "speed_20_pct_ = speed_20_ / total_accidents_ * 100\n",
    "speed_30_pct_ = speed_30_ / total_accidents_ * 100\n",
    "speed_40_pct_ = speed_40_ / total_accidents_ * 100\n",
    "speed_50_pct_ = speed_50_ / total_accidents_ * 100\n",
    "speed_60_pct_ = speed_60_ / total_accidents_ * 100\n",
    "speed_70_pct_ = speed_70_ / total_accidents_ * 100\n",
    "\n",
    "x3 = ['20 mph.', '30 mph.', '40 mph.', '50 mph.','60 mph.', '70 mph.']\n",
    "x33 = ['','20 mph.', '30 mph.', '40 mph.', '50 mph.','60 mph.', '70 mph.'] #Needed for Subplot\n",
    "y3 = [speed_20_pct_, speed_30_pct_, speed_40_pct_, speed_50_pct_, speed_60_pct_, speed_70_pct_]\n",
    "x3_ = list(range(len(x3)))"
   ]
  },
  {
   "cell_type": "code",
   "execution_count": 78,
   "metadata": {},
   "outputs": [
    {
     "data": {
      "image/png": "[encoded data removed]",
      "text/plain": [
       "<Figure size 864x288 with 2 Axes>"
      ]
     },
     "metadata": {},
     "output_type": "display_data"
    }
   ],
   "source": [
    "#Collecting the plots in one figure:\n",
    "fig2, (ax3, ax4) = plt.subplots(nrows=1, ncols=2, figsize=(12, 4))\n",
    "ax3.bar(x_, y, color='#0504aa')\n",
    "ax3.set_ylabel('Percentage of accidents')\n",
    "ax3.set_xticklabels(x33, rotation=45)\n",
    "ax3.set_title(\"Percentage of accidents occured by speed limit\")\n",
    "\n",
    "ax4.bar(x3_, y3, color='#0504aa')\n",
    "ax4.set_ylabel('Percentage of fatal accidents')\n",
    "ax4.set_xticklabels(x33, rotation=45)\n",
    "ax4.set_title(\"Percentage of fatal accidents occured by speed limit\")\n",
    "ax4.yaxis.set_label_position(\"right\")\n",
    "ax4.yaxis.tick_right()\n",
    "\n",
    "fig2.tight_layout()\n",
    "plt.savefig('Speedlimit.png')"
   ]
  },
  {
   "cell_type": "markdown",
   "metadata": {},
   "source": [
    "### Plot: Accidents by Gender:"
   ]
  },
  {
   "cell_type": "markdown",
   "metadata": {},
   "source": [
    "### Plot: Accidents by Age:"
   ]
  },
  {
   "cell_type": "code",
   "execution_count": null,
   "metadata": {},
   "outputs": [],
   "source": []
  }
 ],
 "metadata": {
  "kernelspec": {
   "display_name": "Python 3",
   "language": "python",
   "name": "python3"
  },
  "language_info": {
   "codemirror_mode": {
    "name": "ipython",
    "version": 3
   },
   "file_extension": ".py",
   "mimetype": "text/x-python",
   "name": "python",
   "nbconvert_exporter": "python",
   "pygments_lexer": "ipython3",
   "version": "3.6.5"
  }
 },
 "nbformat": 4,
 "nbformat_minor": 2
}
