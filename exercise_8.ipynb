{
 "cells": [
  {
   "cell_type": "markdown",
   "metadata": {
    "ExecuteTime": {
     "end_time": "2017-08-23T15:30:03.634114Z",
     "start_time": "2017-08-23T15:30:03.629294Z"
    }
   },
   "source": [
    "# Exercise Set 8: Introduction to Web Scraping\n",
    "\n",
    "*Afternoon, August 16, 2018*\n",
    "\n",
    "In this Exercise Set we shall practice our webscraping skills utiilizing only basic python. We shall cover variations between static and dynamic pages. "
   ]
  },
  {
   "cell_type": "markdown",
   "metadata": {},
   "source": [
    "## Exercise Section 8.1: Scraping Jobnet.dk\n",
    "\n",
    "This exercise you get to practice locating the request that the JavaScript sends to get the job data that it builds the joblistings from. You should use the **>Network Monitor<** tool in your browser.\n",
    "\n",
    "Furthermore you practice spotting how the pagination is done, without clicking on the next page button, but instead changing a small parameter in the URL."
   ]
  },
  {
   "cell_type": "markdown",
   "metadata": {},
   "source": [
    "> **Ex. 8.1.1:** Hit the joblisting webpage here: https://job.jobnet.dk/CV and locate the request that gets the joblisting data using the a tool called the **>Network Monitor<**. To do this open monitor tool and press the search button on the website. Go to the _network_ pane in the monitor and look at the results. Which two _methods_ does your browser use to communicate with the webserver? What does status code 200 mean?\n",
    ">\n",
    ">> _Hint:_ The network monitor is launched by pressing ctrl+shift+i in most browsers. Filter by XHR files."
   ]
  },
  {
   "cell_type": "code",
   "execution_count": null,
   "metadata": {},
   "outputs": [],
   "source": [
    "# [Answer to Ex. 8.1.1 here]\n",
    "\n"
   ]
  },
  {
   "cell_type": "markdown",
   "metadata": {},
   "source": [
    "> **Ex. 8.1.2.:** Use the `request` module to collect the first page of job postings and unpack the relevant `json` data into a `pandas` DataFrame."
   ]
  },
  {
   "cell_type": "code",
   "execution_count": 1,
   "metadata": {},
   "outputs": [
    {
     "name": "stdout",
     "output_type": "stream",
     "text": [
      "<class 'pandas.core.frame.DataFrame'>\n",
      "    AnonymousEmployer  AssignmentStartDate  AutomatchType  Country  \\\n",
      "0               False  0001-01-01T00:00:00              0  Danmark   \n",
      "1               False  0001-01-01T00:00:00              0  Danmark   \n",
      "2               False  0001-01-01T00:00:00              0  Danmark   \n",
      "3               False  0001-01-01T00:00:00              0  Danmark   \n",
      "4               False  0001-01-01T00:00:00              0  Danmark   \n",
      "5               False  0001-01-01T00:00:00              0  Danmark   \n",
      "6               False  0001-01-01T00:00:00              0  Danmark   \n",
      "7               False  0001-01-01T00:00:00              0  Danmark   \n",
      "8               False  0001-01-01T00:00:00              0  Danmark   \n",
      "9               False  0001-01-01T00:00:00              0  Danmark   \n",
      "10              False  0001-01-01T00:00:00              0  Danmark   \n",
      "11              False  0001-01-01T00:00:00              0  Danmark   \n",
      "12              False  0001-01-01T00:00:00              0  Danmark   \n",
      "13              False  0001-01-01T00:00:00              0  Danmark   \n",
      "14              False  0001-01-01T00:00:00              0  Danmark   \n",
      "15              False  0001-01-01T00:00:00              0  Danmark   \n",
      "16              False  0001-01-01T00:00:00              0  Danmark   \n",
      "17              False  0001-01-01T00:00:00              0  Danmark   \n",
      "18              False  0001-01-01T00:00:00              0  Danmark   \n",
      "19              False  0001-01-01T00:00:00              0  Danmark   \n",
      "\n",
      "   EmploymentType  HasLocationValues  HiringOrgCVR  \\\n",
      "0                               True      55133018   \n",
      "1                               True      55133018   \n",
      "2                               True      55133018   \n",
      "3                               True      36468939   \n",
      "4                               True      36468939   \n",
      "5                               True      10084067   \n",
      "6                               True      36468939   \n",
      "7                               True      36468939   \n",
      "8                               True      34052778   \n",
      "9                               True      34052778   \n",
      "10                              True      19525279   \n",
      "11                              True      29189838   \n",
      "12                              True      32012566   \n",
      "13                              True      32012566   \n",
      "14                              True      36398221   \n",
      "15                              True      34620156   \n",
      "16                              True      29601240   \n",
      "17                              True      14145389   \n",
      "18                              True      31850940   \n",
      "19                              True      29188440   \n",
      "\n",
      "                                        HiringOrgName       ID  IsExternal  \\\n",
      "0   Myndighedsafdeling, Socialcenter for Voksne, V...  4859374       False   \n",
      "1                        INTEGRERET INSTITUTION SOLEN  4865269       False   \n",
      "2   Dagtilbud Hasle - 4151 afd. Børnehaven Charlot...  4865265       False   \n",
      "3                                   JP KRISTENSEN ApS  4839655       False   \n",
      "4                                   JP KRISTENSEN ApS  4841050       False   \n",
      "5                            Ramsdal Profil Match ApS  4745465       False   \n",
      "6                                   JP KRISTENSEN ApS  4841051       False   \n",
      "7                                   JP KRISTENSEN ApS  4841055       False   \n",
      "8                                C&L TURNED PARTS A/S  4830282       False   \n",
      "9                                C&L TURNED PARTS A/S  4830281       False   \n",
      "10          INDUSTRICAFEEN V/ LONE SØBORG CHRISTENSEN  4865350       False   \n",
      "11                            Social og Ældre - Ældre  4863384       False   \n",
      "12           Krüger Search v/Paul Anker Krüger Larsen  4835400       False   \n",
      "13           Krüger Search v/Paul Anker Krüger Larsen  4851119       False   \n",
      "14                              FAXE BOLIG INVEST ApS  4794793       False   \n",
      "15                                        Bording A/S  4865645       False   \n",
      "16     Sproghuset Kommunikation og Tolketjenesten ApS  4865644       False   \n",
      "17                                      K C FRUGT APS  4865639       False   \n",
      "18                                  GREEN MATTERS ApS  4865638       False   \n",
      "19                                   Gribskov Kommune  4865636       False   \n",
      "\n",
      "       ...      UseWorkPlaceAddressForJoblog Weight WorkHours WorkPlaceAbroad  \\\n",
      "0      ...                              True    1.0   Fuldtid           False   \n",
      "1      ...                              True    1.0   Fuldtid           False   \n",
      "2      ...                              True    1.0   Fuldtid           False   \n",
      "3      ...                             False    1.0   Fuldtid           False   \n",
      "4      ...                             False    1.0   Fuldtid           False   \n",
      "5      ...                             False    1.0   Fuldtid           False   \n",
      "6      ...                              True    1.0   Fuldtid           False   \n",
      "7      ...                             False    1.0   Fuldtid           False   \n",
      "8      ...                              True    1.0   Fuldtid           False   \n",
      "9      ...                              True    1.0   Fuldtid           False   \n",
      "10     ...                              True    1.0   Fuldtid           False   \n",
      "11     ...                              True    1.0   Fuldtid           False   \n",
      "12     ...                              True    1.0   Fuldtid           False   \n",
      "13     ...                              True    1.0   Fuldtid           False   \n",
      "14     ...                             False    1.0   Fuldtid           False   \n",
      "15     ...                              True    1.0   Fuldtid           False   \n",
      "16     ...                              True    1.0    Deltid           False   \n",
      "17     ...                              True    1.0   Fuldtid           False   \n",
      "18     ...                              True    1.0    Deltid           False   \n",
      "19     ...                              True    1.0    Deltid           False   \n",
      "\n",
      "        WorkPlaceAddress    WorkPlaceCity  WorkPlaceNotStatic  \\\n",
      "0          Grøndalsvej 1           Viby J               False   \n",
      "1        Kappelvænget 46         Aarhus V               False   \n",
      "2         Bornholmsvej 9         Aarhus V               False   \n",
      "3                                                       False   \n",
      "4                                                       False   \n",
      "5                                                       False   \n",
      "6       Hammershusvej 1C          Herning               False   \n",
      "7                                                       False   \n",
      "8     Østre Boulevard 26       Randers NØ               False   \n",
      "9     Østre Boulevard 26       Randers NØ               False   \n",
      "10          Vestergade 4      Nørresundby               False   \n",
      "11          Østergade 28          Rødding               False   \n",
      "12       Strandvejen 100         Hellerup               False   \n",
      "13       Strandvejen 100         Hellerup               False   \n",
      "14                                                      False   \n",
      "15        Kongevejen 354            Holte               False   \n",
      "16  H.C. Ørsteds Vej 50C  Frederiksberg C               False   \n",
      "17      Hørskætten 30-32         Taastrup               False   \n",
      "18           Sølvgade 19      København K               False   \n",
      "19          Rådhusvej 3          Helsinge               False   \n",
      "\n",
      "   WorkPlaceOtherAddress  WorkPlacePostalCode WorkplaceID  \n",
      "0                  False                 8260      113631  \n",
      "1                  False                 8210       30425  \n",
      "2                  False                 8210      128212  \n",
      "3                   True                           113456  \n",
      "4                   True                           113456  \n",
      "5                   True                           121527  \n",
      "6                  False                 7400      113456  \n",
      "7                   True                           113456  \n",
      "8                  False                 8930      113375  \n",
      "9                  False                 8930      113375  \n",
      "10                 False                 9400       26299  \n",
      "11                 False                 6630           0  \n",
      "12                 False                 2900      121368  \n",
      "13                 False                 2900      121368  \n",
      "14                  True                           126094  \n",
      "15                 False                 2840      123685  \n",
      "16                 False                 1879      118962  \n",
      "17                 False                 2630       15907  \n",
      "18                 False                 1307      119966  \n",
      "19                 False                 3200       69752  \n",
      "\n",
      "[20 rows x 42 columns]\n"
     ]
    }
   ],
   "source": [
    "# [Answer to Ex. 8.1.2 here]\n",
    "import pandas as pd\n",
    "import requests\n",
    "import json\n",
    "url = 'https://job.jobnet.dk/CV/FindWork/Search?SortValue=CreationData&Offset=0'\n",
    "response = requests.get(url)\n",
    "r = response.json()\n",
    "\n",
    "r.keys()\n",
    "df = pd.DataFrame.from_dict(r['JobPositionPostings'])\n",
    "print(type(df))\n",
    "print(df)\n"
   ]
  },
  {
   "cell_type": "markdown",
   "metadata": {},
   "source": [
    "> **Ex. 8.1.3.:** Store and print the 'TotalResultCount' value for later use. Also create a dataframe from the 'JobPositionPostings' field in the json. "
   ]
  },
  {
   "cell_type": "code",
   "execution_count": 6,
   "metadata": {},
   "outputs": [
    {
     "name": "stdout",
     "output_type": "stream",
     "text": [
      "16003\n"
     ]
    }
   ],
   "source": [
    "# [Answer to Ex. 8.1.3 here]`\n",
    "Totalresultcount = r['TotalResultCount']\n",
    "print(Totalresultcount)"
   ]
  },
  {
   "cell_type": "markdown",
   "metadata": {},
   "source": [
    "> **Ex. 8.1.4:** This exercise is about paging the results. We need to understand the websites pagination scheme. Scroll down the webpage and press the next page button. Describe how the parameters of the url changes as you turn the pages.\n"
   ]
  },
  {
   "cell_type": "code",
   "execution_count": null,
   "metadata": {},
   "outputs": [],
   "source": [
    "# [Answer to Ex. 8.1.4 here]\n"
   ]
  },
  {
   "cell_type": "markdown",
   "metadata": {},
   "source": [
    "> **Ex. 8.1.5:** Design a`for` loop using the `range` function that changes this paging parameter in the URL. Use the TotalResultCount parameter from before to define the limits of the range function. Store these urls in a container. \n",
    ">\n",
    ">**Bonus** Change the SortValue parameter from BestMatch to CreationDate, to make the sorting amendable to updating results daily.\n",
    ">\n",
    ">> _Hint:_ See that the parameter is an offset and that this relates to the number of results pr. call made."
   ]
  },
  {
   "cell_type": "code",
   "execution_count": null,
   "metadata": {},
   "outputs": [],
   "source": [
    "# [Answer to Ex. 8.1.5 here]"
   ]
  },
  {
   "cell_type": "markdown",
   "metadata": {},
   "source": [
    "> **Ex. 8.1.6:** Pick 20 random links using the `choice` function in the `random` module;  collect the links using the `request` module. Also use the `time.sleep()` function to limit the rate of your calls. Make sure to save the links already collected in a `set()` container to avoid having to reload links already collected. ***extra***: monitor the time left to completing the loop by using `tqdm.tqdm()` function."
   ]
  },
  {
   "cell_type": "code",
   "execution_count": 17,
   "metadata": {},
   "outputs": [],
   "source": [
    "# [Answer to Ex. 8.1.6 here]"
   ]
  },
  {
   "cell_type": "markdown",
   "metadata": {},
   "source": [
    "> **Ex. 8.1.7:** Load all the results into a DataFrame."
   ]
  },
  {
   "cell_type": "code",
   "execution_count": 17,
   "metadata": {},
   "outputs": [],
   "source": [
    "# [Answer to Ex. 8.1.7 here]"
   ]
  },
  {
   "cell_type": "markdown",
   "metadata": {},
   "source": [
    "## Exercise Section 8.2: Scraping Trustpilot.com\n",
    "Now for a slightly more elaborate, yet still simple scraping problem. Here we want to scrape trustpilot for user reviews. This data is very nice since it provides free labeled data (rating) to train a machine learning model to understand positive and negative sentiment. \n",
    "\n",
    "Here you will practice crawling a website collecting the links to each company review page, and finally locate another behind the scenes JavaScript request that gets the review data in a neat json format."
   ]
  },
  {
   "cell_type": "markdown",
   "metadata": {},
   "source": [
    "> **Ex. 8.2.1:** Visit the https://www.trustpilot.com/ website and locate the categories page. From this page you find links to company listings. Get the category page using the `requests` module and extract each link to a specific category page from the HTML. This can be done using the basic python `.split()` string method. Make sure only links within the ***/categories/*** section are kept, checking each string using the ```if 'pattern' in string``` condition. \n",
    ">\n",
    ">> *Hint:* The links are relative. You need to add the domain name\n",
    ">>\n",
    ">> *Hint #2:* You will need to convert the page response to a string, using the `.text` property.\n"
   ]
  },
  {
   "cell_type": "code",
   "execution_count": 20,
   "metadata": {},
   "outputs": [],
   "source": [
    "# [Answer to Ex. 8.2.1]"
   ]
  },
  {
   "cell_type": "markdown",
   "metadata": {},
   "source": [
    "> **Ex. 8.2.2:** Get one of the category section links (any one will do). Write a function to extract the links to the company review pages from the HTML.\n"
   ]
  },
  {
   "cell_type": "code",
   "execution_count": null,
   "metadata": {},
   "outputs": [],
   "source": [
    "# [Answer to Ex. 8.2.2]"
   ]
  },
  {
   "cell_type": "markdown",
   "metadata": {},
   "source": [
    "> **Ex. 8.2.3:** Figure out how the pagination is done, by following how the url changes when pressing the **next page**-button to obtain more company listings. Write a function that builds links to paging all the company listing results of each category. This includes parsing the number of subpages of each category and changing the correct parameter in the url.\n",
    ">\n",
    ">> *Hint:* Find the maximum number of result pages, right before the next page button and make a loop change the page parameter of the url.\n"
   ]
  },
  {
   "cell_type": "code",
   "execution_count": 21,
   "metadata": {},
   "outputs": [],
   "source": [
    "# [Answer to Ex.8.2.3]"
   ]
  },
  {
   "cell_type": "markdown",
   "metadata": {},
   "source": [
    "> **Ex. 8.2.4:** Loop through all categories and build the paging links using the above defined function."
   ]
  },
  {
   "cell_type": "code",
   "execution_count": null,
   "metadata": {},
   "outputs": [],
   "source": [
    "# [Answer to Ex.8.2.4]"
   ]
  },
  {
   "cell_type": "markdown",
   "metadata": {},
   "source": [
    "> **Ex. 8.2.5:** Randomly pick one of category listing links you have generated, and get the links to the companies listed using the other function defined. \n"
   ]
  },
  {
   "cell_type": "code",
   "execution_count": null,
   "metadata": {},
   "outputs": [],
   "source": [
    "# [Answer to Ex.8.2.5]"
   ]
  },
  {
   "cell_type": "markdown",
   "metadata": {},
   "source": [
    "> **Ex. 8.2.6:** Visit one of these links and inspect the **>Network Monitor<** to locate the request that loads the review data. Use the requests module to retrieve this link and unpack the json results to a pandas DataFrame.\n",
    ">\n",
    ">> _Hint:_ Look for a request which sends a the link to a file called `jsonId`"
   ]
  },
  {
   "cell_type": "code",
   "execution_count": null,
   "metadata": {},
   "outputs": [],
   "source": [
    "#[Answer to Ex.8.2.6]"
   ]
  },
  {
   "cell_type": "markdown",
   "metadata": {},
   "source": [
    "Congratulations on coming this far. By now you are almost - still need to figure out how to page the reviews and to find the company ID in the html -, ready to deploy a scraper collecting all reviews on trustpilot. \n",
    "If you wanna see just how valuable such data could be visit the follow blogpost: https://blog.openai.com/unsupervised-sentiment-neuron/"
   ]
  }
 ],
 "metadata": {
  "kernelspec": {
   "display_name": "Python 3",
   "language": "python",
   "name": "python3"
  },
  "language_info": {
   "codemirror_mode": {
    "name": "ipython",
    "version": 3
   },
   "file_extension": ".py",
   "mimetype": "text/x-python",
   "name": "python",
   "nbconvert_exporter": "python",
   "pygments_lexer": "ipython3",
   "version": "3.6.6"
  },
  "nav_menu": {},
  "toc": {
   "navigate_menu": true,
   "number_sections": false,
   "sideBar": true,
   "threshold": 6,
   "toc_cell": false,
   "toc_section_display": "block",
   "toc_window_display": true
  }
 },
 "nbformat": 4,
 "nbformat_minor": 2
}
