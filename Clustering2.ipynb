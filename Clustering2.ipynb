{
 "cells": [
  {
   "cell_type": "code",
   "execution_count": 17,
   "metadata": {},
   "outputs": [
    {
     "name": "stderr",
     "output_type": "stream",
     "text": [
      "C:\\Users\\jalarsen\\AppData\\Local\\Continuum\\anaconda3\\lib\\site-packages\\IPython\\core\\interactiveshell.py:2785: DtypeWarning: Columns (31) have mixed types. Specify dtype option on import or set low_memory=False.\n",
      "  interactivity=interactivity, compiler=compiler, result=result)\n"
     ]
    },
    {
     "name": "stdout",
     "output_type": "stream",
     "text": [
      "(136621, 10)\n",
      "(252500, 6)\n",
      "(252500, 15)\n"
     ]
    }
   ],
   "source": [
    "###########  LOADING AND MAKING THE DATA GOOD\n",
    "\n",
    "\n",
    "import matplotlib.pyplot as plt\n",
    "from matplotlib import style\n",
    "style.use('ggplot')\n",
    "import numpy as np\n",
    "from sklearn.cluster import KMeans\n",
    "import pandas as pd\n",
    "from sklearn import preprocessing, cross_validation\n",
    "\n",
    "# The dude that did this: https://www.youtube.com/watch?v=j6jstahQp2A\n",
    "\n",
    "\n",
    "url=\"http://data.dft.gov.uk/road-accidents-safety-data/dftRoadSafety_Accidents_2016.zip\"\n",
    "c=pd.read_csv(url, compression='zip')\n",
    "\n",
    "url=\"http://data.dft.gov.uk/road-accidents-safety-data/dftRoadSafetyData_Vehicles_2016.zip\"\n",
    "d=pd.read_csv(url, compression='zip')\n",
    "\n",
    "c = c[['Accident_Index', 'Accident_Severity' ,'Date','Day_of_Week','Time','1st_Road_Class','Speed_limit','Light_Conditions','Weather_Conditions','Road_Surface_Conditions']]\n",
    "d = d[['Accident_Index','Vehicle_Reference','Vehicle_Type','Sex_of_Driver','Age_of_Driver','Age_of_Vehicle']]\n",
    "\n",
    "# c.groupby('Road_Surface_Conditions').count() /////// Important stuff\n",
    "print(c.shape)\n",
    "print(d.shape)\n",
    "\n",
    "l = [c,d]\n",
    "# joined = pd.concat(l,join_axes=[a.Accident_index]) #Works with axis=1, but has two columns of accident_index\n",
    "joined = pd.merge(c, d, on='Accident_Index')\n",
    "\n",
    "joined.shape\n",
    "\n",
    "df_join = joined\n",
    "\n",
    "df_join.Accident_Severity = df_join.Accident_Severity.replace(2,1)\n",
    "df_join.Accident_Severity = df_join.Accident_Severity.replace(3,0)\n",
    "\n",
    "df_join.dropna()\n",
    "\n",
    "print(df_join.shape)\n",
    "df_join.head(5)\n",
    "\n",
    "\n",
    "#Define input array with angles from 60deg to 300deg converted to radians\n",
    "df = df_join.drop(['Accident_Index','Date','Time'],1)          #,'Vehicle_Type'], 1) #,'1st_Road_Class','Road_Surface_Conditions','Accident_Index','Vehicle_Reference','Sex_of_Driver','Age_of_Driver','Age_of_Vehicle', 'Age_of_Driver'], axis=1)\n",
    "df = df.dropna()\n",
    "# print(df.head(5))"
   ]
  },
  {
   "cell_type": "code",
   "execution_count": 18,
   "metadata": {},
   "outputs": [
    {
     "name": "stdout",
     "output_type": "stream",
     "text": [
      "0.46293501297363676\n"
     ]
    }
   ],
   "source": [
    "#     UNSUPERVISED LEARNING - NOT SCALED\n",
    "#---------------####------------------#\n",
    "\n",
    "#Importing libraries. The same will be used throughout the article.\n",
    "import numpy as np\n",
    "import pandas as pd\n",
    "import random\n",
    "import matplotlib.pyplot as plt\n",
    "from matplotlib import style\n",
    "style.use('ggplot')\n",
    "import numpy as np\n",
    "from sklearn.cluster import KMeans\n",
    "import pandas as pd\n",
    "from sklearn import preprocessing, cross_validation\n",
    "\n",
    "\n",
    "# X = df.drop(['Accident_Severity'], axis=1)\n",
    "# y = df.Accident_Severity\n",
    "# # print(X)\n",
    "# print(df.shape)\n",
    "# print(X.shape)\n",
    "\n",
    "\n",
    "array = df.values\n",
    "X = array[:,1:]\n",
    "y = array[:,0]\n",
    "\n",
    "\n",
    "#------------------------------\n",
    "\n",
    "\n",
    "clf = KMeans(n_clusters=2)\n",
    "clf.fit(X)\n",
    "\n",
    "correct = 0\n",
    "for i in range(len(X)):\n",
    "    predict_me = np.array(X[i])\n",
    "    predict_me = predict_me.reshape(-1, len(predict_me))\n",
    "    prediction = clf.predict(predict_me)\n",
    "    if prediction[0] == y[i]:\n",
    "        correct += 1\n",
    "        \n",
    "print(correct/len(X))\n",
    "\n",
    "\n",
    "# print(joined)'Speed_limit','Light_Conditions','Weather_Conditions',"
   ]
  },
  {
   "cell_type": "code",
   "execution_count": 19,
   "metadata": {},
   "outputs": [
    {
     "name": "stdout",
     "output_type": "stream",
     "text": [
      "0.6820963812466575\n"
     ]
    }
   ],
   "source": [
    "#     UNSUPERVISED LEARNING - SCALED\n",
    "#---------------####------------------#\n",
    "\n",
    "#Importing libraries. The same will be used throughout the article.\n",
    "import numpy as np\n",
    "import pandas as pd\n",
    "import random\n",
    "import matplotlib.pyplot as plt\n",
    "from matplotlib import style\n",
    "style.use('ggplot')\n",
    "import numpy as np\n",
    "from sklearn.cluster import KMeans\n",
    "import pandas as pd\n",
    "from sklearn import preprocessing, cross_validation\n",
    "\n",
    "\n",
    "array = df.values\n",
    "X = array[:,1:]\n",
    "X = preprocessing.scale(X)\n",
    "y = array[:,0]\n",
    "\n",
    "\n",
    "\n",
    "#------------------------------\n",
    "\n",
    "\n",
    "clf = KMeans(n_clusters=2)\n",
    "clf.fit(X)\n",
    "\n",
    "correct = 0\n",
    "for i in range(len(X)):\n",
    "    predict_me = np.array(X[i])\n",
    "    predict_me = predict_me.reshape(-1, len(predict_me))\n",
    "    prediction = clf.predict(predict_me)\n",
    "    if prediction[0] == y[i]:\n",
    "        correct += 1\n",
    "        \n",
    "print(correct/len(X))\n",
    "\n",
    "\n",
    "# print(joined)'Speed_limit','Light_Conditions','Weather_Conditions',"
   ]
  },
  {
   "cell_type": "code",
   "execution_count": 22,
   "metadata": {},
   "outputs": [
    {
     "data": {
      "text/plain": [
       "<matplotlib.axes._subplots.AxesSubplot at 0x23b3f2e6c50>"
      ]
     },
     "execution_count": 22,
     "metadata": {},
     "output_type": "execute_result"
    },
    {
     "data": {
      "image/png": "[encoded data removed]",
      "text/plain": [
       "<Figure size 288x288 with 1 Axes>"
      ]
     },
     "metadata": {},
     "output_type": "display_data"
    }
   ],
   "source": [
    "plt.figure(figsize=(4,4))\n",
    "df['Accident_Severity'].value_counts().plot.pie(autopct= '%1.1f%%', cmap='Pastel1')"
   ]
  },
  {
   "cell_type": "code",
   "execution_count": 17,
   "metadata": {},
   "outputs": [
    {
     "name": "stdout",
     "output_type": "stream",
     "text": [
      "(252435, 13)\n"
     ]
    }
   ],
   "source": [
    "print(df.shape)"
   ]
  },
  {
   "cell_type": "code",
   "execution_count": 21,
   "metadata": {},
   "outputs": [
    {
     "name": "stdout",
     "output_type": "stream",
     "text": [
      "        Accident_Severity  Day_of_Week  1st_Road_Class  Speed_limit  \\\n",
      "224973                  0            2               4         30.0   \n",
      "224974                  1            2               3         60.0   \n",
      "224975                  1            2               3         60.0   \n",
      "224976                  0            1               4         30.0   \n",
      "224977                  0            1               4         30.0   \n",
      "224978                  0            3               3         40.0   \n",
      "224979                  0            3               3         40.0   \n",
      "224980                  0            3               3         60.0   \n",
      "224981                  0            3               3         60.0   \n",
      "224982                  0            1               1         70.0   \n",
      "\n",
      "        Light_Conditions  Weather_Conditions  Road_Surface_Conditions  \\\n",
      "224973                 1                   1                        1   \n",
      "224974                 1                   1                        1   \n",
      "224975                 1                   1                        1   \n",
      "224976                 1                   1                        1   \n",
      "224977                 1                   1                        1   \n",
      "224978                 1                   1                        1   \n",
      "224979                 1                   1                        1   \n",
      "224980                 1                   1                        1   \n",
      "224981                 1                   1                        1   \n",
      "224982                 6                   1                        1   \n",
      "\n",
      "        Vehicle_Reference  Vehicle_Type  Sex_of_Driver  Age_of_Driver  \\\n",
      "224973                  3             9              1             34   \n",
      "224974                  1             9              1             17   \n",
      "224975                  2            19              1             46   \n",
      "224976                  1             9              1             64   \n",
      "224977                  2             1              1             14   \n",
      "224978                  1             5              1             55   \n",
      "224979                  2            19              1             28   \n",
      "224980                  1             9              1             42   \n",
      "224981                  2             9              2             45   \n",
      "224982                  1             9              3             -1   \n",
      "\n",
      "        Age_of_Vehicle  label  \n",
      "224973              -1    0.0  \n",
      "224974              16    1.0  \n",
      "224975               2    1.0  \n",
      "224976               4    0.0  \n",
      "224977              -1    0.0  \n",
      "224978               4    0.0  \n",
      "224979               1    0.0  \n",
      "224980              10    0.0  \n",
      "224981              15    0.0  \n",
      "224982              -1    0.0  \n"
     ]
    }
   ],
   "source": [
    "#      SUPERVISED REGRESSION\n",
    "#--------------####-------------#\n",
    "import math\n",
    "\n",
    "\n",
    "forecast_col = 'Accident_Severity'\n",
    "\n",
    "forecast_out = int(math.ceil(0.01*len(df)))\n",
    "\n",
    "df['label'] = df[forecast_col].shift(-forecast_out)\n",
    "\n",
    "df.dropna(inplace=True)\n",
    "print(df.tail(10))"
   ]
  },
  {
   "cell_type": "code",
   "execution_count": 22,
   "metadata": {},
   "outputs": [
    {
     "name": "stderr",
     "output_type": "stream",
     "text": [
      "C:\\Users\\jalarsen\\AppData\\Local\\Continuum\\anaconda3\\lib\\site-packages\\IPython\\core\\interactiveshell.py:2785: DtypeWarning: Columns (31) have mixed types. Specify dtype option on import or set low_memory=False.\n",
      "  interactivity=interactivity, compiler=compiler, result=result)\n"
     ]
    },
    {
     "name": "stdout",
     "output_type": "stream",
     "text": [
      "LR: 0.877800 (0.028572)\n",
      "LDA: 0.877800 (0.028572)\n",
      "KNN: 0.868000 (0.029093)\n",
      "CART: 0.773600 (0.014827)\n",
      "NB: 0.871600 (0.029513)\n",
      "SVM: 0.877000 (0.028358)\n"
     ]
    },
    {
     "data": {
      "image/png": "[encoded data removed]",
      "text/plain": [
       "<Figure size 432x288 with 1 Axes>"
      ]
     },
     "metadata": {},
     "output_type": "display_data"
    }
   ],
   "source": [
    "######## Compare Algorithms\n",
    "####################################\n",
    "\n",
    "import pandas\n",
    "import matplotlib.pyplot as plt\n",
    "from sklearn import model_selection\n",
    "from sklearn.linear_model import LogisticRegression\n",
    "from sklearn.tree import DecisionTreeClassifier\n",
    "from sklearn.neighbors import KNeighborsClassifier\n",
    "from sklearn.discriminant_analysis import LinearDiscriminantAnalysis\n",
    "from sklearn.naive_bayes import GaussianNB\n",
    "from sklearn.svm import SVC\n",
    "from sklearn import preprocessing, cross_validation, svm\n",
    "from sklearn.model_selection import train_test_split\n",
    "from sklearn.linear_model import LogisticRegression\n",
    "from sklearn.linear_model import LinearRegression\n",
    "\n",
    "# load dataset\n",
    "\n",
    "\n",
    "import matplotlib.pyplot as plt\n",
    "from matplotlib import style\n",
    "style.use('ggplot')\n",
    "import numpy as np\n",
    "from sklearn.cluster import KMeans\n",
    "import pandas as pd\n",
    "from sklearn import preprocessing, cross_validation\n",
    "\n",
    "url=\"http://data.dft.gov.uk/road-accidents-safety-data/dftRoadSafety_Accidents_2016.zip\"\n",
    "c=pd.read_csv(url, compression='zip')\n",
    "url=\"http://data.dft.gov.uk/road-accidents-safety-data/dftRoadSafetyData_Vehicles_2016.zip\"\n",
    "d=pd.read_csv(url, compression='zip')\n",
    "c = c[['Accident_Index', 'Accident_Severity' ,'Date','Day_of_Week','Time','1st_Road_Class','Speed_limit','Light_Conditions','Weather_Conditions','Road_Surface_Conditions']]\n",
    "d = d[['Accident_Index','Vehicle_Reference','Vehicle_Type','Sex_of_Driver','Age_of_Driver','Age_of_Vehicle']]\n",
    "# l = [c,d]\n",
    "joined = pd.merge(c, d, on='Accident_Index')\n",
    "df_join = joined\n",
    "df_join.Accident_Severity = df_join.Accident_Severity.replace(2,1)\n",
    "df_join.Accident_Severity = df_join.Accident_Severity.replace(3,0)\n",
    "df_join.dropna()\n",
    "df_join.head(5)\n",
    "df = df_join.drop(['Accident_Index','Date','Time'],1)          #,'Vehicle_Type'], 1) #,'1st_Road_Class','Road_Surface_Conditions','Accident_Index','Vehicle_Reference','Sex_of_Driver','Age_of_Driver','Age_of_Vehicle', 'Age_of_Driver'], axis=1)\n",
    "df = df.dropna()\n",
    "df_L = df\n",
    "\n",
    "\n",
    "\n",
    "\n",
    "array = df.values\n",
    "X = array[:5000,1:]\n",
    "# X = preprocessing.scale(X)\n",
    "y = array[:5000,0]\n",
    "# url = \"https://raw.githubusercontent.com/jbrownlee/Datasets/master/pima-indians-diabetes.data.csv\"\n",
    "# names = ['preg', 'plas', 'pres', 'skin', 'test', 'mass', 'pedi', 'age', 'class']\n",
    "# dataframe = pandas.read_csv(url, names=names)\n",
    "# array = dataframe.values\n",
    "# X = array[:,0:8]\n",
    "# Y = array[:,8]\n",
    "\n",
    "\n",
    "# prepare configuration for cross validation test harness\n",
    "seed = 7\n",
    "# prepare models\n",
    "models = []\n",
    "models.append(('LR', LogisticRegression()))\n",
    "models.append(('LDA', LinearDiscriminantAnalysis()))\n",
    "models.append(('KNN', KNeighborsClassifier()))\n",
    "models.append(('CART', DecisionTreeClassifier()))\n",
    "models.append(('NB', GaussianNB()))\n",
    "models.append(('SVM', SVC()))\n",
    "\n",
    "# evaluate each model in turn\n",
    "results = []\n",
    "names = []\n",
    "scoring = 'accuracy'\n",
    "for name, model in models:\n",
    "\tkfold = model_selection.KFold(n_splits=10, random_state=seed)\n",
    "\tcv_results = model_selection.cross_val_score(model, X, y, cv=kfold, scoring=scoring)\n",
    "\tresults.append(cv_results)\n",
    "\tnames.append(name)\n",
    "\tmsg = \"%s: %f (%f)\" % (name, cv_results.mean(), cv_results.std())\n",
    "\tprint(msg)\n",
    "# boxplot algorithm comparison\n",
    "fig = plt.figure()\n",
    "fig.suptitle('Algorithm Comparison')\n",
    "ax = fig.add_subplot(111)\n",
    "plt.boxplot(results)\n",
    "ax.set_xticklabels(names)\n",
    "plt.show()"
   ]
  },
  {
   "cell_type": "code",
   "execution_count": 167,
   "metadata": {},
   "outputs": [],
   "source": []
  },
  {
   "cell_type": "code",
   "execution_count": 38,
   "metadata": {},
   "outputs": [
    {
     "name": "stdout",
     "output_type": "stream",
     "text": [
      "0.014084579044897239\n",
      "[[-0.5830745  -0.72357893 -0.59537709 ... -0.67724284  0.7666841\n",
      "  -1.11413292]\n",
      " [-0.5830745  -0.72357893 -0.59537709 ... -0.67724284 -0.61647116\n",
      "  -0.27906764]\n",
      " [-0.5830745  -0.72357893 -0.59537709 ...  0.9206616   0.02570807\n",
      "  -0.78010681]\n",
      " ...\n",
      " [ 0.46593724 -1.40487175  2.18658324 ... -0.67724284  1.26066812\n",
      "  -1.11413292]\n",
      " [ 1.51494898 -0.04228612  0.10011299 ... -0.67724284 -0.91286157\n",
      "   1.22404985]\n",
      " [-1.63208624 -1.40487175  2.18658324 ... -0.67724284  0.61848889\n",
      "  -0.11205459]]\n"
     ]
    }
   ],
   "source": [
    "#############  LINEAR REG. - DON'T\n",
    "\n",
    "from sklearn.model_selection import train_test_split\n",
    "from sklearn.linear_model import LogisticRegression\n",
    "from sklearn.linear_model import LinearRegression\n",
    "\n",
    "\n",
    "array = df.values\n",
    "X = array[:,1:]\n",
    "X = preprocessing.scale(X)\n",
    "y = array[:,0]\n",
    "\n",
    "# we split data\n",
    "X_train, X_test, y_train, y_test = train_test_split(X, y, test_size=.2) #, random_state=0)\n",
    "\n",
    "clf = LinearRegression()\n",
    "clf.fit(X_train, y_train)\n",
    "\n",
    "accuracy = clf.score(X_test, y_test)\n",
    "\n",
    "print(accuracy)\n",
    "print(X)"
   ]
  },
  {
   "cell_type": "code",
   "execution_count": 42,
   "metadata": {},
   "outputs": [
    {
     "name": "stdout",
     "output_type": "stream",
     "text": [
      "0.8775\n",
      "[[-0.61169849 -0.63469409 -0.0578715  ... -0.61624009  0.92201666\n",
      "  -0.96272085]\n",
      " [-0.61169849 -0.63469409 -0.0578715  ... -0.61624009 -0.5761534\n",
      "  -0.09266134]\n",
      " [-0.61169849 -0.63469409 -0.0578715  ...  0.84577673  0.11942556\n",
      "  -0.61469705]\n",
      " ...\n",
      " [-0.08323327 -0.63469409  1.25738979 ... -0.61624009  0.54747415\n",
      "   0.95141008]\n",
      " [-0.08323327 -0.63469409  1.25738979 ...  0.84577673 -0.25511696\n",
      "   2.1694934 ]\n",
      " [-0.08323327 -0.63469409  1.25738979 ... -0.61624009 -0.36212911\n",
      "   0.95141008]]\n"
     ]
    }
   ],
   "source": [
    "##############   SUPPORT VECTOR \n",
    "\n",
    "from sklearn import preprocessing, cross_validation, svm\n",
    "from sklearn.model_selection import train_test_split\n",
    "from sklearn.linear_model import LogisticRegression\n",
    "from sklearn.linear_model import LinearRegression\n",
    "\n",
    "\n",
    "array = df.values\n",
    "X = array[:2000,1:]\n",
    "X = preprocessing.scale(X)\n",
    "y = array[:2000,0]\n",
    "\n",
    "# we split data\n",
    "X_train, X_test, y_train, y_test = train_test_split(X, y, test_size=.2) #, random_state=0)\n",
    "\n",
    "clf = svm.SVC()\n",
    "clf.fit(X_train, y_train)\n",
    "\n",
    "accuracy = clf.score(X_test, y_test)\n",
    "\n",
    "print(accuracy)\n",
    "print(X)"
   ]
  },
  {
   "cell_type": "code",
   "execution_count": 37,
   "metadata": {},
   "outputs": [
    {
     "name": "stdout",
     "output_type": "stream",
     "text": [
      "0.8825\n",
      "[[-0.61169849 -0.63469409 -0.0578715  ... -0.61624009  0.92201666\n",
      "  -0.96272085]\n",
      " [-0.61169849 -0.63469409 -0.0578715  ... -0.61624009 -0.5761534\n",
      "  -0.09266134]\n",
      " [-0.61169849 -0.63469409 -0.0578715  ...  0.84577673  0.11942556\n",
      "  -0.61469705]\n",
      " ...\n",
      " [-0.08323327 -0.63469409  1.25738979 ... -0.61624009  0.54747415\n",
      "   0.95141008]\n",
      " [-0.08323327 -0.63469409  1.25738979 ...  0.84577673 -0.25511696\n",
      "   2.1694934 ]\n",
      " [-0.08323327 -0.63469409  1.25738979 ... -0.61624009 -0.36212911\n",
      "   0.95141008]]\n"
     ]
    }
   ],
   "source": [
    "#############   LINEAR DISCRIM. \n",
    "\n",
    "from sklearn.discriminant_analysis import LinearDiscriminantAnalysis\n",
    "from sklearn import preprocessing, cross_validation, svm\n",
    "from sklearn.model_selection import train_test_split\n",
    "from sklearn.linear_model import LogisticRegression\n",
    "from sklearn.linear_model import LinearRegression\n",
    "\n",
    "\n",
    "array = df.values\n",
    "X = array[:2000,1:]\n",
    "X = preprocessing.scale(X)\n",
    "y = array[:2000,0]\n",
    "\n",
    "# we split data\n",
    "X_train, X_test, y_train, y_test = train_test_split(X, y, test_size=.2) #, random_state=0)\n",
    "\n",
    "clf = LinearDiscriminantAnalysis()\n",
    "clf.fit(X_train, y_train)\n",
    "\n",
    "accuracy = clf.score(X_test, y_test)\n",
    "\n",
    "print(accuracy)\n",
    "print(X)"
   ]
  },
  {
   "cell_type": "code",
   "execution_count": 23,
   "metadata": {},
   "outputs": [
    {
     "name": "stdout",
     "output_type": "stream",
     "text": [
      "0.8376413730267197\n",
      "[[-0.5830745  -0.72357893 -0.59537709 ... -0.67724284  0.7666841\n",
      "  -1.11413292]\n",
      " [-0.5830745  -0.72357893 -0.59537709 ... -0.67724284 -0.61647116\n",
      "  -0.27906764]\n",
      " [-0.5830745  -0.72357893 -0.59537709 ...  0.9206616   0.02570807\n",
      "  -0.78010681]\n",
      " ...\n",
      " [ 0.46593724 -1.40487175  2.18658324 ... -0.67724284  1.26066812\n",
      "  -1.11413292]\n",
      " [ 1.51494898 -0.04228612  0.10011299 ... -0.67724284 -0.91286157\n",
      "   1.22404985]\n",
      " [-1.63208624 -1.40487175  2.18658324 ... -0.67724284  0.61848889\n",
      "  -0.11205459]]\n"
     ]
    }
   ],
   "source": [
    "############  LOGISTIC\n",
    "\n",
    "from sklearn.discriminant_analysis import LinearDiscriminantAnalysis\n",
    "from sklearn import preprocessing, cross_validation, svm\n",
    "from sklearn.model_selection import train_test_split\n",
    "from sklearn.linear_model import LogisticRegression\n",
    "from sklearn.linear_model import LinearRegression\n",
    "\n",
    "\n",
    "array = df.values\n",
    "X = array[:,1:]\n",
    "X = preprocessing.scale(X)\n",
    "y = array[:,0]\n",
    "\n",
    "# we split data\n",
    "X_train, X_test, y_train, y_test = train_test_split(X, y, test_size=.2) #, random_state=0)\n",
    "\n",
    "clf = LogisticRegression()\n",
    "clf.fit(X_train, y_train)\n",
    "\n",
    "accuracy = clf.score(X_test, y_test)\n",
    "\n",
    "print(accuracy)\n",
    "print(X)"
   ]
  },
  {
   "cell_type": "code",
   "execution_count": null,
   "metadata": {},
   "outputs": [],
   "source": []
  },
  {
   "cell_type": "code",
   "execution_count": 171,
   "metadata": {},
   "outputs": [],
   "source": [
    "import pandas as pd\n",
    "import numpy as np\n",
    "from sklearn import preprocessing\n",
    "import matplotlib.pyplot as plt \n",
    "plt.rc(\"font\", size=14)\n",
    "from sklearn.linear_model import LogisticRegression\n",
    "from sklearn.cross_validation import train_test_split\n",
    "import seaborn as sns\n",
    "sns.set(style=\"white\")\n",
    "sns.set(style=\"whitegrid\", color_codes=True)"
   ]
  },
  {
   "cell_type": "code",
   "execution_count": 24,
   "metadata": {},
   "outputs": [
    {
     "name": "stdout",
     "output_type": "stream",
     "text": [
      "<class 'pandas.core.series.Series'>\n"
     ]
    },
    {
     "data": {
      "text/html": [
       "<div>\n",
       "<style scoped>\n",
       "    .dataframe tbody tr th:only-of-type {\n",
       "        vertical-align: middle;\n",
       "    }\n",
       "\n",
       "    .dataframe tbody tr th {\n",
       "        vertical-align: top;\n",
       "    }\n",
       "\n",
       "    .dataframe thead th {\n",
       "        text-align: right;\n",
       "    }\n",
       "</style>\n",
       "<table border=\"1\" class=\"dataframe\">\n",
       "  <thead>\n",
       "    <tr style=\"text-align: right;\">\n",
       "      <th></th>\n",
       "      <th>Day_of_Week</th>\n",
       "      <th>1st_Road_Class</th>\n",
       "      <th>Speed_limit</th>\n",
       "      <th>Light_Conditions</th>\n",
       "      <th>Weather_Conditions</th>\n",
       "      <th>Road_Surface_Conditions</th>\n",
       "      <th>Vehicle_Reference</th>\n",
       "      <th>Vehicle_Type</th>\n",
       "      <th>Sex_of_Driver</th>\n",
       "      <th>Age_of_Driver</th>\n",
       "      <th>Age_of_Vehicle</th>\n",
       "    </tr>\n",
       "    <tr>\n",
       "      <th>Accident_Severity</th>\n",
       "      <th></th>\n",
       "      <th></th>\n",
       "      <th></th>\n",
       "      <th></th>\n",
       "      <th></th>\n",
       "      <th></th>\n",
       "      <th></th>\n",
       "      <th></th>\n",
       "      <th></th>\n",
       "      <th></th>\n",
       "      <th></th>\n",
       "    </tr>\n",
       "  </thead>\n",
       "  <tbody>\n",
       "    <tr>\n",
       "      <th>0</th>\n",
       "      <td>4.118964</td>\n",
       "      <td>4.060543</td>\n",
       "      <td>38.021061</td>\n",
       "      <td>1.910525</td>\n",
       "      <td>1.541043</td>\n",
       "      <td>1.278145</td>\n",
       "      <td>1.567291</td>\n",
       "      <td>9.802526</td>\n",
       "      <td>1.439471</td>\n",
       "      <td>34.960891</td>\n",
       "      <td>5.650838</td>\n",
       "    </tr>\n",
       "    <tr>\n",
       "      <th>1</th>\n",
       "      <td>4.073340</td>\n",
       "      <td>4.070072</td>\n",
       "      <td>41.393023</td>\n",
       "      <td>2.088469</td>\n",
       "      <td>1.469978</td>\n",
       "      <td>1.293857</td>\n",
       "      <td>1.528140</td>\n",
       "      <td>9.670265</td>\n",
       "      <td>1.341719</td>\n",
       "      <td>38.202887</td>\n",
       "      <td>5.776438</td>\n",
       "    </tr>\n",
       "  </tbody>\n",
       "</table>\n",
       "</div>"
      ],
      "text/plain": [
       "                   Day_of_Week  1st_Road_Class  Speed_limit  Light_Conditions  \\\n",
       "Accident_Severity                                                               \n",
       "0                     4.118964        4.060543    38.021061          1.910525   \n",
       "1                     4.073340        4.070072    41.393023          2.088469   \n",
       "\n",
       "                   Weather_Conditions  Road_Surface_Conditions  \\\n",
       "Accident_Severity                                                \n",
       "0                            1.541043                 1.278145   \n",
       "1                            1.469978                 1.293857   \n",
       "\n",
       "                   Vehicle_Reference  Vehicle_Type  Sex_of_Driver  \\\n",
       "Accident_Severity                                                   \n",
       "0                           1.567291      9.802526       1.439471   \n",
       "1                           1.528140      9.670265       1.341719   \n",
       "\n",
       "                   Age_of_Driver  Age_of_Vehicle  \n",
       "Accident_Severity                                 \n",
       "0                      34.960891        5.650838  \n",
       "1                      38.202887        5.776438  "
      ]
     },
     "execution_count": 24,
     "metadata": {},
     "output_type": "execute_result"
    }
   ],
   "source": [
    "#     LOGISTIC REGRESSION\n",
    "#------------####---------------#\n",
    "\n",
    "\n",
    "X = df\n",
    "# X = preprocessing.scale(X)\n",
    "y = df['Accident_Severity']\n",
    "print(type(y))\n",
    "X.groupby(y).mean()"
   ]
  },
  {
   "cell_type": "code",
   "execution_count": 25,
   "metadata": {},
   "outputs": [
    {
     "name": "stdout",
     "output_type": "stream",
     "text": [
      "Num Features: 3\n",
      "Selected Features: [ True False False False False False  True False False  True False False]\n",
      "Feature Ranking: [ 1  4  2  6  5  7  1  3 10  1  8  9]\n"
     ]
    }
   ],
   "source": [
    "# Feature Extraction with PCA\n",
    "\n",
    "#Feature extraction\n",
    "\n",
    "model = LogisticRegression() \n",
    "\n",
    "rfe = RFE(model, 3)\n",
    "\n",
    "fit = rfe.fit(X, y)\n",
    "\n",
    "print(\"Num Features: %d\"% fit.n_features_) \n",
    "print(\"Selected Features: %s\"% fit.support_) \n",
    "print(\"Feature Ranking: %s\"% fit.ranking_)"
   ]
  },
  {
   "cell_type": "code",
   "execution_count": null,
   "metadata": {},
   "outputs": [],
   "source": []
  },
  {
   "cell_type": "code",
   "execution_count": null,
   "metadata": {},
   "outputs": [],
   "source": []
  },
  {
   "cell_type": "code",
   "execution_count": null,
   "metadata": {},
   "outputs": [],
   "source": []
  },
  {
   "cell_type": "code",
   "execution_count": null,
   "metadata": {},
   "outputs": [],
   "source": []
  },
  {
   "cell_type": "code",
   "execution_count": null,
   "metadata": {},
   "outputs": [],
   "source": []
  },
  {
   "cell_type": "code",
   "execution_count": null,
   "metadata": {},
   "outputs": [],
   "source": []
  },
  {
   "cell_type": "code",
   "execution_count": null,
   "metadata": {},
   "outputs": [],
   "source": []
  },
  {
   "cell_type": "code",
   "execution_count": 72,
   "metadata": {},
   "outputs": [],
   "source": [
    "# Don't use - Only for dummy\n",
    "\n",
    "# cat_vars=['Accident_Severity','Day_of_Week','Speed_limit','Light_Conditions','Weather_Conditions','Road_Surface_Conditions','Vehicle_Type','Sex_of_Driver','Age_of_Driver','Age_of_Vehicle']\n",
    "# for var in cat_vars:\n",
    "#     cat_list='var'+'_'+var\n",
    "#     cat_list = pd.get_dummies(df[var], prefix=var)\n",
    "#     data1=df.join(cat_list)\n",
    "#     data=data1\n",
    "# cat_vars=['Day_of_Week','Speed_limit','Light_Conditions','Weather_Conditions','Road_surface_Conditions','Vehicle_Type','Sex_of_Driver','Age_of_Driver','Age_of_Vehicle']\n",
    "# data_vars=df.columns.values.tolist()\n",
    "# to_keep=[i for i in data_vars if i not in cat_vars]"
   ]
  },
  {
   "cell_type": "code",
   "execution_count": 30,
   "metadata": {},
   "outputs": [],
   "source": [
    "# data_final=df\n",
    "# data_final.columns.values"
   ]
  },
  {
   "cell_type": "code",
   "execution_count": 177,
   "metadata": {},
   "outputs": [],
   "source": [
    "# data_final_vars=data_final.columns.values.tolist()\n",
    "# y=['Accident_Severity']\n",
    "# X=[i for i in data_final_vars if i not in y]"
   ]
  },
  {
   "cell_type": "code",
   "execution_count": null,
   "metadata": {},
   "outputs": [],
   "source": []
  },
  {
   "cell_type": "code",
   "execution_count": 26,
   "metadata": {},
   "outputs": [],
   "source": [
    "# X = scaled_df(['1'])\n",
    "# y = scaled_df(['0'])"
   ]
  },
  {
   "cell_type": "code",
   "execution_count": 27,
   "metadata": {},
   "outputs": [],
   "source": [
    "# from sklearn import datasets\n",
    "# from sklearn.feature_selection import RFE\n",
    "# from sklearn.linear_model import LogisticRegression\n",
    "\n",
    "# logreg = LogisticRegression()\n",
    "# rfe = RFE(logreg, 18)\n",
    "# rfe = rfe.fit(data_final[X], data_final[y] )\n",
    "# print(rfe.support_)\n",
    "# print(rfe.ranking_)"
   ]
  },
  {
   "cell_type": "code",
   "execution_count": 28,
   "metadata": {},
   "outputs": [],
   "source": [
    "# Xcols = ['Day_of_Week','Speed_limit','Light_Conditions','Weather_Conditions','Road_Surface_Conditions','Vehicle_Type','Sex_of_Driver','Age_of_Driver','Age_of_Vehicle']\n",
    "# ycols = ['Accident_Severity']"
   ]
  },
  {
   "cell_type": "code",
   "execution_count": null,
   "metadata": {},
   "outputs": [],
   "source": []
  },
  {
   "cell_type": "code",
   "execution_count": null,
   "metadata": {},
   "outputs": [],
   "source": []
  },
  {
   "cell_type": "code",
   "execution_count": 29,
   "metadata": {},
   "outputs": [],
   "source": [
    "# import statsmodels.api as sm\n",
    "# logit_model=sm.Logit(y,X)\n",
    "# result=logit_model.fit()\n",
    "# print(result.summary())"
   ]
  }
 ],
 "metadata": {
  "kernelspec": {
   "display_name": "Python 3",
   "language": "python",
   "name": "python3"
  },
  "language_info": {
   "codemirror_mode": {
    "name": "ipython",
    "version": 3
   },
   "file_extension": ".py",
   "mimetype": "text/x-python",
   "name": "python",
   "nbconvert_exporter": "python",
   "pygments_lexer": "ipython3",
   "version": "3.6.5"
  }
 },
 "nbformat": 4,
 "nbformat_minor": 2
}
