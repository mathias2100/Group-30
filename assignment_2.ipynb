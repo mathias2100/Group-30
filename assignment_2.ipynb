{
 "cells": [
  {
   "cell_type": "markdown",
   "metadata": {},
   "source": [
    "# Assignment 2\n",
    "\n",
    "## These are the exersices that will be in the assignment for Friday\n",
    "\n",
    "### Missing:\n",
    "    - 11.1.5: All\n",
    "    - 11.1.6: All\n",
    "    - 12.2.1: All\n",
    "    - 12.2.2: All\n",
    "    - 12.2.3: All\n",
    "    - 13.1.3: All\n",
    "    - 14.1.3: All\n",
    "    - 14.1.4: All"
   ]
  },
  {
   "cell_type": "code",
   "execution_count": 1,
   "metadata": {},
   "outputs": [],
   "source": [
    "# Ex. 11.1.5"
   ]
  },
  {
   "cell_type": "code",
   "execution_count": 2,
   "metadata": {},
   "outputs": [],
   "source": [
    "# Ex. 11.1.6"
   ]
  },
  {
   "cell_type": "code",
   "execution_count": 3,
   "metadata": {},
   "outputs": [],
   "source": [
    "# Ex. 12.2.1"
   ]
  },
  {
   "cell_type": "code",
   "execution_count": 4,
   "metadata": {},
   "outputs": [],
   "source": [
    "# Ex. 12.2.2"
   ]
  },
  {
   "cell_type": "code",
   "execution_count": 5,
   "metadata": {},
   "outputs": [],
   "source": [
    "# Ex. 12.2.3"
   ]
  },
  {
   "cell_type": "code",
   "execution_count": 6,
   "metadata": {},
   "outputs": [],
   "source": [
    "# Ex. 13.1.3"
   ]
  },
  {
   "cell_type": "code",
   "execution_count": 6,
   "metadata": {},
   "outputs": [],
   "source": [
    "#Needed for exercise 14.1.3:\n",
    "import matplotlib.pyplot as plt \n",
    "import pandas as pd \n",
    "import numpy as np\n",
    "import seaborn as sns \n",
    "from sklearn.tree import DecisionTreeClassifier\n",
    "\n",
    "data = sns.load_dataset('titanic').sample(frac=1, random_state = 3)\n",
    "data['male'] = (data['sex'] == 'male').astype(int)\n",
    "data['alone'] = data['alone'].astype(int)\n",
    "data['adult_male'] = data['adult_male'].astype(int)\n",
    "\n",
    "data2 = pd.get_dummies(data, \n",
    "                      columns = ['class', 'sibsp', 'parch', 'deck'], \n",
    "                      drop_first=True)\\\n",
    "         .drop(['pclass', 'sex', 'embarked', 'who', 'embark_town', 'alive'], axis = 1).dropna()\n",
    "\n",
    "X = np.array(data2.drop('survived', axis = 1))\n",
    "y = np.array(data2['survived'])\n",
    "\n",
    "# Ex. 14.1.3\n",
    "Descision_tree = DecisionTreeClassifier()\n",
    "fittedModel = Descision_tree.fit(X, y)  \n",
    "predict_ = Descision_tree.predict(X)\n",
    "\n",
    "#Function for TruePositive:\n",
    "def TP(X,y,predict_):\n",
    "    return np.where((y+predict_) == 2)[0]\n",
    "\n",
    "#Function for TrueNegative:\n",
    "def TN(X,y,predict_):\n",
    "    return np.where((y+predict_) == 0)[0]\n",
    "\n",
    "#Function for FalsePositive:\n",
    "def FP(X,y,predict_):\n",
    "    return np.where((predict_ == 0) & (y == 1))[0]\n",
    "\n",
    "#Function for FalseNegative:\n",
    "def FN(X,y,predict_):\n",
    "    return np.where((predict_ == 1) & (y == 0))[0]"
   ]
  },
  {
   "cell_type": "code",
   "execution_count": 7,
   "metadata": {},
   "outputs": [],
   "source": [
    "# Ex. 14.1.4\n",
    "#Accuracy function:\n",
    "def A(X,y, predict_):\n",
    "    Upper = len(TP(X,y,predict_)) + len(TN(X,y,predict_))\n",
    "    Lower = len(TP(X,y,predict_)) + len(TN(X,y,predict_)) + len(FP(X,y,predict_)) + len(FN(X,y,predict_))\n",
    "    ACC = Upper/Lower\n",
    "    return ACC"
   ]
  },
  {
   "cell_type": "code",
   "execution_count": null,
   "metadata": {},
   "outputs": [],
   "source": []
  }
 ],
 "metadata": {
  "kernelspec": {
   "display_name": "Python 3",
   "language": "python",
   "name": "python3"
  },
  "language_info": {
   "codemirror_mode": {
    "name": "ipython",
    "version": 3
   },
   "file_extension": ".py",
   "mimetype": "text/x-python",
   "name": "python",
   "nbconvert_exporter": "python",
   "pygments_lexer": "ipython3",
   "version": "3.6.6"
  }
 },
 "nbformat": 4,
 "nbformat_minor": 2
}
