{
 "cells": [
  {
   "cell_type": "markdown",
   "metadata": {},
   "source": [
    "<h1><center>Social Data Science - Project</center></h1>\n",
    "<h2><center>Road Accidents in Great Britain</center></h2>\n",
    "*By **Janus, Gautam and Mathias** *"
   ]
  },
  {
   "cell_type": "markdown",
   "metadata": {},
   "source": [
    "## Import Package"
   ]
  },
  {
   "cell_type": "code",
   "execution_count": 1,
   "metadata": {},
   "outputs": [],
   "source": [
    "import pandas as pd\n",
    "import re\n",
    "import matplotlib.pyplot as plt\n",
    "import numpy as np \n",
    "import seaborn as sns"
   ]
  },
  {
   "cell_type": "markdown",
   "metadata": {},
   "source": [
    "## Import data:\n",
    "Our data is available at [Great Britian Road Accident Data](https://data.gov.uk/dataset/cb7ae6f0-4be6-4935-9277-47e5ce24a11f/road-safety-data) in which we take the need URLs for each CSV file. \n",
    "\n",
    "However, we were unable to unpack a ZIP file containing multiple files for the periode 2005 to 2014. Hence, The needed files are store on our desktop and imported into python."
   ]
  },
  {
   "cell_type": "code",
   "execution_count": 2,
   "metadata": {},
   "outputs": [
    {
     "name": "stderr",
     "output_type": "stream",
     "text": [
      "C:\\Users\\jalarsen\\AppData\\Local\\Continuum\\anaconda3\\lib\\site-packages\\IPython\\core\\interactiveshell.py:2785: DtypeWarning: Columns (31) have mixed types. Specify dtype option on import or set low_memory=False.\n",
      "  interactivity=interactivity, compiler=compiler, result=result)\n",
      "C:\\Users\\jalarsen\\AppData\\Local\\Continuum\\anaconda3\\lib\\site-packages\\IPython\\core\\interactiveshell.py:2785: DtypeWarning: Columns (0) have mixed types. Specify dtype option on import or set low_memory=False.\n",
      "  interactivity=interactivity, compiler=compiler, result=result)\n"
     ]
    }
   ],
   "source": [
    "# url = 'http://data.dft.gov.uk/road-accidents-safety-data/dftRoadSafetyData_Casualties_2016.zip'\n",
    "# nu = re.findall(\"[_].+[A-Za-z].+\\d\",url)\n",
    "# st1 = ''.join(nu)\n",
    "# print(st1) \n",
    "\n",
    "url = [\"http://data.dft.gov.uk/road-accidents-safety-data/dftRoadSafetyData_Vehicles_2016.zip\",\"http://data.dft.gov.uk/road-accidents-safety-data/dftRoadSafety_Accidents_2016.zip\",\n",
    "       \"http://data.dft.gov.uk/road-accidents-safety-data/RoadSafetyData_Vehicles_2015.zip\",\"http://data.dft.gov.uk/road-accidents-safety-data/RoadSafetyData_Accidents_2015.zip\"]\n",
    "\n",
    "####Figure out how to download the 05-14 and save it in your memory or get the fucking zip thing to work\n",
    "vehicles_2016 = pd.read_csv(url[0], compression='zip')\n",
    "accidents_2016 = pd.read_csv(url[1], compression='zip')\n",
    "vehicles_2015 = pd.read_csv(url[2], compression='zip')\n",
    "accidents_2015 = pd.read_csv(url[3], compression='zip')\n",
    "#Mathias: \n",
    "# vehicles_05_14 = pd.read_csv(\"/Users/jarand/Documents/Stud.Polit/Social Data Science/EXAM/Vehicles0514.csv\")\n",
    "# accidents_05_14 = pd.read_csv(\"/Users/jarand/Documents/Stud.Polit/Social Data Science/EXAM/Accidents0514.csv\")\n",
    "\n",
    "#Janus:\n",
    "vehicles_05_14 = pd.read_csv(\"/Users/jalarsen/Desktop/School/Social Data Science/Exam/Datafile/Vehicles0514.csv\")\n",
    "accidents_05_14 = pd.read_csv(\"/Users/jalarsen/Desktop/School/Social Data Science/Exam/Datafile/Accidents0514.csv\")"
   ]
  },
  {
   "cell_type": "markdown",
   "metadata": {},
   "source": [
    "## Filtering and Adjusting the Data:\n",
    "- Each files contains around 30 columns\n",
    "- Many columns which are not needed \n",
    "- Due to large files, we filter and adjust each file seperately before merging them"
   ]
  },
  {
   "cell_type": "code",
   "execution_count": 3,
   "metadata": {},
   "outputs": [],
   "source": [
    "# Filtering the columns we need and dropping the rest\n",
    "\n",
    "vehicles_2016 = vehicles_2016[['Accident_Index','Vehicle_Reference','Sex_of_Driver','Age_of_Driver','Age_of_Vehicle','Vehicle_Type']]\n",
    "accidents_2016 = accidents_2016[['Accident_Index','Day_of_Week','Time','1st_Road_Class','Speed_limit','Light_Conditions','Weather_Conditions','Road_Surface_Conditions','Number_of_Casualties', 'Accident_Severity']]\n",
    "\n",
    "vehicles_2015 = vehicles_2015[['Accident_Index','Vehicle_Reference','Sex_of_Driver','Age_of_Driver','Age_of_Vehicle','Vehicle_Type']]\n",
    "accidents_2015 = accidents_2015[['Accident_Index','Day_of_Week','Time','1st_Road_Class','Speed_limit','Light_Conditions','Weather_Conditions','Road_Surface_Conditions','Number_of_Casualties', 'Accident_Severity']]\n",
    "\n",
    "vehicles_05_14 = vehicles_05_14[['Accident_Index','Vehicle_Reference','Sex_of_Driver','Age_of_Driver','Age_of_Vehicle','Vehicle_Type']]\n",
    "accidents_05_14 = accidents_05_14[['Accident_Index','Day_of_Week','Time','1st_Road_Class','Speed_limit','Light_Conditions','Weather_Conditions','Road_Surface_Conditions','Number_of_Casualties', 'Accident_Severity']]"
   ]
  },
  {
   "cell_type": "code",
   "execution_count": 4,
   "metadata": {},
   "outputs": [],
   "source": [
    "# Removing Sex_of_Driver = -1 & 3 which mean data missing and Not known\n",
    "\n",
    "vehicles_2016 = vehicles_2016[(vehicles_2016['Sex_of_Driver']==1) | (vehicles_2016['Sex_of_Driver']==2)]\n",
    "\n",
    "vehicles_2015 = vehicles_2015[(vehicles_2015['Sex_of_Driver']==1) | (vehicles_2015['Sex_of_Driver']==2)]\n",
    "\n",
    "vehicles_05_14 = vehicles_05_14[(vehicles_05_14['Sex_of_Driver']==1) | (vehicles_05_14['Sex_of_Driver']==2)]"
   ]
  },
  {
   "cell_type": "code",
   "execution_count": 5,
   "metadata": {},
   "outputs": [],
   "source": [
    "# Removing missing data values from Age_of_Driver\n",
    "\n",
    "vehicles_2016 = vehicles_2016[(vehicles_2016['Age_of_Driver']!=-1)]\n",
    "\n",
    "vehicles_2015 = vehicles_2015[(vehicles_2015['Age_of_Driver']!=-1)]\n",
    "\n",
    "vehicles_05_14 = vehicles_05_14[(vehicles_05_14['Age_of_Driver']!=-1)]"
   ]
  },
  {
   "cell_type": "code",
   "execution_count": 6,
   "metadata": {},
   "outputs": [],
   "source": [
    "#Removing missing values from the Age_of_Vehicle\n",
    "\n",
    "vehicles_2016 = vehicles_2016[(vehicles_2016['Age_of_Vehicle']!=-1)]\n",
    "\n",
    "vehicles_2015 = vehicles_2015[(vehicles_2015['Age_of_Vehicle']!=-1)]\n",
    "\n",
    "vehicles_05_14 = vehicles_05_14[(vehicles_05_14['Age_of_Vehicle']!=-1)]"
   ]
  },
  {
   "cell_type": "code",
   "execution_count": 7,
   "metadata": {},
   "outputs": [],
   "source": [
    "#Filtering the Vehicle_Type down to Cars and Motorbikes \n",
    "\n",
    "vehicles_2016 = vehicles_2016[(vehicles_2016['Vehicle_Type']==2) | (vehicles_2016['Vehicle_Type']==3) | (vehicles_2016['Vehicle_Type']==4) | (vehicles_2016['Vehicle_Type']==5) | (vehicles_2016['Vehicle_Type']==8) | (vehicles_2016['Vehicle_Type']==9) | (vehicles_2016['Vehicle_Type']==22) | (vehicles_2016['Vehicle_Type']==23) | (vehicles_2016['Vehicle_Type']==97)]\n",
    "\n",
    "vehicles_2015 = vehicles_2015[(vehicles_2015['Vehicle_Type']==2) | (vehicles_2015['Vehicle_Type']==3) | (vehicles_2015['Vehicle_Type']==4) | (vehicles_2015['Vehicle_Type']==5) | (vehicles_2015['Vehicle_Type']==8) | (vehicles_2015['Vehicle_Type']==9) | (vehicles_2015['Vehicle_Type']==22) | (vehicles_2015['Vehicle_Type']==23) | (vehicles_2015['Vehicle_Type']==97)]\n",
    "\n",
    "vehicles_05_14 = vehicles_05_14[(vehicles_05_14['Vehicle_Type']==2) | (vehicles_05_14['Vehicle_Type']==3) | (vehicles_05_14['Vehicle_Type']==4) | (vehicles_05_14['Vehicle_Type']==5) | (vehicles_05_14['Vehicle_Type']==8) | (vehicles_05_14['Vehicle_Type']==9) | (vehicles_05_14['Vehicle_Type']==22) | (vehicles_05_14['Vehicle_Type']==23) | (vehicles_05_14['Vehicle_Type']==97)]"
   ]
  },
  {
   "cell_type": "code",
   "execution_count": 8,
   "metadata": {},
   "outputs": [],
   "source": [
    "# Removing Roads which are not classified\n",
    "\n",
    "accidents_2016 = accidents_2016[(accidents_2016['1st_Road_Class']!=6)]\n",
    "\n",
    "accidents_2015 = accidents_2015[(accidents_2015['1st_Road_Class']!=6)]\n",
    "\n",
    "accidents_05_14 = accidents_05_14[(accidents_05_14['1st_Road_Class']!=6)]"
   ]
  },
  {
   "cell_type": "code",
   "execution_count": 9,
   "metadata": {},
   "outputs": [],
   "source": [
    "# Filtering Light Conditions (Daylight , Dark with lights lit, Dark with no light)\n",
    "\n",
    "accidents_2016 = accidents_2016[(accidents_2016['Light_Conditions']==1) | (accidents_2016['Light_Conditions']==4) | (accidents_2016['Light_Conditions']==6)]\n",
    "\n",
    "accidents_2015 = accidents_2015[(accidents_2015['Light_Conditions']==1) | (accidents_2015['Light_Conditions']==4) | (accidents_2015['Light_Conditions']==6)]\n",
    "\n",
    "accidents_05_14 = accidents_05_14[(accidents_05_14['Light_Conditions']==1) | (accidents_05_14['Light_Conditions']==4) | (accidents_05_14['Light_Conditions']==6)]"
   ]
  },
  {
   "cell_type": "code",
   "execution_count": 10,
   "metadata": {},
   "outputs": [],
   "source": [
    "# Sun and Rain\n",
    "\n",
    "accidents_2016 = accidents_2016[(accidents_2016['Weather_Conditions']==1) | (accidents_2016['Weather_Conditions']==2)]\n",
    "\n",
    "accidents_2015 = accidents_2015[(accidents_2015['Weather_Conditions']==1) | (accidents_2015['Weather_Conditions']==2)]\n",
    "\n",
    "accidents_05_14 = accidents_05_14[(accidents_05_14['Weather_Conditions']==1) | (accidents_05_14['Weather_Conditions']==2)]"
   ]
  },
  {
   "cell_type": "code",
   "execution_count": 11,
   "metadata": {},
   "outputs": [],
   "source": [
    "# Dry and Wet roads\n",
    "\n",
    "accidents_2016 = accidents_2016[(accidents_2016['Road_Surface_Conditions']==1) | (accidents_2016['Road_Surface_Conditions']==2)]\n",
    "\n",
    "accidents_2015 = accidents_2015[(accidents_2015['Road_Surface_Conditions']==1) | (accidents_2015['Road_Surface_Conditions']==2)]\n",
    "\n",
    "accidents_05_14 = accidents_05_14[(accidents_05_14['Road_Surface_Conditions']==1) | (accidents_05_14['Road_Surface_Conditions']==2)]"
   ]
  },
  {
   "cell_type": "code",
   "execution_count": 12,
   "metadata": {},
   "outputs": [
    {
     "name": "stdout",
     "output_type": "stream",
     "text": [
      "(1042177, 10)\n",
      "(83619, 10)\n",
      "(88542, 10)\n"
     ]
    }
   ],
   "source": [
    "print(accidents_05_14.shape)\n",
    "print(accidents_2016.shape)\n",
    "print(accidents_2015.shape)"
   ]
  },
  {
   "cell_type": "code",
   "execution_count": 13,
   "metadata": {},
   "outputs": [],
   "source": [
    "# Turning Accident_Severity into binary i.e 0 for Non-Fatal and 1 for Fatal & Serious Accidents\n",
    "\n",
    "accidents_2016.Accident_Severity = accidents_2016.Accident_Severity.replace(2,1)\n",
    "accidents_2016.Accident_Severity = accidents_2016.Accident_Severity.replace(3,0)\n",
    "\n",
    "accidents_2015.Accident_Severity = accidents_2015.Accident_Severity.replace(2,1)\n",
    "accidents_2015.Accident_Severity = accidents_2015.Accident_Severity.replace(3,0)\n",
    "\n",
    "accidents_05_14.Accident_Severity = accidents_05_14.Accident_Severity.replace(2,1)\n",
    "accidents_05_14.Accident_Severity = accidents_05_14.Accident_Severity.replace(3,0)"
   ]
  },
  {
   "cell_type": "code",
   "execution_count": 14,
   "metadata": {},
   "outputs": [
    {
     "data": {
      "text/plain": [
       "Index(['Accident_Index', 'Day_of_Week', 'Time', '1st_Road_Class',\n",
       "       'Speed_limit', 'Light_Conditions', 'Weather_Conditions',\n",
       "       'Road_Surface_Conditions', 'Number_of_Casualties', 'Accident_Severity'],\n",
       "      dtype='object')"
      ]
     },
     "execution_count": 14,
     "metadata": {},
     "output_type": "execute_result"
    }
   ],
   "source": [
    "accidents_2015.columns"
   ]
  },
  {
   "cell_type": "code",
   "execution_count": 15,
   "metadata": {},
   "outputs": [],
   "source": [
    "# c.groupby('Road_Surface_Conditions').count() /////// Important stuff\n"
   ]
  },
  {
   "cell_type": "code",
   "execution_count": 65,
   "metadata": {},
   "outputs": [
    {
     "name": "stdout",
     "output_type": "stream",
     "text": [
      "(98202, 15)\n"
     ]
    }
   ],
   "source": [
    "# joined = pd.concat(l,join_axes=[a.Accident_index]) #Works with axis=1, but has two columns of accident_index\n",
    "\n",
    "_16 = pd.merge(vehicles_2016,accidents_2016, on='Accident_Index')\n",
    "print(_16.shape)\n",
    "_15 = pd.merge(vehicles_2015,accidents_2015, on='Accident_Index')\n",
    "\n",
    "_05_14 = pd.merge(vehicles_05_14,accidents_05_14, on='Accident_Index')"
   ]
  },
  {
   "cell_type": "code",
   "execution_count": 66,
   "metadata": {},
   "outputs": [],
   "source": [
    "# Merge the three files: \n",
    "joined2 = pd.concat([_16, _15], ignore_index=False)\n",
    "joined = pd.concat([joined2, _05_14], ignore_index=False)"
   ]
  },
  {
   "cell_type": "code",
   "execution_count": 67,
   "metadata": {},
   "outputs": [
    {
     "name": "stdout",
     "output_type": "stream",
     "text": [
      "  Accident_Index  Vehicle_Reference  Sex_of_Driver  Age_of_Driver  \\\n",
      "0  2016010000006                  1              2             36   \n",
      "1  2016010000008                  1              1             24   \n",
      "2  2016010000018                  1              1             20   \n",
      "3  2016010000019                  1              2             30   \n",
      "4  2016010000019                  2              1             27   \n",
      "\n",
      "   Age_of_Vehicle  Vehicle_Type  Day_of_Week   Time  1st_Road_Class  \\\n",
      "0               1             9            3  00:37               3   \n",
      "1               5             9            3  01:25               3   \n",
      "2              11             9            3  07:53               3   \n",
      "3              10             9            3  09:29               3   \n",
      "4               5             9            3  09:29               3   \n",
      "\n",
      "   Speed_limit  Light_Conditions  Weather_Conditions  Road_Surface_Conditions  \\\n",
      "0         30.0                 4                   1                        1   \n",
      "1         30.0                 4                   1                        1   \n",
      "2         40.0                 1                   1                        1   \n",
      "3         30.0                 1                   1                        1   \n",
      "4         30.0                 1                   1                        1   \n",
      "\n",
      "   Number_of_Casualties  Accident_Severity  \n",
      "0                     1                  0  \n",
      "1                     1                  0  \n",
      "2                     1                  0  \n",
      "3                     1                  0  \n",
      "4                     1                  0  \n"
     ]
    }
   ],
   "source": [
    "joined.shape\n",
    "print(joined.head(5))"
   ]
  },
  {
   "cell_type": "code",
   "execution_count": 19,
   "metadata": {},
   "outputs": [],
   "source": [
    "# import matplotlib.pyplot as plt\n",
    "# new = joined[['Sex_of_Driver']]\n",
    "# new_1 = pd.value_counts(new['Sex_of_Driver'])\n",
    "# # new_1.plot(kind='bar') Simple pl\n",
    "\n",
    "\n",
    "# fig, ax = plt.subplots()\n",
    "# ax.plot(new_1)\n",
    "# ax.legend(['Sex of the Driver'],loc='upper left',frameon=False)\n",
    "# ax.set_title('Number of Male and Females involved in Road Accidents')\n",
    "# ax.set_ylabel('Number of People')\n",
    "# fig.tight_layout()"
   ]
  },
  {
   "cell_type": "code",
   "execution_count": 20,
   "metadata": {},
   "outputs": [],
   "source": [
    "# new = new.ix[new['Sex_of_Driver']!=1] Future use"
   ]
  },
  {
   "cell_type": "markdown",
   "metadata": {},
   "source": [
    "## Descriptive Statistics:\n",
    "In this section, we create the following descritive plots: \n",
    "- Accidents by time of day and day of the week\n",
    "    - Hour \n",
    "    - Day\n",
    "- Accidents by speed limit\n",
    "    - All Accidents\n",
    "    - Serious & Fatal accidents\n",
    "- Accidents by gender\n",
    "- Accidents by age \n",
    "- Accidents by weather\n",
    "- Accidents by road conditions\n",
    "- Accidents by light conditions"
   ]
  },
  {
   "cell_type": "markdown",
   "metadata": {},
   "source": [
    "### Plot: Accidents by time of day and day of the week:"
   ]
  },
  {
   "cell_type": "code",
   "execution_count": 68,
   "metadata": {},
   "outputs": [],
   "source": [
    "#Convert the column 'Time' into only containing hours and not the minuts: \n",
    "joined['Hour'] = joined['Time'].map(lambda x: str(x).split(':')[0]) #Takes the hour\n",
    "joined['Hour'] = joined['Hour'].apply(pd.to_numeric, errors='coerce') #invalid parsing will be set as NaN\n",
    "\n",
    "#Loop to stack the number of accidents sorted by hours:\n",
    "hour = []\n",
    "number_of_accidents_hour = []\n",
    "for i in range(24):\n",
    "    hour.append(i)\n",
    "    accidents_per_hour = len(joined[joined['Hour'] == i])\n",
    "    number_of_accidents_hour.append(accidents_per_hour)\n",
    "#print(hour)\n",
    "#print(number_of_accidents_hour)\n",
    "\n",
    "#Next we are interested in the number of severe accidents per hour relative to the number of accidents per hour. \n",
    "#Loop for severe accidents:\n",
    "severe_accident = []\n",
    "num_of_fatal_acci = []\n",
    "for i in range(24):\n",
    "    severe_accident_hour = len(joined[(joined['Accident_Severity'] == 1) & (joined['Hour'] == i)])\n",
    "    severe_accident.append(severe_accident_hour)\n",
    "#print(severe_accident)\n",
    "\n",
    "#Create the relative percentage: \n",
    "percentage_severe_accidents = list(np.array(severe_accident) / np.array(number_of_accidents_hour))\n",
    "#print(percentage_severe_accidents)\n",
    "\n",
    "#Next we want to do the same for each day of the week: \n",
    "\n",
    "#Then repeat the process for the day of the week:\n",
    "sunday = len(joined[joined['Day_of_Week']==1])\n",
    "monday = len(joined[joined['Day_of_Week']==2])\n",
    "tuesday = len(joined[joined['Day_of_Week']==3])\n",
    "wednesday = len(joined[joined['Day_of_Week']==4])\n",
    "thursday = len(joined[joined['Day_of_Week']==5])\n",
    "friday = len(joined[joined['Day_of_Week']==6])\n",
    "saturday = len(joined[joined['Day_of_Week']==7])\n",
    "total_accidents = sunday + monday + tuesday + wednesday + thursday + friday + saturday\n",
    "day_list = [sunday, monday, tuesday, wednesday, thursday, friday, saturday]\n",
    "\n",
    "#Creating the percentage:\n",
    "sunday_pct = sunday / total_accidents\n",
    "monday_pct = monday / total_accidents\n",
    "tuesday_pct = tuesday / total_accidents\n",
    "wednesday_pct = wednesday / total_accidents\n",
    "thursday_pct = thursday / total_accidents\n",
    "friday_pct = friday / total_accidents\n",
    "saturday_pct = saturday / total_accidents\n",
    "\n",
    "day = []\n",
    "severe_accidents_day = []\n",
    "for i in range(1,8):\n",
    "    day.append(i)\n",
    "    severe_accidents_day.append(len(joined[(joined['Day_of_Week'] == i) & (joined['Accident_Severity'] == 1)]))\n",
    "    \n",
    "percentage_day = list(np.array(severe_accidents_day) / day_list)\n",
    "# print(percentage_day)\n",
    "\n",
    "#Defining variables:\n",
    "x1 = ['Sunday', 'Monday', 'Tuesday', 'Wednesday', 'Thursday', 'Friday', 'Saturday']\n",
    "x2 = ['','Sunday', 'Monday', 'Tuesday', 'Wednesday', 'Thursday', 'Friday', 'Saturday'] #Needed for subplots\n",
    "y1 = [sunday_pct, monday_pct, tuesday_pct, wednesday_pct, thursday_pct, friday_pct, saturday_pct]\n",
    "x1_ = list(range(len(x1)))"
   ]
  },
  {
   "cell_type": "code",
   "execution_count": 22,
   "metadata": {},
   "outputs": [
    {
     "name": "stderr",
     "output_type": "stream",
     "text": [
      "C:\\Users\\jalarsen\\AppData\\Local\\Continuum\\anaconda3\\lib\\site-packages\\matplotlib\\cbook\\deprecation.py:107: MatplotlibDeprecationWarning: Adding an axes using the same arguments as a previous axes currently reuses the earlier instance.  In a future version, a new instance will always be created and returned.  Meanwhile, this warning can be suppressed, and the future behavior ensured, by passing a unique label to each axes instance.\n",
      "  warnings.warn(message, mplDeprecation, stacklevel=1)\n"
     ]
    },
    {
     "data": {
      "image/png": "[encoded data removed]",
      "text/plain": [
       "<Figure size 1008x576 with 4 Axes>"
      ]
     },
     "metadata": {},
     "output_type": "display_data"
    }
   ],
   "source": [
    "#Create the plot for both figures:\n",
    "#fig, (ax, ax2, axhour, axday) = plt.subplots(nrows=2, ncols=2, figsize=(14, 8))\n",
    "fig = plt.figure(figsize=(14,8))\n",
    "\n",
    "#Plot for the hour of day:\n",
    "ax = fig.add_subplot(221)\n",
    "ax.plot(hour, number_of_accidents_hour, color='#0504aa')\n",
    "ax.legend(['Road Accidents'],loc='upper left',frameon=False)\n",
    "ax.set_title('Plot A: Accidents per Hour')\n",
    "ax.set_ylabel('Number of Accidents', size = 10)\n",
    "ax.minorticks_on()\n",
    "ax.set_xlabel('Time(Hour)')\n",
    "ax.get_yaxis().set_label_coords(-0.1,0.5)\n",
    "ax.grid(True)\n",
    "\n",
    "#Plot fo the day of the week:\n",
    "ax2 = fig.add_subplot(222)\n",
    "ax2.bar(x1_, y1, color='#0504aa', zorder=3)\n",
    "ax2.set_xticklabels(x2, rotation=45)\n",
    "ax2.set_title(\"Plot B: Percentage of accidents per day\")\n",
    "ax2.yaxis.set_label_position(\"right\")\n",
    "ax2.yaxis.tick_right()\n",
    "ax2.grid(True, zorder=0)\n",
    "ax2.set_ylim([0.10, 0.17])\n",
    "vals10 = ax2.get_yticks()\n",
    "ax2.set_yticklabels(['{:,.0%}'.format(x1_) for x1_ in vals10]) #edit \"1\" to \"2\" if more decimals are needed.\n",
    "ax1 = fig.add_subplot(221)\n",
    "\n",
    "axhour = fig.add_subplot(223)\n",
    "axhour.plot(hour, percentage_severe_accidents, color='#0504aa')\n",
    "axhour.legend(['Severe Accidents'],loc='upper right',frameon=False)\n",
    "axhour.set_title('Plot C: Percentage severe accidents per Hour')\n",
    "axhour.set_ylabel('Number of Accidents', size = 10)\n",
    "axhour.minorticks_on()\n",
    "axhour.set_xlabel('Time(Hour)')\n",
    "axhour.grid(True)\n",
    "axhour.get_yaxis().set_label_coords(-0.1,0.5)\n",
    "valshour = axhour.get_yticks()\n",
    "axhour.set_yticklabels(['{:,.0%}'.format(percentage_severe_accidents) for percentage_severe_accidents in valshour]) #edit \"1\" to \"2\" if more decimals are needed.\n",
    "\n",
    "\n",
    "\n",
    "#Plot fo the day of the week:\n",
    "axday = fig.add_subplot(224)\n",
    "axday.bar(x1_, percentage_day, color='#0504aa', zorder=3)\n",
    "axday.set_xticklabels(x2, rotation=45)\n",
    "axday.set_title(\"Plot D: Percentage severe accidents per day\")\n",
    "axday.yaxis.set_label_position(\"right\")\n",
    "axday.yaxis.tick_right()\n",
    "axday.set_ylim([0.12, 0.19])\n",
    "axday.grid(True, zorder=0)\n",
    "valsday = axday.get_yticks()\n",
    "axday.set_yticklabels(['{:,.0%}'.format(percentage_day) for percentage_day in valsday]) #edit \"1\" to \"2\" if more decimals are needed.\n",
    "\n",
    "fig.tight_layout()\n",
    "\n",
    "plt.savefig('DayHour.png')"
   ]
  },
  {
   "cell_type": "markdown",
   "metadata": {},
   "source": [
    "### Plot: Accidents by Speed Limit:"
   ]
  },
  {
   "cell_type": "code",
   "execution_count": 174,
   "metadata": {},
   "outputs": [],
   "source": [
    "#First plot over speeding: \n",
    "#Creating needed variables:\n",
    "speed_20 = len(joined[joined['Speed_limit']==20.0])\n",
    "speed_30 = len(joined[joined['Speed_limit']==30.0])\n",
    "speed_40 = len(joined[joined['Speed_limit']==40.0])\n",
    "speed_50 = len(joined[joined['Speed_limit']==50.0])\n",
    "speed_60 = len(joined[joined['Speed_limit']==60.0])\n",
    "speed_70 = len(joined[joined['Speed_limit']==70.0])\n",
    "total_accidents_speed = speed_20 + speed_30 + speed_40 + speed_50 + speed_60 + speed_70\n",
    "#Percentage:\n",
    "speed_20_pct = speed_20 / total_accidents_speed\n",
    "speed_30_pct = speed_30 / total_accidents_speed\n",
    "speed_40_pct = speed_40 / total_accidents_speed\n",
    "speed_50_pct = speed_50 / total_accidents_speed\n",
    "speed_60_pct = speed_60 / total_accidents_speed\n",
    "speed_70_pct = speed_70 / total_accidents_speed\n",
    "#Defining variabels:\n",
    "x = ['20 mph.', '30 mph.', '40 mph.', '50 mph.','60 mph.', '70 mph.']\n",
    "y = [speed_20_pct, speed_30_pct, speed_40_pct, speed_50_pct, speed_60_pct, speed_70_pct]\n",
    "x_ = list(range(len(x)))\n",
    "\n",
    "#Creating second plot, showing the serious and fatal accidents. \n",
    "fataldata = joined[joined['Accident_Severity']==1]\n",
    "speed_20_ = len(fataldata[fataldata['Speed_limit']==20.0])\n",
    "speed_30_ = len(fataldata[fataldata['Speed_limit']==30.0])\n",
    "speed_40_ = len(fataldata[fataldata['Speed_limit']==40.0])\n",
    "speed_50_ = len(fataldata[fataldata['Speed_limit']==50.0])\n",
    "speed_60_ = len(fataldata[fataldata['Speed_limit']==60.0])\n",
    "speed_70_ = len(fataldata[fataldata['Speed_limit']==70.0])\n",
    "total_accidents_ = speed_20_ + speed_30_ + speed_40_ + speed_50_ + speed_60_ + speed_70_\n",
    "\n",
    "#Percentage relative number of accidents within the speed limit:\n",
    "speed_20_pct_ = speed_20_ / speed_20\n",
    "speed_30_pct_ = speed_30_ / speed_30\n",
    "speed_40_pct_ = speed_40_ / speed_40\n",
    "speed_50_pct_ = speed_50_ / speed_50\n",
    "speed_60_pct_ = speed_60_ / speed_60\n",
    "speed_70_pct_ = speed_70_ / speed_70\n",
    "\n",
    "x3 = ['20 mph.', '30 mph.', '40 mph.', '50 mph.','60 mph.', '70 mph.']\n",
    "x33 = ['','20 mph.', '30 mph.', '40 mph.', '50 mph.','60 mph.', '70 mph.'] #Needed for Subplot\n",
    "y3 = [speed_20_pct_, speed_30_pct_, speed_40_pct_, speed_50_pct_, speed_60_pct_, speed_70_pct_]\n",
    "x3_ = list(range(len(x3)))"
   ]
  },
  {
   "cell_type": "code",
   "execution_count": 257,
   "metadata": {},
   "outputs": [
    {
     "data": {
      "image/png": "[encoded data removed]",
      "text/plain": [
       "<Figure size 864x288 with 2 Axes>"
      ]
     },
     "metadata": {},
     "output_type": "display_data"
    }
   ],
   "source": [
    "#Collecting the plots in one figure:\n",
    "fig2, (ax3, ax4) = plt.subplots(nrows=1, ncols=2, figsize=(12, 4))\n",
    "#Figure 1:\n",
    "ax3.bar(x_, y, color='#0504aa', zorder=3)\n",
    "ax3.set_xticklabels(x33, rotation=45)\n",
    "ax3.set_title(\"Plot A: Percentage of accidents\")\n",
    "ax3.grid(True, zorder=0)\n",
    "vals = ax3.get_yticks()\n",
    "ax3.set_yticklabels(['{:,.0%}'.format(x_) for x_ in vals]) #edit \"1\" to \"2\" if more decimals are needed.\n",
    "\n",
    "#Figure 2: \n",
    "ax4.bar(x3_, y3, color='#0504aa', zorder=3)\n",
    "ax4.set_xticklabels(x33, rotation=45)\n",
    "ax4.set_title(\"Plot B: Percentage of severe accidents\")\n",
    "ax4.yaxis.set_label_position(\"right\")\n",
    "ax4.yaxis.tick_right()\n",
    "ax4.set_ylim([0.10, 0.25])\n",
    "vals = ax4.get_yticks()\n",
    "ax4.grid(True, zorder=0)\n",
    "ax4.set_yticklabels(['{:,.0%}'.format(x3_) for x3_ in vals]) #edit \"1\" to \"2\" if more decimals are needed.\n",
    "\n",
    "fig2.tight_layout()\n",
    "plt.savefig('Speedlimit.png')"
   ]
  },
  {
   "cell_type": "markdown",
   "metadata": {},
   "source": [
    "### Plot: Accidents by Gender:"
   ]
  },
  {
   "cell_type": "code",
   "execution_count": 114,
   "metadata": {},
   "outputs": [],
   "source": [
    "#Loop for all accidents per gender:\n",
    "gender_1 = []\n",
    "fatal_accident_per_gender_1 = []\n",
    "for i in range(1,3):\n",
    "    gender_1.append(i)\n",
    "    fatal_accident_per_gender_1.append(len(joined[(joined['Sex_of_Driver'] == i)]))\n",
    "    \n",
    "total_1 = sum(fatal_accident_per_gender_1)\n",
    "percentage_1 = np.array(fatal_accident_per_gender_1) / total_1\n",
    "\n",
    "#Label for plot\n",
    "x5 = ['Male', 'Female']\n",
    "\n",
    "#Loop for fatal and serious accidents per gender relative to total number of accidents:\n",
    "gender_2 = []\n",
    "fatal_accident_per_gender_2 = []\n",
    "for i in range(1,3):\n",
    "    gender_2.append(i)\n",
    "    fatal_accident_per_gender_2.append(len(joined[(joined['Sex_of_Driver'] == i) & (joined['Accident_Severity'] == 1)]))\n",
    "\n",
    "total_2 = sum(fatal_accident_per_gender_2)\n",
    "fatal_accident_per_gender_3 = np.array(fatal_accident_per_gender_2)\n",
    "percentage_2 = fatal_accident_per_gender_3 / total_1"
   ]
  },
  {
   "cell_type": "code",
   "execution_count": 265,
   "metadata": {},
   "outputs": [
    {
     "data": {
      "image/png": "[encoded data removed]",
      "text/plain": [
       "<Figure size 864x288 with 2 Axes>"
      ]
     },
     "metadata": {},
     "output_type": "display_data"
    }
   ],
   "source": [
    "fig4, (ax8, ax9) = plt.subplots(nrows=1, ncols=2, figsize=(12, 4))\n",
    "ax8.bar(x5, percentage_1, color='#0504aa')\n",
    "ax8.set_xticklabels(x5, rotation=45, size=8)\n",
    "ax8.set_title(\"Plot A: Percentage of Accidents\", size=10)\n",
    "ax8.set_ylim([0.30, 0.65])\n",
    "vals2 = ax8.get_yticks()\n",
    "ax8.set_yticklabels(['{:,.0%}'.format(x5) for x5 in vals2], size=8) #edit \"1\" to \"2\" if more decimals are needed.\n",
    "\n",
    "ax9.bar(x5, percentage_2, color='skyblue')\n",
    "ax9.set_xticklabels(x5, rotation=45, size=8)\n",
    "ax9.set_title(\"Plot B: Percentage Severe Accidents\", size=10)\n",
    "ax9.set_ylim([0.03, 0.11])\n",
    "vals = ax9.get_yticks()\n",
    "ax9.set_yticklabels(['{:,.0%}'.format(x5) for x5 in vals], size=8) #edit \"1\" to \"2\" if more decimals are needed.\n",
    "\n",
    "fig4.tight_layout()\n",
    "plt.savefig('Gender.png')"
   ]
  },
  {
   "cell_type": "markdown",
   "metadata": {},
   "source": [
    "### Plot: Accidents by Age:"
   ]
  },
  {
   "cell_type": "code",
   "execution_count": 105,
   "metadata": {},
   "outputs": [],
   "source": [
    "#We will only consider legal drivers, which is at minumum 17 years old in UK: \n",
    "age = []\n",
    "accident_per_age = []\n",
    "for i in range(17, max(joined['Age_of_Driver'])): #+1) perhaps?\n",
    "    age.append(i)\n",
    "    accident_per_age.append(len(joined[(joined['Age_of_Driver'] == i) ]))\n",
    "#print(age)\n",
    "#print(accident_per_age)\n",
    "\n",
    "#Age relative to serious and fatal accidents:\n",
    "age2 = []\n",
    "accident_per_age2 = []\n",
    "for i in range(17, max(joined['Age_of_Driver'])): #+1) perhaps?\n",
    "    age2.append(i)\n",
    "    accident_per_age2.append(len(joined[(joined['Age_of_Driver'] == i) & (joined['Accident_Severity'] == 1) ]))\n",
    "#print(age2)\n",
    "#print(accident_per_age2)"
   ]
  },
  {
   "cell_type": "code",
   "execution_count": 262,
   "metadata": {},
   "outputs": [
    {
     "data": {
      "image/png": "[encoded data removed]",
      "text/plain": [
       "<Figure size 864x576 with 2 Axes>"
      ]
     },
     "metadata": {},
     "output_type": "display_data"
    }
   ],
   "source": [
    "fig3, (ax6, ax7) = plt.subplots(nrows=2, ncols=1, figsize=(12, 8))\n",
    "\n",
    "#Figure 1: \n",
    "ax6.plot(age, accident_per_age, color='#0504aa', marker = 'o')\n",
    "ax6.legend(['Car Accidents'],loc='upper right',frameon=False)\n",
    "ax6.set_title('Plot A: Road Accidents', size=12)\n",
    "ax6.set_ylabel('Number of Road Accidents', size =10)\n",
    "ax6.minorticks_on()\n",
    "ax6.set_xlabel('Age', size =10)\n",
    "ax6.get_yaxis().set_label_coords(-0.05,0.5)\n",
    "ax6.grid(True)\n",
    "\n",
    "#Figure2:\n",
    "ax7.plot(age2, accident_per_age2, color='#0504aa', marker = 'o')\n",
    "ax7.legend(['Severe Accidents'],loc='upper right',frameon=False)\n",
    "ax7.set_title('Plot B: Severe Road Accidents', size=12)\n",
    "ax7.set_ylabel('Number of Road Accidents', size =10)\n",
    "ax7.minorticks_on()\n",
    "ax7.set_xlabel('Age', size =10)\n",
    "ax7.grid(True)\n",
    "ax7.get_yaxis().set_label_coords(-0.05,0.5)\n",
    "fig3.tight_layout()\n",
    "\n",
    "plt.savefig('AgeCar.png')"
   ]
  },
  {
   "cell_type": "markdown",
   "metadata": {},
   "source": [
    "### Plot: Accidents by Weather:"
   ]
  },
  {
   "cell_type": "code",
   "execution_count": 192,
   "metadata": {},
   "outputs": [],
   "source": [
    "#Loop for all accidents per weather condition:\n",
    "weather = []\n",
    "accident_per_weather_1 = []\n",
    "for i in range(1,3):\n",
    "    weather.append(i)\n",
    "    accident_per_weather_1.append(len(joined[(joined['Weather_Conditions'] == i)]))\n",
    "    \n",
    "total_weather_1 = sum(accident_per_weather_1)\n",
    "percentage_weather_1 = np.array(accident_per_weather_1) / total_weather_1\n",
    "\n",
    "#Loop for fatal & serious accident:\n",
    "weather_2 = []\n",
    "fatal_accident_per_weather_1 = []\n",
    "for i in range(1,3):\n",
    "    weather_2.append(i)\n",
    "    fatal_accident_per_weather_1.append(len(joined[(joined['Weather_Conditions'] == i) & (joined['Accident_Severity'] == 1) ]))\n",
    "    \n",
    "total_weather_2 = sum(fatal_accident_per_weather_1)\n",
    "percentage_weather_2 = np.array(fatal_accident_per_weather_1) / total_weather_1\n",
    "#Calculate percentage of fatal & serious accidents relative to number of accidents in the specific condition: \n",
    "percentage_weather = np.array(fatal_accident_per_weather_1) / np.array(accident_per_weather_1)\n",
    "\n",
    "#Label for plot\n",
    "x_weather = ['Dry', 'Rain']"
   ]
  },
  {
   "cell_type": "code",
   "execution_count": 263,
   "metadata": {},
   "outputs": [
    {
     "data": {
      "image/png": "[encoded data removed]",
      "text/plain": [
       "<Figure size 576x288 with 2 Axes>"
      ]
     },
     "metadata": {},
     "output_type": "display_data"
    }
   ],
   "source": [
    "fig4, (ax10, ax11) = plt.subplots(nrows=1, ncols=2, figsize=(8, 4))\n",
    "ax10.bar(x_weather, percentage_weather_1, color='#0504aa')\n",
    "ax10.set_xticklabels(x_weather, rotation=45, size=8)\n",
    "ax10.set_title(\"Plot A: Accidents\", size=10)\n",
    "vals3 = ax11.get_yticks()\n",
    "ax10.set_yticklabels(['{:,.0%}'.format(x_weather) for x_weather in vals3], size=8) #edit \"1\" to \"2\" if more decimals are needed.\n",
    "\n",
    "ax11.bar(x_weather, percentage_weather, color='skyblue')\n",
    "ax11.set_xticklabels(x_weather, rotation=45, size=8)\n",
    "ax11.set_title(\"Plot B: Severe Accidents\", size=10)\n",
    "vals4 = ax11.get_yticks()\n",
    "ax11.set_yticklabels(['{:,.0%}'.format(x_weather) for x_weather in vals4], size=8) #edit \"1\" to \"2\" if more decimals are needed.\n",
    "\n",
    "fig4.tight_layout()\n",
    "plt.savefig('Weather.png')"
   ]
  },
  {
   "cell_type": "markdown",
   "metadata": {},
   "source": [
    "### Plot: Road Condtitions: "
   ]
  },
  {
   "cell_type": "code",
   "execution_count": 135,
   "metadata": {},
   "outputs": [],
   "source": [
    "#Loop for all accidents per road condtion:\n",
    "road_con = []\n",
    "accident_per_road_con_1 = []\n",
    "for i in range(1,3):\n",
    "    road_con.append(i)\n",
    "    accident_per_road_con_1.append(len(joined[(joined['Road_Surface_Conditions'] == i)]))\n",
    "    \n",
    "total_road_1 = sum(accident_per_road_con_1)\n",
    "percentage_road_1 = np.array(accident_per_road_con_1) / total_road_1\n",
    "\n",
    "#Loop for fatal & serious accident:\n",
    "road_2 = []\n",
    "fatal_accident_per_road_con = []\n",
    "for i in range(1,3):\n",
    "    road_2.append(i)\n",
    "    fatal_accident_per_road_con.append(len(joined[(joined['Road_Surface_Conditions'] == i) & (joined['Accident_Severity'] == 1) ]))\n",
    "    \n",
    "total_road_2 = sum(fatal_accident_per_road_con)\n",
    "percentage_road_2 = np.array(fatal_accident_per_road_con) / total_road_2\n",
    "#Calculate percentage of fatal & serious accidents relative to number of accidents in the specific condition: \n",
    "percentage_road = np.array(fatal_accident_per_road_con) / np.array(accident_per_road_con_1)\n",
    "\n",
    "#Label for plot\n",
    "x_road = ['Dry Road', 'Wet Road']"
   ]
  },
  {
   "cell_type": "code",
   "execution_count": 264,
   "metadata": {},
   "outputs": [
    {
     "data": {
      "image/png": "[encoded data removed]",
      "text/plain": [
       "<Figure size 576x288 with 2 Axes>"
      ]
     },
     "metadata": {},
     "output_type": "display_data"
    }
   ],
   "source": [
    "fig5, (ax12, ax13) = plt.subplots(nrows=1, ncols=2, figsize=(8, 4))\n",
    "ax12.bar(x_road, percentage_road_1, color='#0504aa')\n",
    "ax12.set_xticklabels(x_road, rotation=45, size=8)\n",
    "ax12.set_title(\"Plot A: Accidents\", size=10)\n",
    "vals5 = ax12.get_yticks()\n",
    "ax12.set_yticklabels(['{:,.0%}'.format(x_road) for x_road in vals5], size=8) #edit \"1\" to \"2\" if more decimals are needed.\n",
    "\n",
    "ax13.bar(x_road, percentage_road, color='skyblue')\n",
    "ax13.set_xticklabels(x_road, rotation=45, size=8)\n",
    "ax13.set_title(\"Plot B: Severe Accidents\", size=10)\n",
    "vals6 = ax13.get_yticks()\n",
    "ax13.set_yticklabels(['{:,.0%}'.format(x_road) for x_road in vals6], size=8) #edit \"1\" to \"2\" if more decimals are needed.\n",
    "\n",
    "fig5.tight_layout()\n",
    "plt.savefig('Road.png')"
   ]
  },
  {
   "cell_type": "markdown",
   "metadata": {},
   "source": [
    "### Plot: Light Conditions:"
   ]
  },
  {
   "cell_type": "code",
   "execution_count": 151,
   "metadata": {},
   "outputs": [
    {
     "name": "stdout",
     "output_type": "stream",
     "text": [
      "[0.71632722 0.28367278]\n"
     ]
    }
   ],
   "source": [
    "#DELETE IF NOT USEFUL, THE PERCENTAGE IS ALMOST IDENTICAL TO WEATHER CONDITION:\n",
    "\n",
    "#Loop for all accidents per light condtion:\n",
    "light_con = []\n",
    "accident_per_road_con_1 = []\n",
    "for i in range(1,3):\n",
    "    light_con.append(i)\n",
    "    accident_per_road_con_1.append(len(joined[(joined['Road_Surface_Conditions'] == i)]))\n",
    "    \n",
    "total_road_1 = sum(accident_per_road_con_1)\n",
    "percentage_road_1 = np.array(accident_per_road_con_1) / total_road_1\n",
    "print(percentage_road_1)\n",
    "#Loop for fatal & serious accident:\n",
    "road_2 = []\n",
    "fatal_accident_per_road_con = []\n",
    "for i in range(1,3):\n",
    "    road_2.append(i)\n",
    "    fatal_accident_per_road_con.append(len(joined[(joined['Road_Surface_Conditions'] == i) & (joined['Accident_Severity'] == 1) ]))\n",
    "    \n",
    "total_road_2 = sum(fatal_accident_per_road_con)\n",
    "percentage_road_2 = np.array(fatal_accident_per_road_con) / total_road_2\n",
    "#Calculate percentage of fatal & serious accidents relative to number of accidents in the specific condition: \n",
    "percentage_road = np.array(fatal_accident_per_road_con) / np.array(accident_per_road_con_1)\n",
    "\n",
    "#Label for plot\n",
    "x_light = ['Daylight', 'Dark with lights lit', 'Dark with no light']"
   ]
  },
  {
   "cell_type": "markdown",
   "metadata": {},
   "source": [
    "### Vehicle Age"
   ]
  },
  {
   "cell_type": "code",
   "execution_count": null,
   "metadata": {},
   "outputs": [],
   "source": []
  },
  {
   "cell_type": "markdown",
   "metadata": {},
   "source": [
    "# Machine Learning\n",
    "\n",
    "## Unsupervised Learning\n",
    "- **Clustering**"
   ]
  },
  {
   "cell_type": "code",
   "execution_count": 94,
   "metadata": {},
   "outputs": [
    {
     "data": {
      "text/plain": [
       "array([ 0.,  1.,  7.,  9.,  8., 10., 13., 14., 18., 16., 19., 20., 17.,\n",
       "        6., 15., 23., 21.,  2., 12., 11.,  4., 22.,  3.,  5.])"
      ]
     },
     "execution_count": 94,
     "metadata": {},
     "output_type": "execute_result"
    }
   ],
   "source": [
    "# Prepare data for ML\n",
    "\n",
    "joined_cl = joined\n",
    "joined_X = joined_cl.drop(['Accident_Index','Time', 'Accident_Severity'], axis=1)\n",
    "joined_y = joined_cl['Accident_Severity']\n",
    "\n",
    "\n",
    "joined_X = joined_X.dropna()\n",
    "joined_X.Hour.unique()"
   ]
  },
  {
   "cell_type": "code",
   "execution_count": 98,
   "metadata": {},
   "outputs": [
    {
     "name": "stdout",
     "output_type": "stream",
     "text": [
      "0.638239780331308\n",
      "[[ 1.  2. 36. ...  1.  1.  0.]\n",
      " [ 1.  1. 24. ...  1.  1.  1.]\n",
      " [ 1.  1. 20. ...  1.  1.  7.]\n",
      " ...\n",
      " [ 1.  1. 67. ...  2.  3. 15.]\n",
      " [ 1.  1. 27. ...  2.  2.  6.]\n",
      " [ 2.  1. 79. ...  2.  2. 15.]]\n"
     ]
    }
   ],
   "source": [
    "# Clustering - Unscaled\n",
    "from sklearn.cluster import KMeans\n",
    "from sklearn import preprocessing, cross_validation\n",
    "\n",
    "# Changing the 'joined' dataset to array\n",
    "joined_cl = joined\n",
    "joined_cl = joined_cl.dropna()\n",
    "joined_X = joined_cl.drop(['Accident_Index','Time', 'Accident_Severity'], axis=1)\n",
    "joined_y = joined_cl['Accident_Severity']\n",
    "\n",
    "X = joined_X.values\n",
    "y = joined_y.values\n",
    "\n",
    "\n",
    "# KMeans\n",
    "clf = KMeans(n_clusters=2)\n",
    "clf.fit(X)\n",
    "\n",
    "correct = 0\n",
    "for i in range(len(X)):\n",
    "    predict_me = np.array(X[i])\n",
    "    predict_me = predict_me.reshape(-1, len(predict_me))\n",
    "    prediction = clf.predict(predict_me)\n",
    "    if prediction[0] == y[i]:\n",
    "        correct += 1\n",
    "        \n",
    "print(correct/len(X))\n",
    "print(X)"
   ]
  },
  {
   "cell_type": "code",
   "execution_count": 96,
   "metadata": {},
   "outputs": [
    {
     "name": "stdout",
     "output_type": "stream",
     "text": [
      "0.6506730756427839\n"
     ]
    }
   ],
   "source": [
    "# Clustering - Unscaled\n",
    "from sklearn.cluster import KMeans\n",
    "from sklearn import preprocessing, cross_validation\n",
    "\n",
    "# Changing the 'joined' dataset to array\n",
    "joined_cl = joined\n",
    "joined_cl = joined_cl.dropna()\n",
    "joined_X = joined_cl.drop(['Accident_Index','Time', 'Accident_Severity'], axis=1)\n",
    "joined_y = joined_cl['Accident_Severity']\n",
    "\n",
    "X = joined_X.values\n",
    "X = preprocessing.scale(X)\n",
    "y = joined_y.values\n",
    "\n",
    "\n",
    "# KMeans\n",
    "clf = KMeans(n_clusters=2)\n",
    "clf.fit(X)\n",
    "\n",
    "correct = 0\n",
    "for i in range(len(X)):\n",
    "    predict_me = np.array(X[i])\n",
    "    predict_me = predict_me.reshape(-1, len(predict_me))\n",
    "    prediction = clf.predict(predict_me)\n",
    "    if prediction[0] == y[i]:\n",
    "        correct += 1\n",
    "        \n",
    "print(correct/len(X))\n",
    "print(X)"
   ]
  },
  {
   "cell_type": "code",
   "execution_count": 97,
   "metadata": {},
   "outputs": [
    {
     "name": "stdout",
     "output_type": "stream",
     "text": [
      "[[-0.75109046  1.33539583 -0.20877322 ... -0.62928851 -0.53817925\n",
      "  -2.78313666]\n",
      " [-0.75109046 -0.74884164 -0.94754326 ... -0.62928851 -0.53817925\n",
      "  -2.58060476]\n",
      " [-0.75109046 -0.74884164 -1.19379995 ... -0.62928851 -0.53817925\n",
      "  -1.36541335]\n",
      " ...\n",
      " [-0.75109046 -0.74884164  1.69971608 ...  1.58909624  1.50572728\n",
      "   0.25484186]\n",
      " [-0.75109046 -0.74884164 -0.76285075 ...  1.58909624  0.48377401\n",
      "  -1.56794525]\n",
      " [ 0.58790548 -0.74884164  2.43848613 ...  1.58909624  0.48377401\n",
      "   0.25484186]]\n"
     ]
    }
   ],
   "source": []
  },
  {
   "cell_type": "markdown",
   "metadata": {},
   "source": [
    "## Supervised Learning\n"
   ]
  },
  {
   "cell_type": "code",
   "execution_count": null,
   "metadata": {},
   "outputs": [
    {
     "name": "stdout",
     "output_type": "stream",
     "text": [
      "LR: 0.856720 (0.003909)\n",
      "LDA: 0.856678 (0.003987)\n"
     ]
    }
   ],
   "source": [
    "import matplotlib.pyplot as plt\n",
    "from sklearn import model_selection\n",
    "from sklearn.linear_model import LogisticRegression\n",
    "from sklearn.tree import DecisionTreeClassifier\n",
    "from sklearn.neighbors import KNeighborsClassifier\n",
    "from sklearn.discriminant_analysis import LinearDiscriminantAnalysis\n",
    "from sklearn.naive_bayes import GaussianNB\n",
    "from sklearn.svm import SVC\n",
    "\n",
    "# Changing the 'joined' dataset to array\n",
    "joined_cl = joined\n",
    "joined_cl = joined_cl.dropna()\n",
    "joined_X = joined_cl.drop(['Accident_Index','Time', 'Accident_Severity'], axis=1)\n",
    "joined_y = joined_cl['Accident_Severity']\n",
    "\n",
    "X = joined_X.values\n",
    "X = preprocessing.scale(X)\n",
    "y = joined_y.values\n",
    "\n",
    "# Configuration for cross validation test\n",
    "seed = 7\n",
    "# Preparation of models\n",
    "models = []\n",
    "models.append(('LR', LogisticRegression()))\n",
    "models.append(('LDA', LinearDiscriminantAnalysis()))\n",
    "models.append(('KNN', KNeighborsClassifier()))\n",
    "models.append(('CART', DecisionTreeClassifier()))\n",
    "# models.append(('NB', GaussianNB()))\n",
    "models.append(('SVM', SVC()))\n",
    "\n",
    "# Evaluate each model in turn\n",
    "results = []\n",
    "names = []\n",
    "scoring = 'accuracy'\n",
    "for name, model in models:\n",
    "\tkfold = model_selection.KFold(n_splits=10, random_state=seed)\n",
    "\tcv_results = model_selection.cross_val_score(model, X, y, cv=kfold, scoring=scoring)\n",
    "\tresults.append(cv_results)\n",
    "\tnames.append(name)\n",
    "\tmsg = \"%s: %f (%f)\" % (name, cv_results.mean(), cv_results.std())\n",
    "\tprint(msg)\n",
    "# Boxplot algorithm comparison\n",
    "fig = plt.figure()\n",
    "fig.suptitle('Algorithm Comparison')\n",
    "ax = fig.add_subplot(111)\n",
    "plt.boxplot(results)\n",
    "ax.set_xticklabels(names)\n",
    "plt.show()"
   ]
  }
 ],
 "metadata": {
  "kernelspec": {
   "display_name": "Python 3",
   "language": "python",
   "name": "python3"
  },
  "language_info": {
   "codemirror_mode": {
    "name": "ipython",
    "version": 3
   },
   "file_extension": ".py",
   "mimetype": "text/x-python",
   "name": "python",
   "nbconvert_exporter": "python",
   "pygments_lexer": "ipython3",
   "version": "3.6.5"
  }
 },
 "nbformat": 4,
 "nbformat_minor": 2
}
