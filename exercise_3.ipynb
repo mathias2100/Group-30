{
 "cells": [
  {
   "cell_type": "markdown",
   "metadata": {},
   "source": [
    "# Exercise Set 3: Strings, requests and APIs\n",
    "\n",
    "*Morning, August 14, 2018*\n",
    "\n",
    "In this exercise set you will be working with collecting from the web. We will start out with some basic string operations and build on that to make a query for fetching data.\n",
    "\n",
    "In addition to DataCamp, you might find [this page](https://pythonprogramming.net/string-concatenation-formatting-intermediate-python-tutorial/) on pythonprogramming.net useful. [This page](https://www.python-course.eu/python3_sequential_data_types.php) give an introduction to the basics of strings and their related data types. "
   ]
  },
  {
   "cell_type": "markdown",
   "metadata": {},
   "source": [
    "## Exercise Section 3.1: Basic string operations and dictionaries"
   ]
  },
  {
   "cell_type": "markdown",
   "metadata": {},
   "source": [
    "Strings have multiple operations and functions associated. In this exercise we investigate a few of these. We also explore the sequence form of a string and how it can be sliced and accessed via indices.\n",
    "\n",
    "> **Ex. 3.1.1**: Let `s1='Chameleon'` and `s2='ham'`. Check whether the string `s2` is a substring of `s1`. Is `'hello'` a substring `'goodbye'`?\n",
    "\n",
    "> *Hint*: One string operation is to check whether a string `S` contains a substring `T`, this can be done with the `in` operator: `S in T`. "
   ]
  },
  {
   "cell_type": "code",
   "execution_count": 2,
   "metadata": {},
   "outputs": [
    {
     "data": {
      "text/plain": [
       "False"
      ]
     },
     "execution_count": 2,
     "metadata": {},
     "output_type": "execute_result"
    }
   ],
   "source": [
    "s1 = 'Chameleon'\n",
    "s2 = 'ham'\n",
    "s2 in s1\n",
    "'hello' in 'goodbye'\n",
    "\n",
    "# Another test / Janus"
   ]
  },
  {
   "cell_type": "markdown",
   "metadata": {},
   "source": [
    "> **Ex. 3.1.2**: From the string `s1` select the last four characters. What is the index of the character `a` in `s1`?\n",
    "\n",
    "> *Hint*: We can selecting a substring by slicing it with the `[]` notation, from the start to end where start is included and end is excluded. Recall that Python has zero-based indexing, see explanation [here](https://softwareengineering.stackexchange.com/questions/110804/why-are-zero-based-arrays-the-norm).\n"
   ]
  },
  {
   "cell_type": "code",
   "execution_count": 9,
   "metadata": {},
   "outputs": [
    {
     "name": "stdout",
     "output_type": "stream",
     "text": [
      "leon\n"
     ]
    },
    {
     "data": {
      "text/plain": [
       "2"
      ]
     },
     "execution_count": 9,
     "metadata": {},
     "output_type": "execute_result"
    }
   ],
   "source": [
    "print(s1[-4:])\n",
    "s1.index('a')"
   ]
  },
  {
   "cell_type": "markdown",
   "metadata": {},
   "source": [
    "In addition to the techniques above strings are equipped with an array of _methods_, for solving more complex tasks. For example the `str.join(list)` method will insert a string in between each element of a list. Oppositely `str1.split(str2)` splits `str1` into a list. `.strip()` removes spaces in the beginning and end of a word and `.format()` fills in specified blanks in a string.  Below we illustrate the use of each function\n",
    "\n",
    "```python\n",
    ">>> ','.join(['a','b']) \n",
    "'a,b'\n",
    "\n",
    ">>> ' Hello World! '.strip() \n",
    "'Hello World!'\n",
    "\n",
    ">>> 'Hello {w}'.format(w='World!') \n",
    "'Hello World!'\n",
    "\n",
    ">>> 'a,b,c'.split(',') \n",
    "['a','b','c']\n",
    "```"
   ]
  },
  {
   "cell_type": "markdown",
   "metadata": {},
   "source": [
    "> **Ex. 3.1.3:** Let `l1 = ['r ', 'Is', '>', ' < ', 'g ', '?']`. Create from `l1` the sentence \"Is r > g?\" using your knowledge about string formatting. Make sure there is only one space in between worlds."
   ]
  },
  {
   "cell_type": "code",
   "execution_count": 38,
   "metadata": {},
   "outputs": [
    {
     "name": "stdout",
     "output_type": "stream",
     "text": [
      "Is r>g?\n"
     ]
    }
   ],
   "source": [
    "# [Answer to Ex. 3.1.3]\n",
    "my_str = ['r ', 'Is', '>', ' < ', 'g ', '?']\n",
    "''.join(my_str)\n",
    "\n",
    "my_str2 = my_str[1] + ' ' + my_str[0].strip() + my_str[2].strip() + my_str[-2].strip() + my_str[-1] \n",
    "print(my_str2)\n"
   ]
  },
  {
   "cell_type": "markdown",
   "metadata": {},
   "source": [
    "### Dictionaries\n",
    "\n",
    "Dictionaries (or simply dicts) are a central building block of python. Python dicts are constructed from pairs of keys and values making them extremely versatile for data storage. Furthermore dicts correspond directly to the json file format.  \n",
    "\n",
    "> **Ex. 3.1.4**: Create an empty dictionary `words` using the `dict()`function. Then add each of the words in `['animal', 'coffee', 'python', 'unit', 'knowledge', 'tread', 'arise']` as a key, with the value being a boolean indicator for whether the word begins with a vowel. The results should look like `{'bacon': False, 'asynchronous': True ...}` "
   ]
  },
  {
   "cell_type": "code",
   "execution_count": 45,
   "metadata": {},
   "outputs": [
    {
     "name": "stdout",
     "output_type": "stream",
     "text": [
      "{'animal': True, 'coffee': False, 'python': False, 'unit': True, 'knowledge': False, 'tread': False, 'arise': True}\n",
      "animal\n",
      "a\n",
      "coffee\n",
      "c\n",
      "python\n",
      "p\n",
      "unit\n",
      "u\n",
      "knowledge\n",
      "k\n",
      "tread\n",
      "t\n",
      "arise\n",
      "a\n"
     ]
    }
   ],
   "source": [
    "words = dict()\n",
    "keys = ['animal', 'coffee', 'python', 'unit', 'knowledge', 'tread', 'arise']\n",
    "vowel = ['a', 'e', 'i', 'o', 'u']\n",
    "\n",
    "for i in keys: \n",
    "    if i[0] in vowel:\n",
    "        vk= True\n",
    "    else:\n",
    "        vk = False \n",
    "        \n",
    "    words[i]=vk\n",
    "print(words)\n",
    "    \n",
    "for i in keys:\n",
    "    print(i)\n",
    "    print(i[0])\n"
   ]
  },
  {
   "cell_type": "markdown",
   "metadata": {},
   "source": [
    "> **Ex. 3.1.5:** Loop through the dictionary `words`. In each iteration you should print a proper sentence stating if the current word begins with a vowel or not. \n",
    "\n",
    "> _Hint:_ You can loop through both keys and values simultaneously with the `.items()` method. [This](https://www.tutorialspoint.com/python/python_dictionary.htm) might help you."
   ]
  },
  {
   "cell_type": "code",
   "execution_count": 53,
   "metadata": {},
   "outputs": [
    {
     "name": "stdout",
     "output_type": "stream",
     "text": [
      "The word animal starts with a vowel\n",
      "The word coffee does not start with a vowel\n",
      "The word python does not start with a vowel\n",
      "The word unit starts with a vowel\n",
      "The word knowledge does not start with a vowel\n",
      "The word tread does not start with a vowel\n",
      "The word arise starts with a vowel\n"
     ]
    }
   ],
   "source": [
    "for x,y in words.items():\n",
    "    if y == True:\n",
    "        print(\"The word %s starts with a vowel\" %(x))\n",
    "    else:\n",
    "        print('The word', x, 'does not start with a vowel')"
   ]
  },
  {
   "cell_type": "markdown",
   "metadata": {},
   "source": [
    "<br>\n",
    "## Exercise Section 3.2: The punk API\n",
    "The [punk API](https://punkapi.com/) serves information about _beers_. It is a well made and well documented API which makes it great for learning about APIs. \n",
    "\n",
    "> **Ex. 3.2.1:** Read the documentation on the Punk API available [here](https://punkapi.com/documentation/v2). What is the server url (i.e. root endpoint) of the Punk API? Does it require authentication? Then use the Punk API to make a request for beers brewed before December, 2008 with an ABV of at least 8."
   ]
  },
  {
   "cell_type": "code",
   "execution_count": 57,
   "metadata": {},
   "outputs": [
    {
     "name": "stdout",
     "output_type": "stream",
     "text": [
      "https://api.punkapi.com/v2/beers?brewed_before=12-2008&abv_gt=8\n",
      "<class 'str'>\n",
      "[{\"id\":37,\"name\":\"Zephyr\",\"tagline\":\"There’s A Storm Brewing.\",\"first_brewed\":\"10/2008\",\"description\":\"A 9.2% Double IPA aged for 21 months in a 1965 Invergordon cask with 30 kg of fresh highland strawberries. This beer is a riot of whisky, caramel and strawberry, all tempered by a toe curling bitterness enducing rapture in all who taste it. Who needs champagne?\",\"image_url\":\"https://images.punkapi.com/v2/37.png\",\"abv\":12.5,\"ibu\":125,\"target_fg\":1016,\"target_og\":1087,\"ebc\":40,\"srm\":20,\"ph\":4.4,\"attenuation_level\":81.2,\"volume\":{\"value\":20,\"unit\":\"liters\"},\"boil_volume\":{\"value\":25,\"unit\":\"liters\"},\"method\":{\"mash_temp\":[{\"temp\":{\"value\":65,\"unit\":\"celsius\"},\"duration\":75}],\"fermentation\":{\"temp\":{\"value\":21,\"unit\":\"celsius\"}},\"twist\":\"Oak chips: 15g, Fresh strawberries: 3kg\"},\"ingredients\":{\"malt\":[{\"name\":\"Extra Pale\",\"amount\":{\"value\":6.3,\"unit\":\"kilograms\"}},{\"name\":\"Caramalt\",\"amount\":{\"value\":0.38,\"unit\":\"kilograms\"}},{\"name\":\"Crystal 150\",\"amount\":{\"value\":0.29,\"unit\":\"kilograms\"}}],\"hops\":[{\"name\":\"Columbus Extract\",\"amount\":{\"value\":31,\"unit\":\"grams\"},\"add\":\"start\",\"attribute\":\"bitter\"},{\"name\":\"Columbus\",\"amount\":{\"value\":19.5,\"unit\":\"grams\"},\"add\":\"start\",\"attribute\":\"bitter\"},{\"name\":\"Columbus\",\"amount\":{\"value\":19.5,\"unit\":\"grams\"},\"add\":\"middle\",\"attribute\":\"flavour\"},{\"name\":\"Centennial\",\"amount\":{\"value\":19.5,\"unit\":\"grams\"},\"add\":\"middle\",\"attribute\":\"flavour\"},{\"name\":\"Simcoe\",\"amount\":{\"value\":19.5,\"unit\":\"grams\"},\"add\":\"middle\",\"attribute\":\"flavour\"},{\"name\":\"Columbus\",\"amount\":{\"value\":19.5,\"unit\":\"grams\"},\"add\":\"end\",\"attribute\":\"flavour\"},{\"name\":\"Centennial\",\"amount\":{\"value\":19.5,\"unit\":\"grams\"},\"add\":\"end\",\"attribute\":\"flavour\"},{\"name\":\"Centennial\",\"amount\":{\"value\":115.5,\"unit\":\"grams\"},\"add\":\"dry hop\",\"attribute\":\"aroma\"},{\"name\":\"Columbus\",\"amount\":{\"value\":96,\"unit\":\"grams\"},\"add\":\"dry hop\",\"attribute\":\"aroma\"},{\"name\":\"Simcoe\",\"amount\":{\"value\":96,\"unit\":\"grams\"},\"add\":\"dry hop\",\"attribute\":\"aroma\"},{\"name\":\"Amarillo\",\"amount\":{\"value\":77,\"unit\":\"grams\"},\"add\":\"dry hop\",\"attribute\":\"aroma\"}],\"yeast\":\"Wyeast 1272 - American Ale II™\"},\"food_pairing\":[\"Poached eggs and smoked salmon\",\"Salt and pepper squid\",\"Key Lime Pie\"],\"brewers_tips\":\"Rack into a secondary fermenter and add your strawberries. Use a blow-off rather than an airlock as the fermentation can get pretty wild as the yeast starts using the sugar from the strawberries.\",\"contributed_by\":\"Sam Mason <samjbmason>\"},{\"id\":52,\"name\":\"Paradox Islay\",\"tagline\":\"Ubiquitous Imperial Stout.\",\"first_brewed\":\"04/2007\",\"description\":\"In 2006 James and Martin hijacked a beer dinner run by Michael Jackson, the acclaimed beer and whisky writer, and convinced him to taste one of their home brews. This was a defining moment in BrewDog prehistory, and that beer was the first incarnation of the ubiquitous Paradox. Aged in a variety of casks over the years, Paradox is dark, decadent and encapsulating. Can be enjoyed fresh; phenomenal when aged.\",\"image_url\":\"https://images.punkapi.com/v2/52.png\",\"abv\":10,\"ibu\":55,\"target_fg\":1014,\"target_og\":1090,\"ebc\":300,\"srm\":152,\"ph\":4.4,\"attenuation_level\":84.4,\"volume\":{\"value\":20,\"unit\":\"liters\"},\"boil_volume\":{\"value\":25,\"unit\":\"liters\"},\"method\":{\"mash_temp\":[{\"temp\":{\"value\":65,\"unit\":\"celsius\"},\"duration\":90}],\"fermentation\":{\"temp\":{\"value\":21,\"unit\":\"celsius\"}},\"twist\":\"Try ageing on oak chips, infusing with rum raisins, or vanilla pods\"},\"ingredients\":{\"malt\":[{\"name\":\"Extra Pale\",\"amount\":{\"value\":4.5,\"unit\":\"kilograms\"}},{\"name\":\"Caramalt\",\"amount\":{\"value\":0.55,\"unit\":\"kilograms\"}},{\"name\":\"Munich\",\"amount\":{\"value\":0.33,\"unit\":\"kilograms\"}},{\"name\":\"Flaked Oats\",\"amount\":{\"value\":1.35,\"unit\":\"kilograms\"}},{\"name\":\"Dark Crystal\",\"amount\":{\"value\":0.55,\"unit\":\"kilograms\"}},{\"name\":\"Carafa Special Malt Type 1\",\"amount\":{\"value\":0.18,\"unit\":\"kilograms\"}},{\"name\":\"Carafa Special Malt Type 3\",\"amount\":{\"value\":0.33,\"unit\":\"kilograms\"}}],\"hops\":[{\"name\":\"Columbus\",\"amount\":{\"value\":75,\"unit\":\"grams\"},\"add\":\"start\",\"attribute\":\"bitter\"},{\"name\":\"Columbus\",\"amount\":{\"value\":25,\"unit\":\"grams\"},\"add\":\"middle\",\"attribute\":\"flavour\"},{\"name\":\"Saaz\",\"amount\":{\"value\":25,\"unit\":\"grams\"},\"add\":\"end\",\"attribute\":\"flavour\"},{\"name\":\"First Gold\",\"amount\":{\"value\":25,\"unit\":\"grams\"},\"add\":\"end\",\"attribute\":\"flavour\"}],\"yeast\":\"Wyeast 1272 - American Ale II™\"},\"food_pairing\":[\"Ancho chilli beef taco\",\"Chocolate gateaux\",\"Rum poached pears with dark chocolate sauce\"],\"brewers_tips\":\"The beauty of this beer is in how brilliantly it lends itself to infusing or ageing. Experiment with different additions when the beer is ageing, taste it regularly to gauge its progress, and make sure you package it at its peak.\",\"contributed_by\":\"Sam Mason <samjbmason>\"},{\"id\":58,\"name\":\"Coffee Imperial Stout\",\"tagline\":\"Beats a Cup of Joe.\",\"first_brewed\":\"11/2008\",\"description\":\"This beer was released as both as \\\"Danish Beerhouse Coffee Imperial Stout\\\" and \\\"BrewDog Coffee Imperial Stout\\\". Deep, dark, roasted flavours make this a perfect Sunday brunch beer.\",\"image_url\":\"https://images.punkapi.com/v2/58.png\",\"abv\":9,\"ibu\":65,\"target_fg\":1019,\"target_og\":1080,\"ebc\":97,\"srm\":49,\"ph\":4.4,\"attenuation_level\":76,\"volume\":{\"value\":20,\"unit\":\"liters\"},\"boil_volume\":{\"value\":25,\"unit\":\"liters\"},\"method\":{\"mash_temp\":[{\"temp\":{\"value\":64,\"unit\":\"celsius\"},\"duration\":90}],\"fermentation\":{\"temp\":{\"value\":19,\"unit\":\"celsius\"}},\"twist\":\"Coffee added after boil. Aged on French oak chips., Dark muscovado sugar: 312.5g for 20mins\"},\"ingredients\":{\"malt\":[{\"name\":\"Extra Pale\",\"amount\":{\"value\":7.5,\"unit\":\"kilograms\"}},{\"name\":\"Dark Crystal\",\"amount\":{\"value\":0.63,\"unit\":\"kilograms\"}},{\"name\":\"Chocolate\",\"amount\":{\"value\":0.31,\"unit\":\"kilograms\"}},{\"name\":\"Roast Barley\",\"amount\":{\"value\":0.31,\"unit\":\"kilograms\"}}],\"hops\":[{\"name\":\"Chinook\",\"amount\":{\"value\":25,\"unit\":\"grams\"},\"add\":\"start\",\"attribute\":\"bitter\"},{\"name\":\"Galena\",\"amount\":{\"value\":25,\"unit\":\"grams\"},\"add\":\"start\",\"attribute\":\"bitter\"},{\"name\":\"Galena\",\"amount\":{\"value\":25,\"unit\":\"grams\"},\"add\":\"end\",\"attribute\":\"flavour\"},{\"name\":\"First Gold\",\"amount\":{\"value\":25,\"unit\":\"grams\"},\"add\":\"end\",\"attribute\":\"flavour\"},{\"name\":\"Coffee\",\"amount\":{\"value\":9.4,\"unit\":\"grams\"},\"add\":\"end\",\"attribute\":\"flavour\"},{\"name\":\"Coffee\",\"amount\":{\"value\":9.4,\"unit\":\"grams\"},\"add\":\"dry hop\",\"attribute\":\"aroma\"}],\"yeast\":\"Wyeast 1056 - American Ale™\"},\"food_pairing\":[\"Gooey chocolate brownies\",\"Chicken fried steak with cheesy mash\",\"Spicy chicken empanadas\"],\"brewers_tips\":\"Grind the coffee as if making an espresso to really get the most out of it.\",\"contributed_by\":\"Sam Mason <samjbmason>\"},{\"id\":149,\"name\":\"AB:03\",\"tagline\":\"Barrel-Aged Imperial Ale.\",\"first_brewed\":\"09/2008\",\"description\":\"This Abstrakt started life as a simple imperial Ale, but upon the addition of fresh Scottish raspberries and strawberries, and left to mature for 2 years in Invergordon whisky casks that had held whisky for over 40 years, this beer transcended into something new.\",\"image_url\":\"https://images.punkapi.com/v2/149.png\",\"abv\":10.5,\"ibu\":14,\"target_fg\":1013,\"target_og\":1093,\"ebc\":null,\"srm\":null,\"ph\":4.4,\"attenuation_level\":80,\"volume\":{\"value\":20,\"unit\":\"liters\"},\"boil_volume\":{\"value\":25,\"unit\":\"liters\"},\"method\":{\"mash_temp\":[{\"temp\":{\"value\":65,\"unit\":\"celsius\"},\"duration\":90}],\"fermentation\":{\"temp\":{\"value\":19,\"unit\":\"celsius\"}},\"twist\":\"Strawberries: 1kg, Raspberries: 1kg, Oak Chips: 75g\"},\"ingredients\":{\"malt\":[{\"name\":\"Extra Pale\",\"amount\":{\"value\":8,\"unit\":\"kilograms\"}}],\"hops\":[{\"name\":\"Magnum\",\"amount\":{\"value\":66.7,\"unit\":\"grams\"},\"add\":\"end\",\"attribute\":\"flavour\"}],\"yeast\":\"Wyeast 1056 - American Ale™\"},\"food_pairing\":[\"Haggis spring rolls\",\"Honey glazed duck breast\",\"Cranachan\"],\"brewers_tips\":\"Add your hops with five minutes of the boil left in a nod to the great lambic producers of Belgium.\",\"contributed_by\":\"Sam Mason <samjbmason>\"}]\n"
     ]
    }
   ],
   "source": [
    "# [Answer to Ex. 3.2.1]\n",
    "server_url = 'https://api.punkapi.com/v2/'\n",
    "endpoint_path = 'beers?brewed_before=12-2008&abv_gt=8'\n",
    "url = server_url + endpoint_path\n",
    "print(url)\n",
    "\n",
    "import requests\n",
    "response = requests.get(url) # submit query with `get` and save response \n",
    "response.ok\n",
    "print(type(response.text))\n",
    "print(response.text)"
   ]
  },
  {
   "cell_type": "markdown",
   "metadata": {},
   "source": [
    "> **Ex. 3.2.2:** What object type is the API's JSON response? What about the individual items in the container? Convert the response object to a suitable format and answer the following questions:\n",
    ">> 1) How many beers are in the JSON object?\n",
    ">>\n",
    ">> 2) Print the names of the beers in the JSON object using lower case characters.\n",
    ">>\n",
    ">> 3) Select the beer called Paradox Islay from the JSON object.\n",
    ">>\n",
    ">> 4) Which hop ingredients does the Paradox Islay contain?\n"
   ]
  },
  {
   "cell_type": "code",
   "execution_count": 90,
   "metadata": {},
   "outputs": [
    {
     "name": "stdout",
     "output_type": "stream",
     "text": [
      "<class 'method'>\n",
      "4\n",
      "zephyr\n",
      "paradox islay\n",
      "coffee imperial stout\n",
      "ab:03\n",
      "[{'add': 'start',\n",
      "  'amount': {'unit': 'grams', 'value': 75},\n",
      "  'attribute': 'bitter',\n",
      "  'name': 'Columbus'},\n",
      " {'add': 'middle',\n",
      "  'amount': {'unit': 'grams', 'value': 25},\n",
      "  'attribute': 'flavour',\n",
      "  'name': 'Columbus'},\n",
      " {'add': 'end',\n",
      "  'amount': {'unit': 'grams', 'value': 25},\n",
      "  'attribute': 'flavour',\n",
      "  'name': 'Saaz'},\n",
      " {'add': 'end',\n",
      "  'amount': {'unit': 'grams', 'value': 25},\n",
      "  'attribute': 'flavour',\n",
      "  'name': 'First Gold'}]\n"
     ]
    }
   ],
   "source": [
    "# [Answer to Ex. 3.2.2]\n",
    "import json \n",
    "import pprint \n",
    "\n",
    "response_json = response.json\n",
    "print(type(response_json))\n",
    "\n",
    "print(len(response_json()))\n",
    "print(response_json()[0].get('name').lower())\n",
    "print(response_json()[1].get('name').lower())\n",
    "print(response_json()[2].get('name').lower())\n",
    "print(response_json()[3].get('name').lower())\n",
    "pprint.pprint(response_json()[1].get('ingredients').get('hops'))\n"
   ]
  },
  {
   "cell_type": "markdown",
   "metadata": {},
   "source": [
    "> **Ex. 3.2.3:** Save the beers as a JSON file on your machine.\n",
    "\n",
    "> _Hint:_ you might want to take a look at the [json](https://docs.python.org/3/library/json.html) module.\n"
   ]
  },
  {
   "cell_type": "code",
   "execution_count": 78,
   "metadata": {},
   "outputs": [],
   "source": [
    "# [Answer to Ex. 3.2.3]\n",
    "\n",
    "with open('Exercise_3_set.json', 'w') as f:\n",
    "    response_json = json.dumps(response.json())\n",
    "    f.write(response_json)"
   ]
  },
  {
   "cell_type": "markdown",
   "metadata": {},
   "source": [
    "<br>\n",
    "## Exercise Section 3.3: The DST API\n",
    "\n",
    "DST (Statistics Denmark) provide an API access to their aggregate data. For developers they supply a [console](https://api.statbank.dk/console) for testing. In this exercise we will first code up a simple script which can collect data from the DST API, and then introduce the [PyDST](https://kristianuruplarsen.github.io/PyDST/) package. \n",
    "\n",
    "> **Ex 3.3.1:** Use the API console to construct a GET request which retrieves the table FOLK1A split by quarter. The return should be in JSON format. We want all available dates.\n",
    ">\n",
    ">Then write a function `construct_link()` which takes as inputs: a table ID (e.g. `'FOLK1A'`) and a list of strings like `['var1=*', 'var2=somevalue']`. The function should return the proper URL for getting a dataset with the specified variables (e.g. in this case all levels of var1, but only where var2=somevalue).\n",
    "\n",
    "> _Hint:_ The time variable is called 'tid'. To select all available values, set the value-id to '*'. Spend a little time with the console to get a sense of how the URLs are constructed.\n"
   ]
  },
  {
   "cell_type": "code",
   "execution_count": 17,
   "metadata": {},
   "outputs": [],
   "source": [
    "# [Answer to Ex. 3.3.1]\n",
    "\n"
   ]
  },
  {
   "cell_type": "markdown",
   "metadata": {},
   "source": [
    "When executing the request in the console you should get a json file as output. Next lets write some code to load these json files directly into python. \n",
    "\n",
    "\n",
    "> **Ex. 3.3.2:** use the `requests` module (get it with `pip install requests`) and `construct_link()` to request birth data from the \"FOD\" table. Get all available years (variable \"Tid\"), but only female births (BARNKON=P) . Unpack the json payload and store the result. Wrap the whole thing in a function which takes an url as input and returns the corresponding output.\n",
    "\n",
    "> _Hint:_ The `requests.response` object has a `.json()` method. "
   ]
  },
  {
   "cell_type": "code",
   "execution_count": 5,
   "metadata": {},
   "outputs": [
    {
     "data": {
      "text/plain": [
       "{'dataset': {'dimension': {'BARNKON': {'label': 'sex of child',\n",
       "    'category': {'index': {'P': 0}, 'label': {'P': 'Girls'}}},\n",
       "   'ContentsCode': {'label': 'Indhold',\n",
       "    'category': {'index': {'FOD': 0},\n",
       "     'label': {'FOD': 'Live births'},\n",
       "     'unit': {'FOD': {'base': 'number', 'decimals': 0}}}},\n",
       "   'Tid': {'label': 'time',\n",
       "    'category': {'index': {'1973': 0,\n",
       "      '1974': 1,\n",
       "      '1975': 2,\n",
       "      '1976': 3,\n",
       "      '1977': 4,\n",
       "      '1978': 5,\n",
       "      '1979': 6,\n",
       "      '1980': 7,\n",
       "      '1981': 8,\n",
       "      '1982': 9,\n",
       "      '1983': 10,\n",
       "      '1984': 11,\n",
       "      '1985': 12,\n",
       "      '1986': 13,\n",
       "      '1987': 14,\n",
       "      '1988': 15,\n",
       "      '1989': 16,\n",
       "      '1990': 17,\n",
       "      '1991': 18,\n",
       "      '1992': 19,\n",
       "      '1993': 20,\n",
       "      '1994': 21,\n",
       "      '1995': 22,\n",
       "      '1996': 23,\n",
       "      '1997': 24,\n",
       "      '1998': 25,\n",
       "      '1999': 26,\n",
       "      '2000': 27,\n",
       "      '2001': 28,\n",
       "      '2002': 29,\n",
       "      '2003': 30,\n",
       "      '2004': 31,\n",
       "      '2005': 32,\n",
       "      '2006': 33,\n",
       "      '2007': 34,\n",
       "      '2008': 35,\n",
       "      '2009': 36,\n",
       "      '2010': 37,\n",
       "      '2011': 38,\n",
       "      '2012': 39,\n",
       "      '2013': 40,\n",
       "      '2014': 41,\n",
       "      '2015': 42,\n",
       "      '2016': 43,\n",
       "      '2017': 44},\n",
       "     'label': {'1973': '1973',\n",
       "      '1974': '1974',\n",
       "      '1975': '1975',\n",
       "      '1976': '1976',\n",
       "      '1977': '1977',\n",
       "      '1978': '1978',\n",
       "      '1979': '1979',\n",
       "      '1980': '1980',\n",
       "      '1981': '1981',\n",
       "      '1982': '1982',\n",
       "      '1983': '1983',\n",
       "      '1984': '1984',\n",
       "      '1985': '1985',\n",
       "      '1986': '1986',\n",
       "      '1987': '1987',\n",
       "      '1988': '1988',\n",
       "      '1989': '1989',\n",
       "      '1990': '1990',\n",
       "      '1991': '1991',\n",
       "      '1992': '1992',\n",
       "      '1993': '1993',\n",
       "      '1994': '1994',\n",
       "      '1995': '1995',\n",
       "      '1996': '1996',\n",
       "      '1997': '1997',\n",
       "      '1998': '1998',\n",
       "      '1999': '1999',\n",
       "      '2000': '2000',\n",
       "      '2001': '2001',\n",
       "      '2002': '2002',\n",
       "      '2003': '2003',\n",
       "      '2004': '2004',\n",
       "      '2005': '2005',\n",
       "      '2006': '2006',\n",
       "      '2007': '2007',\n",
       "      '2008': '2008',\n",
       "      '2009': '2009',\n",
       "      '2010': '2010',\n",
       "      '2011': '2011',\n",
       "      '2012': '2012',\n",
       "      '2013': '2013',\n",
       "      '2014': '2014',\n",
       "      '2015': '2015',\n",
       "      '2016': '2016',\n",
       "      '2017': '2017'}}},\n",
       "   'id': ['BARNKON', 'ContentsCode', 'Tid'],\n",
       "   'size': [1, 1, 45],\n",
       "   'role': {'metric': ['ContentsCode'], 'time': ['Tid']}},\n",
       "  'label': 'Live births by sex of child, Indhold and time',\n",
       "  'source': 'Statistics Denmark',\n",
       "  'updated': '2018-02-21T07:00:00Z',\n",
       "  'value': [34996,\n",
       "   34771,\n",
       "   35260,\n",
       "   31533,\n",
       "   30055,\n",
       "   30161,\n",
       "   28909,\n",
       "   27941,\n",
       "   25972,\n",
       "   25595,\n",
       "   24821,\n",
       "   25228,\n",
       "   26284,\n",
       "   26878,\n",
       "   27142,\n",
       "   28520,\n",
       "   29876,\n",
       "   30813,\n",
       "   31353,\n",
       "   32914,\n",
       "   32760,\n",
       "   34027,\n",
       "   33885,\n",
       "   32819,\n",
       "   32899,\n",
       "   32116,\n",
       "   32341,\n",
       "   32652,\n",
       "   31961,\n",
       "   31109,\n",
       "   31441,\n",
       "   31539,\n",
       "   31459,\n",
       "   31580,\n",
       "   31267,\n",
       "   31507,\n",
       "   30557,\n",
       "   30946,\n",
       "   28984,\n",
       "   28131,\n",
       "   27283,\n",
       "   27616,\n",
       "   28357,\n",
       "   29833,\n",
       "   29930]}}"
      ]
     },
     "execution_count": 5,
     "metadata": {},
     "output_type": "execute_result"
    }
   ],
   "source": [
    "# [Answer to Ex. 3.3.2]\n",
    "# [Answer to Ex. 3.3.2 here] # missing\n",
    "import requests\n",
    "def construct_link(table_id, variables):\n",
    "    base = 'https://api.statbank.dk/v1/data/{id}/JSONSTAT?lang=en'.format(id = table_id)\n",
    "   \n",
    "    for var in variables:\n",
    "        base += '&{v}'.format(v = var)\n",
    " \n",
    "    return base\n",
    "\n",
    "urll = construct_link('FOD',['Tid=*','BARNKON=P'])\n",
    "\n",
    "def my_func(url):\n",
    "    birth_d = requests.get(url)\n",
    "    bd_json = birth_d.json()\n",
    "    return bd_json\n",
    "\n",
    "my_func(urll)"
   ]
  },
  {
   "cell_type": "markdown",
   "metadata": {},
   "source": [
    "> **Ex. 3.3.3:** Extract the number of girls born each year. Store the results as a list."
   ]
  },
  {
   "cell_type": "code",
   "execution_count": 21,
   "metadata": {},
   "outputs": [],
   "source": [
    "# [Answer to Ex. 3.3.3]"
   ]
  },
  {
   "cell_type": "markdown",
   "metadata": {},
   "source": [
    "> ** Ex.3.3.4:** Repeat 3.3.2 and 3.3.3 but this time only get boy births (BARNKON=D). Store the numbers in a new list and use the `plot_births` (supplied below) function to plot the data. If you don't already have matplotlib installed run `pip install matplotlib`."
   ]
  },
  {
   "cell_type": "code",
   "execution_count": 88,
   "metadata": {},
   "outputs": [],
   "source": [
    "# Just run this once, do not change it.\n",
    "import matplotlib.pyplot as plt \n",
    "\n",
    "def plot_births(boys, girls):\n",
    "    \"\"\" Plots lineplot of the number of births split by gender.\n",
    "    \n",
    "    Args: \n",
    "        boys: a list of boy births by year\n",
    "        girls: a list of girl births by year\n",
    "    \"\"\"\n",
    "    if not len(boys) == len(girls):\n",
    "        raise ValueError('There must be the same number of observations for boys and girls')\n",
    "    \n",
    "    labels = ['{y}'.format(y=year) for year in range(1973,2018)]\n",
    "    \n",
    "    plt.plot(range(len(boys)), boys, color = 'blue', label = 'boys')\n",
    "    plt.plot(range(len(boys)), girls, color = 'red', label = 'girls')\n",
    "    plt.xticks([i for i in range(len(boys)) if i%4 == 0], [l for i,l in zip(range(len(boys)),labels) if i%4 == 0],\n",
    "               rotation = 'vertical')\n",
    "    plt.legend()\n",
    "    plt.show()"
   ]
  },
  {
   "cell_type": "code",
   "execution_count": 24,
   "metadata": {},
   "outputs": [],
   "source": [
    "# [Answer to Ex. 3.3.4]"
   ]
  },
  {
   "cell_type": "markdown",
   "metadata": {},
   "source": [
    ">**(Bonus question) Ex. 3.3.5:** Go to [https://kristianuruplarsen.github.io/PyDST/](https://kristianuruplarsen.github.io/PyDST/) follow the installation instructions and import PyDST. Try to replicate the birth figure from 3.3.4 using PyDST. Use [the documentation](https://kristianuruplarsen.github.io/PyDST/connection) to learn how the package works.\n",
    "\n",
    "> _Hint:_ PyDST does not use json or dicts as its primary data format, instead it uses pandas DataFrames. When you install PyDST it will install pandas as a dependency. If this doesn't work simply run `pip install pandas` in your console. DataFrames are very intuitive to work with, for example accessing a column named 'name' is simply `data['name']` or `data.name`.\n",
    ">\n",
    "> In the next session you will learn more about pandas and DataFrames. If you are more comfortable with dicts, the data_response class has a `.dict` method you can use. "
   ]
  },
  {
   "cell_type": "code",
   "execution_count": 26,
   "metadata": {},
   "outputs": [],
   "source": [
    "# [Answer to Ex. 3.3.5]"
   ]
  }
 ],
 "metadata": {
  "kernelspec": {
   "display_name": "Python 3",
   "language": "python",
   "name": "python3"
  },
  "language_info": {
   "codemirror_mode": {
    "name": "ipython",
    "version": 3
   },
   "file_extension": ".py",
   "mimetype": "text/x-python",
   "name": "python",
   "nbconvert_exporter": "python",
   "pygments_lexer": "ipython3",
   "version": "3.6.6"
  }
 },
 "nbformat": 4,
 "nbformat_minor": 2
}
